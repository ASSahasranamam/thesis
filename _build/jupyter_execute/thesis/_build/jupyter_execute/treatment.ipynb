{
 "cells": [
  {
   "cell_type": "markdown",
   "metadata": {},
   "source": [
    "\n",
    "#  Statistics & Data Analysis\n"
   ]
  },
  {
   "cell_type": "markdown",
   "metadata": {},
   "source": [
    "##  Req"
   ]
  },
  {
   "cell_type": "markdown",
   "metadata": {},
   "source": [
    "#### Import Requirements"
   ]
  },
  {
   "cell_type": "markdown",
   "metadata": {},
   "source": [
    "##### HTML formatting"
   ]
  },
  {
   "cell_type": "code",
   "execution_count": 1,
   "metadata": {},
   "outputs": [
    {
     "data": {
      "text/html": [
       "<style type=\"text/css\">\n",
       "  table.dataframe td, table.dataframe th {\n",
       "    max-width: none;\n",
       "    white-space: normal;\n",
       "    line-height: normal;\n",
       "    padding: 0.3em 0.5em;\n",
       "  }\n",
       "</style>\n"
      ],
      "text/plain": [
       "<IPython.core.display.HTML object>"
      ]
     },
     "execution_count": 1,
     "metadata": {},
     "output_type": "execute_result"
    }
   ],
   "source": [
    "from IPython.display import HTML\n",
    "\n",
    "HTML(\"\"\"<style type=\"text/css\">\n",
    "  table.dataframe td, table.dataframe th {\n",
    "    max-width: none;\n",
    "</style>\n",
    "\"\"\")\n",
    "\n",
    "\n",
    "HTML(\"\"\"<style type=\"text/css\">\n",
    "  table.dataframe td, table.dataframe th {\n",
    "    max-width: none;\n",
    "    white-space: normal;\n",
    "  }\n",
    "</style>\n",
    "\"\"\")\n",
    "\n",
    "\n",
    "HTML(\"\"\"<style type=\"text/css\">\n",
    "  table.dataframe td, table.dataframe th {\n",
    "    max-width: none;\n",
    "    white-space: normal;\n",
    "    line-height: normal;\n",
    "  }\n",
    "</style>\n",
    "\"\"\")\n",
    "\n",
    "\n",
    "HTML(\"\"\"<style type=\"text/css\">\n",
    "  table.dataframe td, table.dataframe th {\n",
    "    max-width: none;\n",
    "    white-space: normal;\n",
    "    line-height: normal;\n",
    "    padding: 0.3em 0.5em;\n",
    "  }\n",
    "</style>\n",
    "\"\"\")"
   ]
  },
  {
   "cell_type": "code",
   "execution_count": 2,
   "metadata": {},
   "outputs": [
    {
     "ename": "FileNotFoundError",
     "evalue": "[Errno 2] No such file or directory: './NewCols.csv'",
     "output_type": "error",
     "traceback": [
      "\u001b[0;31m---------------------------------------------------------------------------\u001b[0m",
      "\u001b[0;31mFileNotFoundError\u001b[0m                         Traceback (most recent call last)",
      "\u001b[0;32m<ipython-input-2-37188242a9bf>\u001b[0m in \u001b[0;36m<module>\u001b[0;34m\u001b[0m\n\u001b[1;32m     10\u001b[0m \u001b[0;34m\u001b[0m\u001b[0m\n\u001b[1;32m     11\u001b[0m \u001b[0;34m\u001b[0m\u001b[0m\n\u001b[0;32m---> 12\u001b[0;31m \u001b[0mdata\u001b[0m \u001b[0;34m=\u001b[0m \u001b[0mpd\u001b[0m\u001b[0;34m.\u001b[0m\u001b[0mread_csv\u001b[0m\u001b[0;34m(\u001b[0m\u001b[0;34m\"./NewCols.csv\"\u001b[0m\u001b[0;34m)\u001b[0m\u001b[0;34m\u001b[0m\u001b[0;34m\u001b[0m\u001b[0m\n\u001b[0m\u001b[1;32m     13\u001b[0m \u001b[0;34m\u001b[0m\u001b[0m\n",
      "\u001b[0;32m/usr/local/lib/python3.9/site-packages/pandas/io/parsers.py\u001b[0m in \u001b[0;36mread_csv\u001b[0;34m(filepath_or_buffer, sep, delimiter, header, names, index_col, usecols, squeeze, prefix, mangle_dupe_cols, dtype, engine, converters, true_values, false_values, skipinitialspace, skiprows, skipfooter, nrows, na_values, keep_default_na, na_filter, verbose, skip_blank_lines, parse_dates, infer_datetime_format, keep_date_col, date_parser, dayfirst, cache_dates, iterator, chunksize, compression, thousands, decimal, lineterminator, quotechar, quoting, doublequote, escapechar, comment, encoding, dialect, error_bad_lines, warn_bad_lines, delim_whitespace, low_memory, memory_map, float_precision, storage_options)\u001b[0m\n\u001b[1;32m    608\u001b[0m     \u001b[0mkwds\u001b[0m\u001b[0;34m.\u001b[0m\u001b[0mupdate\u001b[0m\u001b[0;34m(\u001b[0m\u001b[0mkwds_defaults\u001b[0m\u001b[0;34m)\u001b[0m\u001b[0;34m\u001b[0m\u001b[0;34m\u001b[0m\u001b[0m\n\u001b[1;32m    609\u001b[0m \u001b[0;34m\u001b[0m\u001b[0m\n\u001b[0;32m--> 610\u001b[0;31m     \u001b[0;32mreturn\u001b[0m \u001b[0m_read\u001b[0m\u001b[0;34m(\u001b[0m\u001b[0mfilepath_or_buffer\u001b[0m\u001b[0;34m,\u001b[0m \u001b[0mkwds\u001b[0m\u001b[0;34m)\u001b[0m\u001b[0;34m\u001b[0m\u001b[0;34m\u001b[0m\u001b[0m\n\u001b[0m\u001b[1;32m    611\u001b[0m \u001b[0;34m\u001b[0m\u001b[0m\n\u001b[1;32m    612\u001b[0m \u001b[0;34m\u001b[0m\u001b[0m\n",
      "\u001b[0;32m/usr/local/lib/python3.9/site-packages/pandas/io/parsers.py\u001b[0m in \u001b[0;36m_read\u001b[0;34m(filepath_or_buffer, kwds)\u001b[0m\n\u001b[1;32m    460\u001b[0m \u001b[0;34m\u001b[0m\u001b[0m\n\u001b[1;32m    461\u001b[0m     \u001b[0;31m# Create the parser.\u001b[0m\u001b[0;34m\u001b[0m\u001b[0;34m\u001b[0m\u001b[0;34m\u001b[0m\u001b[0m\n\u001b[0;32m--> 462\u001b[0;31m     \u001b[0mparser\u001b[0m \u001b[0;34m=\u001b[0m \u001b[0mTextFileReader\u001b[0m\u001b[0;34m(\u001b[0m\u001b[0mfilepath_or_buffer\u001b[0m\u001b[0;34m,\u001b[0m \u001b[0;34m**\u001b[0m\u001b[0mkwds\u001b[0m\u001b[0;34m)\u001b[0m\u001b[0;34m\u001b[0m\u001b[0;34m\u001b[0m\u001b[0m\n\u001b[0m\u001b[1;32m    463\u001b[0m \u001b[0;34m\u001b[0m\u001b[0m\n\u001b[1;32m    464\u001b[0m     \u001b[0;32mif\u001b[0m \u001b[0mchunksize\u001b[0m \u001b[0;32mor\u001b[0m \u001b[0miterator\u001b[0m\u001b[0;34m:\u001b[0m\u001b[0;34m\u001b[0m\u001b[0;34m\u001b[0m\u001b[0m\n",
      "\u001b[0;32m/usr/local/lib/python3.9/site-packages/pandas/io/parsers.py\u001b[0m in \u001b[0;36m__init__\u001b[0;34m(self, f, engine, **kwds)\u001b[0m\n\u001b[1;32m    817\u001b[0m             \u001b[0mself\u001b[0m\u001b[0;34m.\u001b[0m\u001b[0moptions\u001b[0m\u001b[0;34m[\u001b[0m\u001b[0;34m\"has_index_names\"\u001b[0m\u001b[0;34m]\u001b[0m \u001b[0;34m=\u001b[0m \u001b[0mkwds\u001b[0m\u001b[0;34m[\u001b[0m\u001b[0;34m\"has_index_names\"\u001b[0m\u001b[0;34m]\u001b[0m\u001b[0;34m\u001b[0m\u001b[0;34m\u001b[0m\u001b[0m\n\u001b[1;32m    818\u001b[0m \u001b[0;34m\u001b[0m\u001b[0m\n\u001b[0;32m--> 819\u001b[0;31m         \u001b[0mself\u001b[0m\u001b[0;34m.\u001b[0m\u001b[0m_engine\u001b[0m \u001b[0;34m=\u001b[0m \u001b[0mself\u001b[0m\u001b[0;34m.\u001b[0m\u001b[0m_make_engine\u001b[0m\u001b[0;34m(\u001b[0m\u001b[0mself\u001b[0m\u001b[0;34m.\u001b[0m\u001b[0mengine\u001b[0m\u001b[0;34m)\u001b[0m\u001b[0;34m\u001b[0m\u001b[0;34m\u001b[0m\u001b[0m\n\u001b[0m\u001b[1;32m    820\u001b[0m \u001b[0;34m\u001b[0m\u001b[0m\n\u001b[1;32m    821\u001b[0m     \u001b[0;32mdef\u001b[0m \u001b[0mclose\u001b[0m\u001b[0;34m(\u001b[0m\u001b[0mself\u001b[0m\u001b[0;34m)\u001b[0m\u001b[0;34m:\u001b[0m\u001b[0;34m\u001b[0m\u001b[0;34m\u001b[0m\u001b[0m\n",
      "\u001b[0;32m/usr/local/lib/python3.9/site-packages/pandas/io/parsers.py\u001b[0m in \u001b[0;36m_make_engine\u001b[0;34m(self, engine)\u001b[0m\n\u001b[1;32m   1048\u001b[0m             )\n\u001b[1;32m   1049\u001b[0m         \u001b[0;31m# error: Too many arguments for \"ParserBase\"\u001b[0m\u001b[0;34m\u001b[0m\u001b[0;34m\u001b[0m\u001b[0;34m\u001b[0m\u001b[0m\n\u001b[0;32m-> 1050\u001b[0;31m         \u001b[0;32mreturn\u001b[0m \u001b[0mmapping\u001b[0m\u001b[0;34m[\u001b[0m\u001b[0mengine\u001b[0m\u001b[0;34m]\u001b[0m\u001b[0;34m(\u001b[0m\u001b[0mself\u001b[0m\u001b[0;34m.\u001b[0m\u001b[0mf\u001b[0m\u001b[0;34m,\u001b[0m \u001b[0;34m**\u001b[0m\u001b[0mself\u001b[0m\u001b[0;34m.\u001b[0m\u001b[0moptions\u001b[0m\u001b[0;34m)\u001b[0m  \u001b[0;31m# type: ignore[call-arg]\u001b[0m\u001b[0;34m\u001b[0m\u001b[0;34m\u001b[0m\u001b[0m\n\u001b[0m\u001b[1;32m   1051\u001b[0m \u001b[0;34m\u001b[0m\u001b[0m\n\u001b[1;32m   1052\u001b[0m     \u001b[0;32mdef\u001b[0m \u001b[0m_failover_to_python\u001b[0m\u001b[0;34m(\u001b[0m\u001b[0mself\u001b[0m\u001b[0;34m)\u001b[0m\u001b[0;34m:\u001b[0m\u001b[0;34m\u001b[0m\u001b[0;34m\u001b[0m\u001b[0m\n",
      "\u001b[0;32m/usr/local/lib/python3.9/site-packages/pandas/io/parsers.py\u001b[0m in \u001b[0;36m__init__\u001b[0;34m(self, src, **kwds)\u001b[0m\n\u001b[1;32m   1865\u001b[0m \u001b[0;34m\u001b[0m\u001b[0m\n\u001b[1;32m   1866\u001b[0m         \u001b[0;31m# open handles\u001b[0m\u001b[0;34m\u001b[0m\u001b[0;34m\u001b[0m\u001b[0;34m\u001b[0m\u001b[0m\n\u001b[0;32m-> 1867\u001b[0;31m         \u001b[0mself\u001b[0m\u001b[0;34m.\u001b[0m\u001b[0m_open_handles\u001b[0m\u001b[0;34m(\u001b[0m\u001b[0msrc\u001b[0m\u001b[0;34m,\u001b[0m \u001b[0mkwds\u001b[0m\u001b[0;34m)\u001b[0m\u001b[0;34m\u001b[0m\u001b[0;34m\u001b[0m\u001b[0m\n\u001b[0m\u001b[1;32m   1868\u001b[0m         \u001b[0;32massert\u001b[0m \u001b[0mself\u001b[0m\u001b[0;34m.\u001b[0m\u001b[0mhandles\u001b[0m \u001b[0;32mis\u001b[0m \u001b[0;32mnot\u001b[0m \u001b[0;32mNone\u001b[0m\u001b[0;34m\u001b[0m\u001b[0;34m\u001b[0m\u001b[0m\n\u001b[1;32m   1869\u001b[0m         \u001b[0;32mfor\u001b[0m \u001b[0mkey\u001b[0m \u001b[0;32min\u001b[0m \u001b[0;34m(\u001b[0m\u001b[0;34m\"storage_options\"\u001b[0m\u001b[0;34m,\u001b[0m \u001b[0;34m\"encoding\"\u001b[0m\u001b[0;34m,\u001b[0m \u001b[0;34m\"memory_map\"\u001b[0m\u001b[0;34m,\u001b[0m \u001b[0;34m\"compression\"\u001b[0m\u001b[0;34m)\u001b[0m\u001b[0;34m:\u001b[0m\u001b[0;34m\u001b[0m\u001b[0;34m\u001b[0m\u001b[0m\n",
      "\u001b[0;32m/usr/local/lib/python3.9/site-packages/pandas/io/parsers.py\u001b[0m in \u001b[0;36m_open_handles\u001b[0;34m(self, src, kwds)\u001b[0m\n\u001b[1;32m   1360\u001b[0m         \u001b[0mLet\u001b[0m \u001b[0mthe\u001b[0m \u001b[0mreaders\u001b[0m \u001b[0mopen\u001b[0m \u001b[0mIOHanldes\u001b[0m \u001b[0mafter\u001b[0m \u001b[0mthey\u001b[0m \u001b[0mare\u001b[0m \u001b[0mdone\u001b[0m \u001b[0;32mwith\u001b[0m \u001b[0mtheir\u001b[0m \u001b[0mpotential\u001b[0m \u001b[0mraises\u001b[0m\u001b[0;34m.\u001b[0m\u001b[0;34m\u001b[0m\u001b[0;34m\u001b[0m\u001b[0m\n\u001b[1;32m   1361\u001b[0m         \"\"\"\n\u001b[0;32m-> 1362\u001b[0;31m         self.handles = get_handle(\n\u001b[0m\u001b[1;32m   1363\u001b[0m             \u001b[0msrc\u001b[0m\u001b[0;34m,\u001b[0m\u001b[0;34m\u001b[0m\u001b[0;34m\u001b[0m\u001b[0m\n\u001b[1;32m   1364\u001b[0m             \u001b[0;34m\"r\"\u001b[0m\u001b[0;34m,\u001b[0m\u001b[0;34m\u001b[0m\u001b[0;34m\u001b[0m\u001b[0m\n",
      "\u001b[0;32m/usr/local/lib/python3.9/site-packages/pandas/io/common.py\u001b[0m in \u001b[0;36mget_handle\u001b[0;34m(path_or_buf, mode, encoding, compression, memory_map, is_text, errors, storage_options)\u001b[0m\n\u001b[1;32m    640\u001b[0m                 \u001b[0merrors\u001b[0m \u001b[0;34m=\u001b[0m \u001b[0;34m\"replace\"\u001b[0m\u001b[0;34m\u001b[0m\u001b[0;34m\u001b[0m\u001b[0m\n\u001b[1;32m    641\u001b[0m             \u001b[0;31m# Encoding\u001b[0m\u001b[0;34m\u001b[0m\u001b[0;34m\u001b[0m\u001b[0;34m\u001b[0m\u001b[0m\n\u001b[0;32m--> 642\u001b[0;31m             handle = open(\n\u001b[0m\u001b[1;32m    643\u001b[0m                 \u001b[0mhandle\u001b[0m\u001b[0;34m,\u001b[0m\u001b[0;34m\u001b[0m\u001b[0;34m\u001b[0m\u001b[0m\n\u001b[1;32m    644\u001b[0m                 \u001b[0mioargs\u001b[0m\u001b[0;34m.\u001b[0m\u001b[0mmode\u001b[0m\u001b[0;34m,\u001b[0m\u001b[0;34m\u001b[0m\u001b[0;34m\u001b[0m\u001b[0m\n",
      "\u001b[0;31mFileNotFoundError\u001b[0m: [Errno 2] No such file or directory: './NewCols.csv'"
     ]
    }
   ],
   "source": [
    "import numpy as np\n",
    "import pandas as pd\n",
    "import scipy\n",
    "import matplotlib.pyplot as plt\n",
    "from pandas.api.types import CategoricalDtype\n",
    "from plotnine import *\n",
    "from scipy.stats import *\n",
    "import scikit_posthocs   as sp\n",
    "\n",
    "\n",
    "\n",
    "data = pd.read_csv(\"./NewCols.csv\")\n",
    "\n"
   ]
  },
  {
   "cell_type": "markdown",
   "metadata": {},
   "source": [
    "## Calculating the differences between the noremalized values. "
   ]
  },
  {
   "cell_type": "code",
   "execution_count": 446,
   "metadata": {},
   "outputs": [
    {
     "name": "stderr",
     "output_type": "stream",
     "text": [
      "<ipython-input-446-f984afccbdb6>:9: SettingWithCopyWarning: \n",
      "A value is trying to be set on a copy of a slice from a DataFrame.\n",
      "Try using .loc[row_indexer,col_indexer] = value instead\n",
      "\n",
      "See the caveats in the documentation: https://pandas.pydata.org/pandas-docs/stable/user_guide/indexing.html#returning-a-view-versus-a-copy\n",
      "<ipython-input-446-f984afccbdb6>:11: SettingWithCopyWarning: \n",
      "A value is trying to be set on a copy of a slice from a DataFrame.\n",
      "Try using .loc[row_indexer,col_indexer] = value instead\n",
      "\n",
      "See the caveats in the documentation: https://pandas.pydata.org/pandas-docs/stable/user_guide/indexing.html#returning-a-view-versus-a-copy\n",
      "<ipython-input-446-f984afccbdb6>:13: SettingWithCopyWarning: \n",
      "A value is trying to be set on a copy of a slice from a DataFrame.\n",
      "Try using .loc[row_indexer,col_indexer] = value instead\n",
      "\n",
      "See the caveats in the documentation: https://pandas.pydata.org/pandas-docs/stable/user_guide/indexing.html#returning-a-view-versus-a-copy\n",
      "<ipython-input-446-f984afccbdb6>:15: SettingWithCopyWarning: \n",
      "A value is trying to be set on a copy of a slice from a DataFrame.\n",
      "Try using .loc[row_indexer,col_indexer] = value instead\n",
      "\n",
      "See the caveats in the documentation: https://pandas.pydata.org/pandas-docs/stable/user_guide/indexing.html#returning-a-view-versus-a-copy\n",
      "<ipython-input-446-f984afccbdb6>:19: SettingWithCopyWarning: \n",
      "A value is trying to be set on a copy of a slice from a DataFrame.\n",
      "Try using .loc[row_indexer,col_indexer] = value instead\n",
      "\n",
      "See the caveats in the documentation: https://pandas.pydata.org/pandas-docs/stable/user_guide/indexing.html#returning-a-view-versus-a-copy\n",
      "<ipython-input-446-f984afccbdb6>:21: SettingWithCopyWarning: \n",
      "A value is trying to be set on a copy of a slice from a DataFrame.\n",
      "Try using .loc[row_indexer,col_indexer] = value instead\n",
      "\n",
      "See the caveats in the documentation: https://pandas.pydata.org/pandas-docs/stable/user_guide/indexing.html#returning-a-view-versus-a-copy\n",
      "<ipython-input-446-f984afccbdb6>:23: SettingWithCopyWarning: \n",
      "A value is trying to be set on a copy of a slice from a DataFrame.\n",
      "Try using .loc[row_indexer,col_indexer] = value instead\n",
      "\n",
      "See the caveats in the documentation: https://pandas.pydata.org/pandas-docs/stable/user_guide/indexing.html#returning-a-view-versus-a-copy\n",
      "<ipython-input-446-f984afccbdb6>:25: SettingWithCopyWarning: \n",
      "A value is trying to be set on a copy of a slice from a DataFrame.\n",
      "Try using .loc[row_indexer,col_indexer] = value instead\n",
      "\n",
      "See the caveats in the documentation: https://pandas.pydata.org/pandas-docs/stable/user_guide/indexing.html#returning-a-view-versus-a-copy\n",
      "<ipython-input-446-f984afccbdb6>:27: SettingWithCopyWarning: \n",
      "A value is trying to be set on a copy of a slice from a DataFrame.\n",
      "Try using .loc[row_indexer,col_indexer] = value instead\n",
      "\n",
      "See the caveats in the documentation: https://pandas.pydata.org/pandas-docs/stable/user_guide/indexing.html#returning-a-view-versus-a-copy\n"
     ]
    }
   ],
   "source": [
    "data_control = data[data[\"treatment\"] == \"baseline\"]\n",
    "data_control.to_csv(\"./control.csv\")\n",
    "data_treatment = data[data[\"treatment\"] == \"intravenous LPS\"]\n",
    "data_control.to_csv(\"./lps.csv\")\n",
    "\n",
    "procData = data_treatment\n",
    "\n",
    "\n",
    "procData['diff_AVAR2'] = (\n",
    "    np.array(data_treatment[\"AVAR2\"]) - np.array(data_control[\"AVAR2\"])).tolist()\n",
    "procData[\"diff_CVAR2\"] = (\n",
    "    np.array(data_treatment[\"CVAR2\"]) - np.array(data_control[\"CVAR2\"])).tolist()\n",
    "procData[\"diff_AWT2\"] = (np.array(data_treatment[\"AWT2\"]) -\n",
    "                         np.array(data_control[\"AWT2\"])).tolist()\n",
    "procData[\"diff_CWT2\"] = (np.array(data_treatment[\"CWT2\"]) -\n",
    "                         np.array(data_control[\"CWT2\"])).tolist()\n",
    "\n",
    "\n",
    "procData[\"diff_total2\"] = (\n",
    "    np.array(data_treatment[\"total2\"]) - np.array(data_control[\"total2\"])).tolist()\n",
    "procData[\"diff_totalA\"] = (\n",
    "    np.array(data_treatment[\"totalA\"]) - np.array(data_control[\"totalA\"])).tolist()\n",
    "procData[\"diff_totalC\"] = (\n",
    "    np.array(data_treatment[\"totalC\"]) - np.array(data_control[\"totalC\"])).tolist()\n",
    "procData[\"diff_totalWT\"] = (np.array(\n",
    "    data_treatment[\"totalWT\"]) - np.array(data_control[\"totalWT\"])).tolist()\n",
    "procData[\"diff_totalVar\"] = (np.array(\n",
    "    data_treatment[\"totalVar\"]) - np.array(data_control[\"totalVar\"])).tolist()\n",
    "\n",
    "procData.to_csv(\"./procData.csv\")"
   ]
  },
  {
   "cell_type": "code",
   "execution_count": 447,
   "metadata": {},
   "outputs": [
    {
     "data": {
      "text/html": [
       "<div>\n",
       "<style scoped>\n",
       "    .dataframe tbody tr th:only-of-type {\n",
       "        vertical-align: middle;\n",
       "    }\n",
       "\n",
       "    .dataframe tbody tr th {\n",
       "        vertical-align: top;\n",
       "    }\n",
       "\n",
       "    .dataframe thead th {\n",
       "        text-align: right;\n",
       "    }\n",
       "</style>\n",
       "<table border=\"1\" class=\"dataframe\">\n",
       "  <thead>\n",
       "    <tr style=\"text-align: right;\">\n",
       "      <th></th>\n",
       "      <th>testGroup</th>\n",
       "      <th>tg2</th>\n",
       "    </tr>\n",
       "  </thead>\n",
       "  <tbody>\n",
       "    <tr>\n",
       "      <th>0</th>\n",
       "      <td>A-Var/C-Var</td>\n",
       "      <td>A-Var/C-Var</td>\n",
       "    </tr>\n",
       "    <tr>\n",
       "      <th>1</th>\n",
       "      <td>A-Var/C-Var</td>\n",
       "      <td>A-Var/C-Var</td>\n",
       "    </tr>\n",
       "    <tr>\n",
       "      <th>2</th>\n",
       "      <td>AWT</td>\n",
       "      <td>AWT</td>\n",
       "    </tr>\n",
       "    <tr>\n",
       "      <th>3</th>\n",
       "      <td>error</td>\n",
       "      <td>Error</td>\n",
       "    </tr>\n",
       "    <tr>\n",
       "      <th>4</th>\n",
       "      <td>AWT</td>\n",
       "      <td>AWT</td>\n",
       "    </tr>\n",
       "    <tr>\n",
       "      <th>5</th>\n",
       "      <td>error</td>\n",
       "      <td>Error</td>\n",
       "    </tr>\n",
       "    <tr>\n",
       "      <th>6</th>\n",
       "      <td>A-Var/C-Var</td>\n",
       "      <td>A-Var/C-Var</td>\n",
       "    </tr>\n",
       "    <tr>\n",
       "      <th>7</th>\n",
       "      <td>error</td>\n",
       "      <td>Error</td>\n",
       "    </tr>\n",
       "    <tr>\n",
       "      <th>8</th>\n",
       "      <td>A-WT/C-WT</td>\n",
       "      <td>A-WT/C-WT</td>\n",
       "    </tr>\n",
       "    <tr>\n",
       "      <th>9</th>\n",
       "      <td>error</td>\n",
       "      <td>Error</td>\n",
       "    </tr>\n",
       "    <tr>\n",
       "      <th>10</th>\n",
       "      <td>A-WT/C-WT</td>\n",
       "      <td>A-WT/C-WT</td>\n",
       "    </tr>\n",
       "    <tr>\n",
       "      <th>11</th>\n",
       "      <td>AWT</td>\n",
       "      <td>AWT</td>\n",
       "    </tr>\n",
       "    <tr>\n",
       "      <th>12</th>\n",
       "      <td>A-WT/C-WT</td>\n",
       "      <td>A-WT/C-WT</td>\n",
       "    </tr>\n",
       "    <tr>\n",
       "      <th>13</th>\n",
       "      <td>A-WT/C-WT</td>\n",
       "      <td>A-WT/C-WT</td>\n",
       "    </tr>\n",
       "    <tr>\n",
       "      <th>14</th>\n",
       "      <td>error</td>\n",
       "      <td>Error</td>\n",
       "    </tr>\n",
       "  </tbody>\n",
       "</table>\n",
       "</div>"
      ],
      "text/plain": [
       "      testGroup          tg2\n",
       "0   A-Var/C-Var  A-Var/C-Var\n",
       "1   A-Var/C-Var  A-Var/C-Var\n",
       "2           AWT          AWT\n",
       "3         error        Error\n",
       "4           AWT          AWT\n",
       "5         error        Error\n",
       "6   A-Var/C-Var  A-Var/C-Var\n",
       "7         error        Error\n",
       "8     A-WT/C-WT    A-WT/C-WT\n",
       "9         error        Error\n",
       "10    A-WT/C-WT    A-WT/C-WT\n",
       "11          AWT          AWT\n",
       "12    A-WT/C-WT    A-WT/C-WT\n",
       "13    A-WT/C-WT    A-WT/C-WT\n",
       "14        error        Error"
      ]
     },
     "execution_count": 447,
     "metadata": {},
     "output_type": "execute_result"
    }
   ],
   "source": [
    "newDF=  data_control[[\"testGroup\",\"tg2\"]]\n",
    "newDF\n"
   ]
  },
  {
   "cell_type": "code",
   "execution_count": 448,
   "metadata": {},
   "outputs": [
    {
     "name": "stderr",
     "output_type": "stream",
     "text": [
      "/usr/local/lib/python3.9/site-packages/pandas/core/frame.py:4441: SettingWithCopyWarning: \n",
      "A value is trying to be set on a copy of a slice from a DataFrame\n",
      "\n",
      "See the caveats in the documentation: https://pandas.pydata.org/pandas-docs/stable/user_guide/indexing.html#returning-a-view-versus-a-copy\n"
     ]
    },
    {
     "data": {
      "text/html": [
       "<div>\n",
       "<style scoped>\n",
       "    .dataframe tbody tr th:only-of-type {\n",
       "        vertical-align: middle;\n",
       "    }\n",
       "\n",
       "    .dataframe tbody tr th {\n",
       "        vertical-align: top;\n",
       "    }\n",
       "\n",
       "    .dataframe thead th {\n",
       "        text-align: right;\n",
       "    }\n",
       "</style>\n",
       "<table border=\"1\" class=\"dataframe\">\n",
       "  <thead>\n",
       "    <tr style=\"text-align: right;\">\n",
       "      <th></th>\n",
       "      <th>c_tg</th>\n",
       "      <th>c_tg2</th>\n",
       "    </tr>\n",
       "  </thead>\n",
       "  <tbody>\n",
       "    <tr>\n",
       "      <th>0</th>\n",
       "      <td>A-Var/C-Var</td>\n",
       "      <td>A-Var/C-Var</td>\n",
       "    </tr>\n",
       "    <tr>\n",
       "      <th>1</th>\n",
       "      <td>A-Var/C-Var</td>\n",
       "      <td>A-Var/C-Var</td>\n",
       "    </tr>\n",
       "    <tr>\n",
       "      <th>2</th>\n",
       "      <td>AWT</td>\n",
       "      <td>AWT</td>\n",
       "    </tr>\n",
       "    <tr>\n",
       "      <th>3</th>\n",
       "      <td>error</td>\n",
       "      <td>Error</td>\n",
       "    </tr>\n",
       "    <tr>\n",
       "      <th>4</th>\n",
       "      <td>AWT</td>\n",
       "      <td>AWT</td>\n",
       "    </tr>\n",
       "    <tr>\n",
       "      <th>5</th>\n",
       "      <td>error</td>\n",
       "      <td>Error</td>\n",
       "    </tr>\n",
       "    <tr>\n",
       "      <th>6</th>\n",
       "      <td>A-Var/C-Var</td>\n",
       "      <td>A-Var/C-Var</td>\n",
       "    </tr>\n",
       "    <tr>\n",
       "      <th>7</th>\n",
       "      <td>error</td>\n",
       "      <td>Error</td>\n",
       "    </tr>\n",
       "    <tr>\n",
       "      <th>8</th>\n",
       "      <td>A-WT/C-WT</td>\n",
       "      <td>A-WT/C-WT</td>\n",
       "    </tr>\n",
       "    <tr>\n",
       "      <th>9</th>\n",
       "      <td>error</td>\n",
       "      <td>Error</td>\n",
       "    </tr>\n",
       "    <tr>\n",
       "      <th>10</th>\n",
       "      <td>A-WT/C-WT</td>\n",
       "      <td>A-WT/C-WT</td>\n",
       "    </tr>\n",
       "    <tr>\n",
       "      <th>11</th>\n",
       "      <td>AWT</td>\n",
       "      <td>AWT</td>\n",
       "    </tr>\n",
       "    <tr>\n",
       "      <th>12</th>\n",
       "      <td>A-WT/C-WT</td>\n",
       "      <td>A-WT/C-WT</td>\n",
       "    </tr>\n",
       "    <tr>\n",
       "      <th>13</th>\n",
       "      <td>A-WT/C-WT</td>\n",
       "      <td>A-WT/C-WT</td>\n",
       "    </tr>\n",
       "    <tr>\n",
       "      <th>14</th>\n",
       "      <td>error</td>\n",
       "      <td>Error</td>\n",
       "    </tr>\n",
       "  </tbody>\n",
       "</table>\n",
       "</div>"
      ],
      "text/plain": [
       "           c_tg        c_tg2\n",
       "0   A-Var/C-Var  A-Var/C-Var\n",
       "1   A-Var/C-Var  A-Var/C-Var\n",
       "2           AWT          AWT\n",
       "3         error        Error\n",
       "4           AWT          AWT\n",
       "5         error        Error\n",
       "6   A-Var/C-Var  A-Var/C-Var\n",
       "7         error        Error\n",
       "8     A-WT/C-WT    A-WT/C-WT\n",
       "9         error        Error\n",
       "10    A-WT/C-WT    A-WT/C-WT\n",
       "11          AWT          AWT\n",
       "12    A-WT/C-WT    A-WT/C-WT\n",
       "13    A-WT/C-WT    A-WT/C-WT\n",
       "14        error        Error"
      ]
     },
     "execution_count": 448,
     "metadata": {},
     "output_type": "execute_result"
    }
   ],
   "source": [
    "newDF.rename(columns = {'testGroup':'c_tg','tg2':'c_tg2'},  inplace=True) \n",
    "newDF\n"
   ]
  },
  {
   "cell_type": "code",
   "execution_count": 449,
   "metadata": {},
   "outputs": [],
   "source": [
    "newDF.index = procData.index\n",
    "procData= pd.concat([procData,newDF], axis=1)\n"
   ]
  },
  {
   "cell_type": "code",
   "execution_count": null,
   "metadata": {},
   "outputs": [],
   "source": []
  },
  {
   "cell_type": "markdown",
   "metadata": {},
   "source": [
    "#### Difference Table\n"
   ]
  },
  {
   "cell_type": "code",
   "execution_count": 450,
   "metadata": {},
   "outputs": [],
   "source": [
    "\n",
    "pd.set_option('display.max_rows', procData.shape[0]+1)\n",
    "\n",
    "diff_data = procData.loc[ :,\"diff_AVAR2\":\"diff_totalVar\" ]\n",
    "diff_data.to_csv(\"./diffData.csv\")"
   ]
  },
  {
   "cell_type": "code",
   "execution_count": 451,
   "metadata": {},
   "outputs": [
    {
     "data": {
      "text/html": [
       "<div>\n",
       "<style scoped>\n",
       "    .dataframe tbody tr th:only-of-type {\n",
       "        vertical-align: middle;\n",
       "    }\n",
       "\n",
       "    .dataframe tbody tr th {\n",
       "        vertical-align: top;\n",
       "    }\n",
       "\n",
       "    .dataframe thead th {\n",
       "        text-align: right;\n",
       "    }\n",
       "</style>\n",
       "<table border=\"1\" class=\"dataframe\">\n",
       "  <thead>\n",
       "    <tr style=\"text-align: right;\">\n",
       "      <th></th>\n",
       "      <th>diff_AVAR2</th>\n",
       "      <th>diff_CVAR2</th>\n",
       "      <th>diff_AWT2</th>\n",
       "      <th>diff_CWT2</th>\n",
       "      <th>diff_total2</th>\n",
       "      <th>diff_totalA</th>\n",
       "      <th>diff_totalC</th>\n",
       "      <th>diff_totalWT</th>\n",
       "      <th>diff_totalVar</th>\n",
       "    </tr>\n",
       "  </thead>\n",
       "  <tbody>\n",
       "    <tr>\n",
       "      <th>count</th>\n",
       "      <td>15.000000</td>\n",
       "      <td>15.000000</td>\n",
       "      <td>15.000000</td>\n",
       "      <td>15.000000</td>\n",
       "      <td>15.000000</td>\n",
       "      <td>15.000000</td>\n",
       "      <td>15.000000</td>\n",
       "      <td>15.000000</td>\n",
       "      <td>15.000000</td>\n",
       "    </tr>\n",
       "    <tr>\n",
       "      <th>mean</th>\n",
       "      <td>-0.695333</td>\n",
       "      <td>-0.043333</td>\n",
       "      <td>-0.630667</td>\n",
       "      <td>0.020000</td>\n",
       "      <td>-1.349333</td>\n",
       "      <td>-1.326000</td>\n",
       "      <td>-0.023333</td>\n",
       "      <td>-0.610667</td>\n",
       "      <td>-0.738667</td>\n",
       "    </tr>\n",
       "    <tr>\n",
       "      <th>std</th>\n",
       "      <td>2.089395</td>\n",
       "      <td>0.144502</td>\n",
       "      <td>0.835357</td>\n",
       "      <td>0.084769</td>\n",
       "      <td>2.165016</td>\n",
       "      <td>2.067199</td>\n",
       "      <td>0.170992</td>\n",
       "      <td>0.762978</td>\n",
       "      <td>2.218925</td>\n",
       "    </tr>\n",
       "    <tr>\n",
       "      <th>min</th>\n",
       "      <td>-7.700000</td>\n",
       "      <td>-0.520000</td>\n",
       "      <td>-2.970000</td>\n",
       "      <td>-0.070000</td>\n",
       "      <td>-8.220000</td>\n",
       "      <td>-7.700000</td>\n",
       "      <td>-0.520000</td>\n",
       "      <td>-2.670000</td>\n",
       "      <td>-8.220000</td>\n",
       "    </tr>\n",
       "    <tr>\n",
       "      <th>25%</th>\n",
       "      <td>-0.290000</td>\n",
       "      <td>-0.055000</td>\n",
       "      <td>-0.840000</td>\n",
       "      <td>-0.010000</td>\n",
       "      <td>-1.660000</td>\n",
       "      <td>-1.705000</td>\n",
       "      <td>-0.080000</td>\n",
       "      <td>-0.870000</td>\n",
       "      <td>-0.270000</td>\n",
       "    </tr>\n",
       "    <tr>\n",
       "      <th>50%</th>\n",
       "      <td>0.000000</td>\n",
       "      <td>0.000000</td>\n",
       "      <td>-0.410000</td>\n",
       "      <td>0.000000</td>\n",
       "      <td>-0.780000</td>\n",
       "      <td>-0.800000</td>\n",
       "      <td>0.000000</td>\n",
       "      <td>-0.430000</td>\n",
       "      <td>0.000000</td>\n",
       "    </tr>\n",
       "    <tr>\n",
       "      <th>75%</th>\n",
       "      <td>0.000000</td>\n",
       "      <td>0.000000</td>\n",
       "      <td>0.000000</td>\n",
       "      <td>0.020000</td>\n",
       "      <td>-0.160000</td>\n",
       "      <td>-0.170000</td>\n",
       "      <td>0.045000</td>\n",
       "      <td>0.000000</td>\n",
       "      <td>0.000000</td>\n",
       "    </tr>\n",
       "    <tr>\n",
       "      <th>max</th>\n",
       "      <td>0.830000</td>\n",
       "      <td>0.110000</td>\n",
       "      <td>0.080000</td>\n",
       "      <td>0.300000</td>\n",
       "      <td>0.740000</td>\n",
       "      <td>0.830000</td>\n",
       "      <td>0.300000</td>\n",
       "      <td>0.010000</td>\n",
       "      <td>0.740000</td>\n",
       "    </tr>\n",
       "  </tbody>\n",
       "</table>\n",
       "</div>"
      ],
      "text/plain": [
       "       diff_AVAR2  diff_CVAR2  diff_AWT2  diff_CWT2  diff_total2  diff_totalA  \\\n",
       "count   15.000000   15.000000  15.000000  15.000000    15.000000    15.000000   \n",
       "mean    -0.695333   -0.043333  -0.630667   0.020000    -1.349333    -1.326000   \n",
       "std      2.089395    0.144502   0.835357   0.084769     2.165016     2.067199   \n",
       "min     -7.700000   -0.520000  -2.970000  -0.070000    -8.220000    -7.700000   \n",
       "25%     -0.290000   -0.055000  -0.840000  -0.010000    -1.660000    -1.705000   \n",
       "50%      0.000000    0.000000  -0.410000   0.000000    -0.780000    -0.800000   \n",
       "75%      0.000000    0.000000   0.000000   0.020000    -0.160000    -0.170000   \n",
       "max      0.830000    0.110000   0.080000   0.300000     0.740000     0.830000   \n",
       "\n",
       "       diff_totalC  diff_totalWT  diff_totalVar  \n",
       "count    15.000000     15.000000      15.000000  \n",
       "mean     -0.023333     -0.610667      -0.738667  \n",
       "std       0.170992      0.762978       2.218925  \n",
       "min      -0.520000     -2.670000      -8.220000  \n",
       "25%      -0.080000     -0.870000      -0.270000  \n",
       "50%       0.000000     -0.430000       0.000000  \n",
       "75%       0.045000      0.000000       0.000000  \n",
       "max       0.300000      0.010000       0.740000  "
      ]
     },
     "execution_count": 451,
     "metadata": {},
     "output_type": "execute_result"
    }
   ],
   "source": [
    "diff_data.describe()"
   ]
  },
  {
   "cell_type": "code",
   "execution_count": 452,
   "metadata": {},
   "outputs": [
    {
     "data": {
      "text/plain": [
       "diff_AVAR2       4.365570\n",
       "diff_CVAR2       0.020881\n",
       "diff_AWT2        0.697821\n",
       "diff_CWT2        0.007186\n",
       "diff_total2      4.687292\n",
       "diff_totalA      4.273311\n",
       "diff_totalC      0.029238\n",
       "diff_totalWT     0.582135\n",
       "diff_totalVar    4.923627\n",
       "dtype: float64"
      ]
     },
     "execution_count": 452,
     "metadata": {},
     "output_type": "execute_result"
    }
   ],
   "source": [
    "diff_data.var()\n"
   ]
  },
  {
   "cell_type": "code",
   "execution_count": 453,
   "metadata": {},
   "outputs": [
    {
     "data": {
      "text/plain": [
       "diff_AVAR2       2.089395\n",
       "diff_CVAR2       0.144502\n",
       "diff_AWT2        0.835357\n",
       "diff_CWT2        0.084769\n",
       "diff_total2      2.165016\n",
       "diff_totalA      2.067199\n",
       "diff_totalC      0.170992\n",
       "diff_totalWT     0.762978\n",
       "diff_totalVar    2.218925\n",
       "dtype: float64"
      ]
     },
     "execution_count": 453,
     "metadata": {},
     "output_type": "execute_result"
    }
   ],
   "source": [
    "diff_data.std()\n"
   ]
  },
  {
   "cell_type": "code",
   "execution_count": 454,
   "metadata": {},
   "outputs": [
    {
     "data": {
      "text/plain": [
       "diff_AVAR2      -3.111514\n",
       "diff_CVAR2      -2.816163\n",
       "diff_AWT2       -1.826353\n",
       "diff_CWT2        2.864955\n",
       "diff_total2     -2.497520\n",
       "diff_totalA     -2.274328\n",
       "diff_totalC     -1.420225\n",
       "diff_totalWT    -1.638127\n",
       "diff_totalVar   -3.165627\n",
       "dtype: float64"
      ]
     },
     "execution_count": 454,
     "metadata": {},
     "output_type": "execute_result"
    }
   ],
   "source": [
    "diff_data.skew()\n"
   ]
  },
  {
   "cell_type": "code",
   "execution_count": 455,
   "metadata": {},
   "outputs": [
    {
     "data": {
      "text/plain": [
       "[10.264406796877637,\n",
       " 9.444362749191729,\n",
       " 3.6982075152203597,\n",
       " 9.543320897371544,\n",
       " 7.61247279274705,\n",
       " 6.469933856117286,\n",
       " 5.523875299227822,\n",
       " 2.873242267200818,\n",
       " 10.564445597026406]"
      ]
     },
     "execution_count": 455,
     "metadata": {},
     "output_type": "execute_result"
    }
   ],
   "source": [
    "diff_data.kurtosis().tolist()"
   ]
  },
  {
   "cell_type": "code",
   "execution_count": 456,
   "metadata": {},
   "outputs": [
    {
     "data": {
      "text/plain": [
       "diff_AVAR2       10.264407\n",
       "diff_CVAR2        9.444363\n",
       "diff_AWT2         3.698208\n",
       "diff_CWT2         9.543321\n",
       "diff_total2       7.612473\n",
       "diff_totalA       6.469934\n",
       "diff_totalC       5.523875\n",
       "diff_totalWT      2.873242\n",
       "diff_totalVar    10.564446\n",
       "dtype: float64"
      ]
     },
     "execution_count": 456,
     "metadata": {},
     "output_type": "execute_result"
    }
   ],
   "source": [
    "diff_data.kurtosis()"
   ]
  },
  {
   "cell_type": "code",
   "execution_count": null,
   "metadata": {},
   "outputs": [],
   "source": []
  },
  {
   "cell_type": "markdown",
   "metadata": {},
   "source": [
    "## Graph Data - "
   ]
  },
  {
   "cell_type": "code",
   "execution_count": 457,
   "metadata": {},
   "outputs": [
    {
     "data": {
      "image/png": "[encoded data removed]",
      "text/plain": [
       "<Figure size 640x480 with 1 Axes>"
      ]
     },
     "metadata": {
      "filenames": {
       "image/png": "/Users/adithyasahasranamam/thesis/_build/jupyter_execute/thesis/_build/jupyter_execute/treatment_22_0.png"
      }
     },
     "output_type": "display_data"
    },
    {
     "data": {
      "text/plain": [
       "<ggplot: (331680708)>"
      ]
     },
     "execution_count": 457,
     "metadata": {},
     "output_type": "execute_result"
    }
   ],
   "source": [
    "from plotnine import *\n",
    "ggplot(data, aes(x='treatment', y='AWT2') ) + geom_boxplot() + geom_jitter(data,aes(colour='treatment',shape='treatment'))"
   ]
  },
  {
   "cell_type": "code",
   "execution_count": 458,
   "metadata": {},
   "outputs": [
    {
     "name": "stderr",
     "output_type": "stream",
     "text": [
      "/usr/local/lib/python3.9/site-packages/scipy/stats/morestats.py:2967: UserWarning: Exact p-value calculation does not work if there are ties. Switching to normal approximation.\n"
     ]
    },
    {
     "data": {
      "text/plain": [
       "WilcoxonResult(statistic=1.0, pvalue=0.0069104298078147995)"
      ]
     },
     "execution_count": 458,
     "metadata": {},
     "output_type": "execute_result"
    }
   ],
   "source": [
    "a = 0.05\n",
    "\n",
    "wilcoxon(data_control[\"AWT2\"],data_treatment[\"AWT2\"])\n"
   ]
  },
  {
   "cell_type": "code",
   "execution_count": 459,
   "metadata": {},
   "outputs": [
    {
     "data": {
      "image/png": "[encoded data removed]",
      "text/plain": [
       "<Figure size 640x480 with 1 Axes>"
      ]
     },
     "metadata": {
      "filenames": {
       "image/png": "/Users/adithyasahasranamam/thesis/_build/jupyter_execute/thesis/_build/jupyter_execute/treatment_24_0.png"
      }
     },
     "output_type": "display_data"
    },
    {
     "data": {
      "text/plain": [
       "<ggplot: (331666520)>"
      ]
     },
     "execution_count": 459,
     "metadata": {},
     "output_type": "execute_result"
    }
   ],
   "source": [
    "ggplot(data, aes(x='treatment', y='CWT2') ) + geom_boxplot() + geom_jitter(data,aes(colour='treatment',shape='treatment'))\n"
   ]
  },
  {
   "cell_type": "code",
   "execution_count": 460,
   "metadata": {},
   "outputs": [
    {
     "name": "stderr",
     "output_type": "stream",
     "text": [
      "/usr/local/lib/python3.9/site-packages/scipy/stats/morestats.py:2967: UserWarning: Exact p-value calculation does not work if there are ties. Switching to normal approximation.\n",
      "/usr/local/lib/python3.9/site-packages/scipy/stats/morestats.py:2981: UserWarning: Sample size too small for normal approximation.\n"
     ]
    },
    {
     "data": {
      "text/plain": [
       "WilcoxonResult(statistic=19.0, pvalue=0.6729404357300602)"
      ]
     },
     "execution_count": 460,
     "metadata": {},
     "output_type": "execute_result"
    }
   ],
   "source": [
    "a = 0.05\n",
    "\n",
    "wilcoxon(data_control[\"CWT2\"],data_treatment[\"CWT2\"])\n"
   ]
  },
  {
   "cell_type": "code",
   "execution_count": 461,
   "metadata": {},
   "outputs": [
    {
     "data": {
      "image/png": "[encoded data removed]",
      "text/plain": [
       "<Figure size 640x480 with 1 Axes>"
      ]
     },
     "metadata": {
      "filenames": {
       "image/png": "/Users/adithyasahasranamam/thesis/_build/jupyter_execute/thesis/_build/jupyter_execute/treatment_26_0.png"
      }
     },
     "output_type": "display_data"
    },
    {
     "data": {
      "text/plain": [
       "<ggplot: (331767556)>"
      ]
     },
     "execution_count": 461,
     "metadata": {},
     "output_type": "execute_result"
    }
   ],
   "source": [
    "ggplot(data, aes(x='treatment', y='AVAR2') ) + geom_boxplot() + geom_jitter(data,aes(colour='treatment',shape='treatment'))\n"
   ]
  },
  {
   "cell_type": "code",
   "execution_count": 462,
   "metadata": {},
   "outputs": [
    {
     "name": "stderr",
     "output_type": "stream",
     "text": [
      "/usr/local/lib/python3.9/site-packages/scipy/stats/morestats.py:2967: UserWarning: Exact p-value calculation does not work if there are ties. Switching to normal approximation.\n",
      "/usr/local/lib/python3.9/site-packages/scipy/stats/morestats.py:2981: UserWarning: Sample size too small for normal approximation.\n"
     ]
    },
    {
     "data": {
      "text/plain": [
       "WilcoxonResult(statistic=7.0, pvalue=0.23672357063785732)"
      ]
     },
     "execution_count": 462,
     "metadata": {},
     "output_type": "execute_result"
    }
   ],
   "source": [
    "a = 0.05\n",
    "\n",
    "wilcoxon(data_control[\"AVAR2\"],data_treatment[\"AVAR2\"])\n"
   ]
  },
  {
   "cell_type": "code",
   "execution_count": 463,
   "metadata": {},
   "outputs": [
    {
     "data": {
      "image/png": "[encoded data removed]",
      "text/plain": [
       "<Figure size 640x480 with 1 Axes>"
      ]
     },
     "metadata": {
      "filenames": {
       "image/png": "/Users/adithyasahasranamam/thesis/_build/jupyter_execute/thesis/_build/jupyter_execute/treatment_28_0.png"
      }
     },
     "output_type": "display_data"
    },
    {
     "data": {
      "text/plain": [
       "<ggplot: (330438666)>"
      ]
     },
     "execution_count": 463,
     "metadata": {},
     "output_type": "execute_result"
    }
   ],
   "source": [
    "ggplot(data, aes(x='treatment', y='CVAR2') ) + geom_boxplot() + geom_jitter(data,aes(colour='treatment',shape='treatment'))\n"
   ]
  },
  {
   "cell_type": "code",
   "execution_count": 464,
   "metadata": {},
   "outputs": [
    {
     "name": "stderr",
     "output_type": "stream",
     "text": [
      "/usr/local/lib/python3.9/site-packages/scipy/stats/morestats.py:2967: UserWarning: Exact p-value calculation does not work if there are ties. Switching to normal approximation.\n",
      "/usr/local/lib/python3.9/site-packages/scipy/stats/morestats.py:2981: UserWarning: Sample size too small for normal approximation.\n"
     ]
    },
    {
     "data": {
      "text/plain": [
       "WilcoxonResult(statistic=10.0, pvalue=0.26144605232963014)"
      ]
     },
     "execution_count": 464,
     "metadata": {},
     "output_type": "execute_result"
    }
   ],
   "source": [
    "a = 0.05\n",
    "\n",
    "wilcoxon(data_control[\"CVAR2\"],data_treatment[\"CVAR2\"])\n"
   ]
  },
  {
   "cell_type": "code",
   "execution_count": 465,
   "metadata": {},
   "outputs": [
    {
     "name": "stderr",
     "output_type": "stream",
     "text": [
      "/usr/local/lib/python3.9/site-packages/plotnine/layer.py:372: PlotnineWarning: stat_boxplot : Removed 4 rows containing non-finite values.\n",
      "/usr/local/lib/python3.9/site-packages/plotnine/layer.py:467: PlotnineWarning: geom_jitter : Removed 6 rows containing missing values.\n"
     ]
    },
    {
     "data": {
      "image/png": "[encoded data removed]",
      "text/plain": [
       "<Figure size 640x480 with 1 Axes>"
      ]
     },
     "metadata": {
      "filenames": {
       "image/png": "/Users/adithyasahasranamam/thesis/_build/jupyter_execute/thesis/_build/jupyter_execute/treatment_30_1.png"
      }
     },
     "output_type": "display_data"
    },
    {
     "data": {
      "text/plain": [
       "<ggplot: (331765944)>"
      ]
     },
     "execution_count": 465,
     "metadata": {},
     "output_type": "execute_result"
    }
   ],
   "source": [
    "removed_outliers = data.total2.between(data.total2.quantile(.05), data.total2.quantile(.95))\n",
    "data_total= data[removed_outliers]\n",
    "ggplot(data_total, aes(x='treatment',y=\"total2\" ), ) + geom_boxplot(outlier_shape = \"\") + geom_jitter(data_total,aes(y=\"total2\",colour='treatment',shape='treatment') )  + ggtitle(\"QQ Plot of IRAK-1 expression per  GbP\") + xlab(\"Treatment\") + ylab(\"Total IRAK-1 Levels per Gigabase pair\") + ylim(data_total.total2.quantile(.05), data_total.total2.quantile(.95))"
   ]
  },
  {
   "cell_type": "code",
   "execution_count": 466,
   "metadata": {},
   "outputs": [
    {
     "data": {
      "text/plain": [
       "WilcoxonResult(statistic=13.0, pvalue=0.00537109375)"
      ]
     },
     "execution_count": 466,
     "metadata": {},
     "output_type": "execute_result"
    }
   ],
   "source": [
    "a = 0.05\n",
    "\n",
    "wilcoxon(diff_data[\"diff_total2\"])\n"
   ]
  },
  {
   "cell_type": "code",
   "execution_count": 467,
   "metadata": {},
   "outputs": [
    {
     "name": "stderr",
     "output_type": "stream",
     "text": [
      "/usr/local/lib/python3.9/site-packages/plotnine/layer.py:372: PlotnineWarning: stat_boxplot : Removed 2 rows containing non-finite values.\n",
      "/usr/local/lib/python3.9/site-packages/plotnine/layer.py:467: PlotnineWarning: geom_point : Removed 2 rows containing missing values.\n"
     ]
    },
    {
     "data": {
      "image/png": "[encoded data removed]",
      "text/plain": [
       "<Figure size 640x480 with 1 Axes>"
      ]
     },
     "metadata": {
      "filenames": {
       "image/png": "/Users/adithyasahasranamam/thesis/_build/jupyter_execute/thesis/_build/jupyter_execute/treatment_32_1.png"
      }
     },
     "output_type": "display_data"
    },
    {
     "data": {
      "text/plain": [
       "<ggplot: (330006929)>"
      ]
     },
     "execution_count": 467,
     "metadata": {},
     "output_type": "execute_result"
    }
   ],
   "source": [
    "removed_outliers_diffData = diff_data.diff_total2.between(diff_data.diff_total2.quantile(.05), diff_data.diff_total2.quantile(.95))\n",
    "difftotalData=diff_data[removed_outliers_diffData]\n",
    "ggplot(difftotalData, aes( x='0',y='diff_total2') ) + geom_boxplot() + geom_point(color=\"red\") + ylim(difftotalData.diff_total2.quantile(.05), difftotalData.diff_total2.quantile(.95)) + ggtitle(\"QQ Plot of changes in IRAK-1 levels per Gbp\") + xlab(\"Treatment\") + ylab(\"Changes in  IRAK-1 Levels per Gigabase pair\") \n"
   ]
  },
  {
   "cell_type": "code",
   "execution_count": 468,
   "metadata": {},
   "outputs": [
    {
     "data": {
      "text/plain": [
       "0     12.85\n",
       "1     12.21\n",
       "2      6.48\n",
       "3      7.85\n",
       "4      3.57\n",
       "5      2.99\n",
       "6      5.21\n",
       "7      3.93\n",
       "8      2.87\n",
       "9      1.20\n",
       "10     1.01\n",
       "11     0.54\n",
       "12     1.37\n",
       "13     0.99\n",
       "14     0.68\n",
       "Name: total2, dtype: float64"
      ]
     },
     "execution_count": 468,
     "metadata": {},
     "output_type": "execute_result"
    }
   ],
   "source": [
    "data_plot = data_treatment\n",
    "controlData = data_control['total2']\n",
    "controlData"
   ]
  },
  {
   "cell_type": "code",
   "execution_count": 469,
   "metadata": {},
   "outputs": [
    {
     "name": "stderr",
     "output_type": "stream",
     "text": [
      "<ipython-input-469-e65ed6e0bbb2>:1: SettingWithCopyWarning: \n",
      "A value is trying to be set on a copy of a slice from a DataFrame.\n",
      "Try using .loc[row_indexer,col_indexer] = value instead\n",
      "\n",
      "See the caveats in the documentation: https://pandas.pydata.org/pandas-docs/stable/user_guide/indexing.html#returning-a-view-versus-a-copy\n"
     ]
    },
    {
     "data": {
      "text/html": [
       "<div>\n",
       "<style scoped>\n",
       "    .dataframe tbody tr th:only-of-type {\n",
       "        vertical-align: middle;\n",
       "    }\n",
       "\n",
       "    .dataframe tbody tr th {\n",
       "        vertical-align: top;\n",
       "    }\n",
       "\n",
       "    .dataframe thead th {\n",
       "        text-align: right;\n",
       "    }\n",
       "</style>\n",
       "<table border=\"1\" class=\"dataframe\">\n",
       "  <thead>\n",
       "    <tr style=\"text-align: right;\">\n",
       "      <th></th>\n",
       "      <th>Sheet #</th>\n",
       "      <th>Run</th>\n",
       "      <th>BioSample</th>\n",
       "      <th>Bases</th>\n",
       "      <th>Bytes</th>\n",
       "      <th>Experiment</th>\n",
       "      <th>GEO_Accession</th>\n",
       "      <th>inflammatory_response</th>\n",
       "      <th>race</th>\n",
       "      <th>Sample Name</th>\n",
       "      <th>...</th>\n",
       "      <th>diff_AVAR2</th>\n",
       "      <th>diff_CVAR2</th>\n",
       "      <th>diff_AWT2</th>\n",
       "      <th>diff_CWT2</th>\n",
       "      <th>diff_total2</th>\n",
       "      <th>diff_totalA</th>\n",
       "      <th>diff_totalC</th>\n",
       "      <th>diff_totalWT</th>\n",
       "      <th>diff_totalVar</th>\n",
       "      <th>ctrl_total2</th>\n",
       "    </tr>\n",
       "  </thead>\n",
       "  <tbody>\n",
       "    <tr>\n",
       "      <th>15</th>\n",
       "      <td>16</td>\n",
       "      <td>SRR4292097</td>\n",
       "      <td>SAMN05806826</td>\n",
       "      <td>56.30 G</td>\n",
       "      <td>34.32 Gb</td>\n",
       "      <td>SRX2187591</td>\n",
       "      <td>GSM2326902</td>\n",
       "      <td>1</td>\n",
       "      <td>African American</td>\n",
       "      <td>GSM2326902</td>\n",
       "      <td>...</td>\n",
       "      <td>-7.70</td>\n",
       "      <td>-0.52</td>\n",
       "      <td>0.00</td>\n",
       "      <td>0.00</td>\n",
       "      <td>-8.22</td>\n",
       "      <td>-7.70</td>\n",
       "      <td>-0.52</td>\n",
       "      <td>0.00</td>\n",
       "      <td>-8.22</td>\n",
       "      <td>12.85</td>\n",
       "    </tr>\n",
       "    <tr>\n",
       "      <th>16</th>\n",
       "      <td>17</td>\n",
       "      <td>SRR4292098</td>\n",
       "      <td>SAMN05806825</td>\n",
       "      <td>55.41 G</td>\n",
       "      <td>33.89 Gb</td>\n",
       "      <td>SRX2187592</td>\n",
       "      <td>GSM2326903</td>\n",
       "      <td>1</td>\n",
       "      <td>Caucasian</td>\n",
       "      <td>GSM2326903</td>\n",
       "      <td>...</td>\n",
       "      <td>0.83</td>\n",
       "      <td>-0.09</td>\n",
       "      <td>0.00</td>\n",
       "      <td>0.00</td>\n",
       "      <td>0.74</td>\n",
       "      <td>0.83</td>\n",
       "      <td>-0.09</td>\n",
       "      <td>0.00</td>\n",
       "      <td>0.74</td>\n",
       "      <td>12.21</td>\n",
       "    </tr>\n",
       "    <tr>\n",
       "      <th>17</th>\n",
       "      <td>18</td>\n",
       "      <td>SRR4292099</td>\n",
       "      <td>SAMN05806824</td>\n",
       "      <td>47.95 G</td>\n",
       "      <td>29.16 Gb</td>\n",
       "      <td>SRX2187593</td>\n",
       "      <td>GSM2326904</td>\n",
       "      <td>1</td>\n",
       "      <td>Caucasian</td>\n",
       "      <td>GSM2326904</td>\n",
       "      <td>...</td>\n",
       "      <td>0.00</td>\n",
       "      <td>0.00</td>\n",
       "      <td>-2.97</td>\n",
       "      <td>0.30</td>\n",
       "      <td>-2.67</td>\n",
       "      <td>-2.97</td>\n",
       "      <td>0.30</td>\n",
       "      <td>-2.67</td>\n",
       "      <td>0.00</td>\n",
       "      <td>6.48</td>\n",
       "    </tr>\n",
       "    <tr>\n",
       "      <th>18</th>\n",
       "      <td>19</td>\n",
       "      <td>SRR4292100</td>\n",
       "      <td>SAMN05806823</td>\n",
       "      <td>47.04 G</td>\n",
       "      <td>28.94 Gb</td>\n",
       "      <td>SRX2187594</td>\n",
       "      <td>GSM2326905</td>\n",
       "      <td>1</td>\n",
       "      <td>Caucasian</td>\n",
       "      <td>GSM2326905</td>\n",
       "      <td>...</td>\n",
       "      <td>0.41</td>\n",
       "      <td>0.07</td>\n",
       "      <td>0.00</td>\n",
       "      <td>0.00</td>\n",
       "      <td>0.48</td>\n",
       "      <td>0.41</td>\n",
       "      <td>0.07</td>\n",
       "      <td>0.00</td>\n",
       "      <td>0.48</td>\n",
       "      <td>7.85</td>\n",
       "    </tr>\n",
       "    <tr>\n",
       "      <th>19</th>\n",
       "      <td>20</td>\n",
       "      <td>SRR4292101</td>\n",
       "      <td>SAMN05806822</td>\n",
       "      <td>25.25 G</td>\n",
       "      <td>16.33 Gb</td>\n",
       "      <td>SRX2187595</td>\n",
       "      <td>GSM2326906</td>\n",
       "      <td>1</td>\n",
       "      <td>Caucasian</td>\n",
       "      <td>GSM2326906</td>\n",
       "      <td>...</td>\n",
       "      <td>0.00</td>\n",
       "      <td>0.00</td>\n",
       "      <td>-1.83</td>\n",
       "      <td>0.09</td>\n",
       "      <td>-1.74</td>\n",
       "      <td>-1.83</td>\n",
       "      <td>0.09</td>\n",
       "      <td>-1.74</td>\n",
       "      <td>0.00</td>\n",
       "      <td>3.57</td>\n",
       "    </tr>\n",
       "    <tr>\n",
       "      <th>20</th>\n",
       "      <td>21</td>\n",
       "      <td>SRR4292102</td>\n",
       "      <td>SAMN05806821</td>\n",
       "      <td>27.70 G</td>\n",
       "      <td>17.89 Gb</td>\n",
       "      <td>SRX2187596</td>\n",
       "      <td>GSM2326907</td>\n",
       "      <td>1</td>\n",
       "      <td>African American</td>\n",
       "      <td>GSM2326907</td>\n",
       "      <td>...</td>\n",
       "      <td>-0.65</td>\n",
       "      <td>-0.02</td>\n",
       "      <td>-0.93</td>\n",
       "      <td>0.02</td>\n",
       "      <td>-1.58</td>\n",
       "      <td>-1.58</td>\n",
       "      <td>0.00</td>\n",
       "      <td>-0.91</td>\n",
       "      <td>-0.67</td>\n",
       "      <td>2.99</td>\n",
       "    </tr>\n",
       "    <tr>\n",
       "      <th>21</th>\n",
       "      <td>22</td>\n",
       "      <td>SRR4292103</td>\n",
       "      <td>SAMN05806820</td>\n",
       "      <td>17.58 G</td>\n",
       "      <td>11.40 Gb</td>\n",
       "      <td>SRX2187597</td>\n",
       "      <td>GSM2326908</td>\n",
       "      <td>-1</td>\n",
       "      <td>Caucasian</td>\n",
       "      <td>GSM2326908</td>\n",
       "      <td>...</td>\n",
       "      <td>-2.74</td>\n",
       "      <td>-0.11</td>\n",
       "      <td>0.00</td>\n",
       "      <td>0.00</td>\n",
       "      <td>-2.85</td>\n",
       "      <td>-2.74</td>\n",
       "      <td>-0.11</td>\n",
       "      <td>0.00</td>\n",
       "      <td>-2.85</td>\n",
       "      <td>5.21</td>\n",
       "    </tr>\n",
       "    <tr>\n",
       "      <th>22</th>\n",
       "      <td>23</td>\n",
       "      <td>SRR4292104</td>\n",
       "      <td>SAMN05806819</td>\n",
       "      <td>25.12 G</td>\n",
       "      <td>16.21 Gb</td>\n",
       "      <td>SRX2187598</td>\n",
       "      <td>GSM2326909</td>\n",
       "      <td>-1</td>\n",
       "      <td>Caucasian</td>\n",
       "      <td>GSM2326909</td>\n",
       "      <td>...</td>\n",
       "      <td>-0.54</td>\n",
       "      <td>0.11</td>\n",
       "      <td>-0.82</td>\n",
       "      <td>-0.02</td>\n",
       "      <td>-1.27</td>\n",
       "      <td>-1.36</td>\n",
       "      <td>0.09</td>\n",
       "      <td>-0.84</td>\n",
       "      <td>-0.43</td>\n",
       "      <td>3.93</td>\n",
       "    </tr>\n",
       "    <tr>\n",
       "      <th>23</th>\n",
       "      <td>24</td>\n",
       "      <td>SRR4292105</td>\n",
       "      <td>SAMN05806818</td>\n",
       "      <td>26.42 G</td>\n",
       "      <td>17.05 Gb</td>\n",
       "      <td>SRX2187599</td>\n",
       "      <td>GSM2326910</td>\n",
       "      <td>-1</td>\n",
       "      <td>Caucasian</td>\n",
       "      <td>GSM2326910</td>\n",
       "      <td>...</td>\n",
       "      <td>0.00</td>\n",
       "      <td>0.00</td>\n",
       "      <td>0.08</td>\n",
       "      <td>-0.07</td>\n",
       "      <td>0.01</td>\n",
       "      <td>0.08</td>\n",
       "      <td>-0.07</td>\n",
       "      <td>0.01</td>\n",
       "      <td>0.00</td>\n",
       "      <td>2.87</td>\n",
       "    </tr>\n",
       "    <tr>\n",
       "      <th>24</th>\n",
       "      <td>25</td>\n",
       "      <td>SRR4292106</td>\n",
       "      <td>SAMN05806817</td>\n",
       "      <td>9.88 G</td>\n",
       "      <td>5.85 Gb</td>\n",
       "      <td>SRX2187600</td>\n",
       "      <td>GSM2326911</td>\n",
       "      <td>1</td>\n",
       "      <td>Caucasian</td>\n",
       "      <td>GSM2326911</td>\n",
       "      <td>...</td>\n",
       "      <td>0.00</td>\n",
       "      <td>-0.11</td>\n",
       "      <td>-0.62</td>\n",
       "      <td>0.02</td>\n",
       "      <td>-0.71</td>\n",
       "      <td>-0.62</td>\n",
       "      <td>-0.09</td>\n",
       "      <td>-0.60</td>\n",
       "      <td>-0.11</td>\n",
       "      <td>1.20</td>\n",
       "    </tr>\n",
       "    <tr>\n",
       "      <th>25</th>\n",
       "      <td>26</td>\n",
       "      <td>SRR4292107</td>\n",
       "      <td>SAMN05806816</td>\n",
       "      <td>6.14 G</td>\n",
       "      <td>3.59 Gb</td>\n",
       "      <td>SRX2187601</td>\n",
       "      <td>GSM2326912</td>\n",
       "      <td>1</td>\n",
       "      <td>African American</td>\n",
       "      <td>GSM2326912</td>\n",
       "      <td>...</td>\n",
       "      <td>0.00</td>\n",
       "      <td>0.00</td>\n",
       "      <td>-0.80</td>\n",
       "      <td>0.02</td>\n",
       "      <td>-0.78</td>\n",
       "      <td>-0.80</td>\n",
       "      <td>0.02</td>\n",
       "      <td>-0.78</td>\n",
       "      <td>0.00</td>\n",
       "      <td>1.01</td>\n",
       "    </tr>\n",
       "    <tr>\n",
       "      <th>26</th>\n",
       "      <td>27</td>\n",
       "      <td>SRR4292108</td>\n",
       "      <td>SAMN05806815</td>\n",
       "      <td>9.42 G</td>\n",
       "      <td>5.60 Gb</td>\n",
       "      <td>SRX2187602</td>\n",
       "      <td>GSM2326913</td>\n",
       "      <td>-1</td>\n",
       "      <td>African American</td>\n",
       "      <td>GSM2326913</td>\n",
       "      <td>...</td>\n",
       "      <td>0.00</td>\n",
       "      <td>0.00</td>\n",
       "      <td>-0.30</td>\n",
       "      <td>0.00</td>\n",
       "      <td>-0.30</td>\n",
       "      <td>-0.30</td>\n",
       "      <td>0.00</td>\n",
       "      <td>-0.30</td>\n",
       "      <td>0.00</td>\n",
       "      <td>0.54</td>\n",
       "    </tr>\n",
       "    <tr>\n",
       "      <th>27</th>\n",
       "      <td>28</td>\n",
       "      <td>SRR4292109</td>\n",
       "      <td>SAMN05806814</td>\n",
       "      <td>7.90 G</td>\n",
       "      <td>4.72 Gb</td>\n",
       "      <td>SRX2187603</td>\n",
       "      <td>GSM2326914</td>\n",
       "      <td>-1</td>\n",
       "      <td>African American</td>\n",
       "      <td>GSM2326914</td>\n",
       "      <td>...</td>\n",
       "      <td>0.00</td>\n",
       "      <td>0.00</td>\n",
       "      <td>-0.86</td>\n",
       "      <td>-0.04</td>\n",
       "      <td>-0.90</td>\n",
       "      <td>-0.86</td>\n",
       "      <td>-0.04</td>\n",
       "      <td>-0.90</td>\n",
       "      <td>0.00</td>\n",
       "      <td>1.37</td>\n",
       "    </tr>\n",
       "    <tr>\n",
       "      <th>28</th>\n",
       "      <td>29</td>\n",
       "      <td>SRR4292110</td>\n",
       "      <td>SAMN05806813</td>\n",
       "      <td>11.19 G</td>\n",
       "      <td>6.65 Gb</td>\n",
       "      <td>SRX2187604</td>\n",
       "      <td>GSM2326915</td>\n",
       "      <td>-1</td>\n",
       "      <td>Caucasian</td>\n",
       "      <td>GSM2326915</td>\n",
       "      <td>...</td>\n",
       "      <td>0.00</td>\n",
       "      <td>0.00</td>\n",
       "      <td>-0.41</td>\n",
       "      <td>-0.02</td>\n",
       "      <td>-0.43</td>\n",
       "      <td>-0.41</td>\n",
       "      <td>-0.02</td>\n",
       "      <td>-0.43</td>\n",
       "      <td>0.00</td>\n",
       "      <td>0.99</td>\n",
       "    </tr>\n",
       "    <tr>\n",
       "      <th>29</th>\n",
       "      <td>30</td>\n",
       "      <td>SRR4292111</td>\n",
       "      <td>SAMN05806812</td>\n",
       "      <td>6.61 G</td>\n",
       "      <td>4.20 Gb</td>\n",
       "      <td>SRX2187605</td>\n",
       "      <td>GSM2326916</td>\n",
       "      <td>-1</td>\n",
       "      <td>African American</td>\n",
       "      <td>GSM2326916</td>\n",
       "      <td>...</td>\n",
       "      <td>-0.04</td>\n",
       "      <td>0.02</td>\n",
       "      <td>0.00</td>\n",
       "      <td>0.00</td>\n",
       "      <td>-0.02</td>\n",
       "      <td>-0.04</td>\n",
       "      <td>0.02</td>\n",
       "      <td>0.00</td>\n",
       "      <td>-0.02</td>\n",
       "      <td>0.68</td>\n",
       "    </tr>\n",
       "  </tbody>\n",
       "</table>\n",
       "<p>15 rows × 43 columns</p>\n",
       "</div>"
      ],
      "text/plain": [
       "    Sheet #         Run     BioSample    Bases     Bytes  Experiment  \\\n",
       "15       16  SRR4292097  SAMN05806826  56.30 G  34.32 Gb  SRX2187591   \n",
       "16       17  SRR4292098  SAMN05806825  55.41 G  33.89 Gb  SRX2187592   \n",
       "17       18  SRR4292099  SAMN05806824  47.95 G  29.16 Gb  SRX2187593   \n",
       "18       19  SRR4292100  SAMN05806823  47.04 G  28.94 Gb  SRX2187594   \n",
       "19       20  SRR4292101  SAMN05806822  25.25 G  16.33 Gb  SRX2187595   \n",
       "20       21  SRR4292102  SAMN05806821  27.70 G  17.89 Gb  SRX2187596   \n",
       "21       22  SRR4292103  SAMN05806820  17.58 G  11.40 Gb  SRX2187597   \n",
       "22       23  SRR4292104  SAMN05806819  25.12 G  16.21 Gb  SRX2187598   \n",
       "23       24  SRR4292105  SAMN05806818  26.42 G  17.05 Gb  SRX2187599   \n",
       "24       25  SRR4292106  SAMN05806817   9.88 G   5.85 Gb  SRX2187600   \n",
       "25       26  SRR4292107  SAMN05806816   6.14 G   3.59 Gb  SRX2187601   \n",
       "26       27  SRR4292108  SAMN05806815   9.42 G   5.60 Gb  SRX2187602   \n",
       "27       28  SRR4292109  SAMN05806814   7.90 G   4.72 Gb  SRX2187603   \n",
       "28       29  SRR4292110  SAMN05806813  11.19 G   6.65 Gb  SRX2187604   \n",
       "29       30  SRR4292111  SAMN05806812   6.61 G   4.20 Gb  SRX2187605   \n",
       "\n",
       "   GEO_Accession  inflammatory_response              race Sample Name  ...  \\\n",
       "15    GSM2326902                      1  African American  GSM2326902  ...   \n",
       "16    GSM2326903                      1         Caucasian  GSM2326903  ...   \n",
       "17    GSM2326904                      1         Caucasian  GSM2326904  ...   \n",
       "18    GSM2326905                      1         Caucasian  GSM2326905  ...   \n",
       "19    GSM2326906                      1         Caucasian  GSM2326906  ...   \n",
       "20    GSM2326907                      1  African American  GSM2326907  ...   \n",
       "21    GSM2326908                     -1         Caucasian  GSM2326908  ...   \n",
       "22    GSM2326909                     -1         Caucasian  GSM2326909  ...   \n",
       "23    GSM2326910                     -1         Caucasian  GSM2326910  ...   \n",
       "24    GSM2326911                      1         Caucasian  GSM2326911  ...   \n",
       "25    GSM2326912                      1  African American  GSM2326912  ...   \n",
       "26    GSM2326913                     -1  African American  GSM2326913  ...   \n",
       "27    GSM2326914                     -1  African American  GSM2326914  ...   \n",
       "28    GSM2326915                     -1         Caucasian  GSM2326915  ...   \n",
       "29    GSM2326916                     -1  African American  GSM2326916  ...   \n",
       "\n",
       "   diff_AVAR2 diff_CVAR2  diff_AWT2  diff_CWT2  diff_total2  diff_totalA  \\\n",
       "15      -7.70      -0.52       0.00       0.00        -8.22        -7.70   \n",
       "16       0.83      -0.09       0.00       0.00         0.74         0.83   \n",
       "17       0.00       0.00      -2.97       0.30        -2.67        -2.97   \n",
       "18       0.41       0.07       0.00       0.00         0.48         0.41   \n",
       "19       0.00       0.00      -1.83       0.09        -1.74        -1.83   \n",
       "20      -0.65      -0.02      -0.93       0.02        -1.58        -1.58   \n",
       "21      -2.74      -0.11       0.00       0.00        -2.85        -2.74   \n",
       "22      -0.54       0.11      -0.82      -0.02        -1.27        -1.36   \n",
       "23       0.00       0.00       0.08      -0.07         0.01         0.08   \n",
       "24       0.00      -0.11      -0.62       0.02        -0.71        -0.62   \n",
       "25       0.00       0.00      -0.80       0.02        -0.78        -0.80   \n",
       "26       0.00       0.00      -0.30       0.00        -0.30        -0.30   \n",
       "27       0.00       0.00      -0.86      -0.04        -0.90        -0.86   \n",
       "28       0.00       0.00      -0.41      -0.02        -0.43        -0.41   \n",
       "29      -0.04       0.02       0.00       0.00        -0.02        -0.04   \n",
       "\n",
       "    diff_totalC  diff_totalWT  diff_totalVar  ctrl_total2  \n",
       "15        -0.52          0.00          -8.22        12.85  \n",
       "16        -0.09          0.00           0.74        12.21  \n",
       "17         0.30         -2.67           0.00         6.48  \n",
       "18         0.07          0.00           0.48         7.85  \n",
       "19         0.09         -1.74           0.00         3.57  \n",
       "20         0.00         -0.91          -0.67         2.99  \n",
       "21        -0.11          0.00          -2.85         5.21  \n",
       "22         0.09         -0.84          -0.43         3.93  \n",
       "23        -0.07          0.01           0.00         2.87  \n",
       "24        -0.09         -0.60          -0.11         1.20  \n",
       "25         0.02         -0.78           0.00         1.01  \n",
       "26         0.00         -0.30           0.00         0.54  \n",
       "27        -0.04         -0.90           0.00         1.37  \n",
       "28        -0.02         -0.43           0.00         0.99  \n",
       "29         0.02          0.00          -0.02         0.68  \n",
       "\n",
       "[15 rows x 43 columns]"
      ]
     },
     "execution_count": 469,
     "metadata": {},
     "output_type": "execute_result"
    }
   ],
   "source": [
    "data_plot[\"ctrl_total2\"]=controlData.to_list()\n",
    "data_plot\n",
    "\n"
   ]
  },
  {
   "cell_type": "code",
   "execution_count": 470,
   "metadata": {},
   "outputs": [
    {
     "name": "stdout",
     "output_type": "stream",
     "text": [
      "coefficient of determination: 0.7102999411988566\n",
      "intercept: 1.470657110816588\n",
      "slope: [0.95817383]\n"
     ]
    }
   ],
   "source": [
    "from sklearn.linear_model import LinearRegression\n",
    "model = LinearRegression().fit(data_plot.total2.to_numpy().reshape((-1, 1)), data_plot.ctrl_total2)\n",
    "r_sq= model.score(data_plot.total2.to_numpy().reshape((-1, 1)), data_plot.ctrl_total2)\n",
    "print('coefficient of determination:', r_sq)\n",
    "print('intercept:', model.intercept_)\n",
    "print('slope:', model.coef_)"
   ]
  },
  {
   "cell_type": "code",
   "execution_count": 471,
   "metadata": {},
   "outputs": [
    {
     "data": {
      "image/png": "[encoded data removed]",
      "text/plain": [
       "<Figure size 640x480 with 1 Axes>"
      ]
     },
     "metadata": {
      "filenames": {
       "image/png": "/Users/adithyasahasranamam/thesis/_build/jupyter_execute/thesis/_build/jupyter_execute/treatment_36_0.png"
      }
     },
     "output_type": "display_data"
    },
    {
     "data": {
      "text/plain": [
       "<ggplot: (330503295)>"
      ]
     },
     "execution_count": 471,
     "metadata": {},
     "output_type": "execute_result"
    }
   ],
   "source": [
    "\n",
    "ggplot(data_plot,aes(x='total2',y='ctrl_total2') )  + geom_point() + geom_smooth(method='lm')\n"
   ]
  },
  {
   "cell_type": "code",
   "execution_count": 472,
   "metadata": {},
   "outputs": [],
   "source": [
    "\n",
    "from sklearn import linear_model\n",
    "lm = linear_model.LinearRegression()\n"
   ]
  },
  {
   "cell_type": "code",
   "execution_count": 473,
   "metadata": {},
   "outputs": [
    {
     "data": {
      "text/plain": [
       "ShapiroResult(statistic=0.8312229514122009, pvalue=0.009520275518298149)"
      ]
     },
     "execution_count": 473,
     "metadata": {},
     "output_type": "execute_result"
    }
   ],
   "source": [
    "shapiro_test = shapiro(data_control['total2'])\n",
    "shapiro_test"
   ]
  },
  {
   "cell_type": "code",
   "execution_count": 474,
   "metadata": {},
   "outputs": [
    {
     "data": {
      "text/plain": [
       "ShapiroResult(statistic=0.747516393661499, pvalue=0.0008409483707509935)"
      ]
     },
     "execution_count": 474,
     "metadata": {},
     "output_type": "execute_result"
    }
   ],
   "source": [
    "shapiro_test = shapiro(data_treatment['total2'])\n",
    "shapiro_test"
   ]
  },
  {
   "cell_type": "code",
   "execution_count": 475,
   "metadata": {},
   "outputs": [
    {
     "data": {
      "text/plain": [
       "ShapiroResult(statistic=0.7386532425880432, pvalue=0.0006647059926763177)"
      ]
     },
     "execution_count": 475,
     "metadata": {},
     "output_type": "execute_result"
    }
   ],
   "source": [
    "shapiro_test = shapiro(diff_data['diff_total2'])\n",
    "shapiro_test"
   ]
  },
  {
   "cell_type": "code",
   "execution_count": 476,
   "metadata": {},
   "outputs": [
    {
     "data": {
      "image/png": "[encoded data removed]",
      "text/plain": [
       "<Figure size 640x480 with 1 Axes>"
      ]
     },
     "metadata": {
      "filenames": {
       "image/png": "/Users/adithyasahasranamam/thesis/_build/jupyter_execute/thesis/_build/jupyter_execute/treatment_41_0.png"
      }
     },
     "output_type": "display_data"
    },
    {
     "data": {
      "text/plain": [
       "<ggplot: (331469017)>"
      ]
     },
     "execution_count": 476,
     "metadata": {},
     "output_type": "execute_result"
    }
   ],
   "source": [
    "ggplot(data, aes(x='treatment', y='totalVar') ) + geom_boxplot() + geom_jitter(data,aes(colour='treatment',shape='treatment'))\n"
   ]
  },
  {
   "cell_type": "code",
   "execution_count": 477,
   "metadata": {},
   "outputs": [
    {
     "name": "stderr",
     "output_type": "stream",
     "text": [
      "/usr/local/lib/python3.9/site-packages/scipy/stats/morestats.py:2967: UserWarning: Exact p-value calculation does not work if there are ties. Switching to normal approximation.\n",
      "/usr/local/lib/python3.9/site-packages/scipy/stats/morestats.py:2981: UserWarning: Sample size too small for normal approximation.\n"
     ]
    },
    {
     "data": {
      "text/plain": [
       "WilcoxonResult(statistic=10.0, pvalue=0.2626182904425206)"
      ]
     },
     "execution_count": 477,
     "metadata": {},
     "output_type": "execute_result"
    }
   ],
   "source": [
    "a = 0.05\n",
    "\n",
    "wilcoxon(diff_data[\"diff_totalVar\"])\n"
   ]
  },
  {
   "cell_type": "code",
   "execution_count": 478,
   "metadata": {},
   "outputs": [
    {
     "data": {
      "image/png": "[encoded data removed]",
      "text/plain": [
       "<Figure size 640x480 with 1 Axes>"
      ]
     },
     "metadata": {
      "filenames": {
       "image/png": "/Users/adithyasahasranamam/thesis/_build/jupyter_execute/thesis/_build/jupyter_execute/treatment_43_0.png"
      }
     },
     "output_type": "display_data"
    },
    {
     "data": {
      "text/plain": [
       "<ggplot: (330655612)>"
      ]
     },
     "execution_count": 478,
     "metadata": {},
     "output_type": "execute_result"
    }
   ],
   "source": [
    "ggplot(data, aes(x='treatment', y='totalWT') ) + geom_boxplot() + geom_jitter(data,aes(colour='treatment',shape='treatment'))\n"
   ]
  },
  {
   "cell_type": "code",
   "execution_count": 479,
   "metadata": {},
   "outputs": [
    {
     "name": "stderr",
     "output_type": "stream",
     "text": [
      "/usr/local/lib/python3.9/site-packages/scipy/stats/morestats.py:2967: UserWarning: Exact p-value calculation does not work if there are ties. Switching to normal approximation.\n"
     ]
    },
    {
     "data": {
      "text/plain": [
       "WilcoxonResult(statistic=1.0, pvalue=0.0069104298078147995)"
      ]
     },
     "execution_count": 479,
     "metadata": {},
     "output_type": "execute_result"
    }
   ],
   "source": [
    "a = 0.05\n",
    "\n",
    "wilcoxon(diff_data[\"diff_totalWT\"])\n"
   ]
  },
  {
   "cell_type": "code",
   "execution_count": 480,
   "metadata": {},
   "outputs": [
    {
     "data": {
      "image/png": "[encoded data removed]",
      "text/plain": [
       "<Figure size 640x480 with 1 Axes>"
      ]
     },
     "metadata": {
      "filenames": {
       "image/png": "/Users/adithyasahasranamam/thesis/_build/jupyter_execute/thesis/_build/jupyter_execute/treatment_45_0.png"
      }
     },
     "output_type": "display_data"
    },
    {
     "data": {
      "text/plain": [
       "<ggplot: (330575120)>"
      ]
     },
     "execution_count": 480,
     "metadata": {},
     "output_type": "execute_result"
    }
   ],
   "source": [
    "ggplot(data, aes(x='treatment', y='totalA') ) + geom_boxplot() + geom_jitter(data,aes(colour='treatment',shape='treatment'))\n"
   ]
  },
  {
   "cell_type": "code",
   "execution_count": 481,
   "metadata": {},
   "outputs": [
    {
     "data": {
      "text/plain": [
       "WilcoxonResult(statistic=14.0, pvalue=0.0067138671875)"
      ]
     },
     "execution_count": 481,
     "metadata": {},
     "output_type": "execute_result"
    }
   ],
   "source": [
    "a = 0.05\n",
    "\n",
    "wilcoxon(diff_data[\"diff_totalA\"])\n"
   ]
  },
  {
   "cell_type": "code",
   "execution_count": 482,
   "metadata": {},
   "outputs": [
    {
     "data": {
      "image/png": "[encoded data removed]",
      "text/plain": [
       "<Figure size 640x480 with 1 Axes>"
      ]
     },
     "metadata": {
      "filenames": {
       "image/png": "/Users/adithyasahasranamam/thesis/_build/jupyter_execute/thesis/_build/jupyter_execute/treatment_47_0.png"
      }
     },
     "output_type": "display_data"
    },
    {
     "data": {
      "text/plain": [
       "<ggplot: (330458582)>"
      ]
     },
     "execution_count": 482,
     "metadata": {},
     "output_type": "execute_result"
    }
   ],
   "source": [
    "ggplot(data, aes(x='treatment', y='totalC') ) + geom_boxplot() + geom_jitter(data,aes(colour='treatment',shape='treatment'))\n"
   ]
  },
  {
   "cell_type": "code",
   "execution_count": 483,
   "metadata": {},
   "outputs": [
    {
     "name": "stderr",
     "output_type": "stream",
     "text": [
      "/usr/local/lib/python3.9/site-packages/scipy/stats/morestats.py:2967: UserWarning: Exact p-value calculation does not work if there are ties. Switching to normal approximation.\n"
     ]
    },
    {
     "data": {
      "text/plain": [
       "WilcoxonResult(statistic=40.0, pvalue=0.7000053872020358)"
      ]
     },
     "execution_count": 483,
     "metadata": {},
     "output_type": "execute_result"
    }
   ],
   "source": [
    "a = 0.05\n",
    "\n",
    "wilcoxon(diff_data[\"diff_totalC\"])\n"
   ]
  },
  {
   "cell_type": "code",
   "execution_count": null,
   "metadata": {},
   "outputs": [],
   "source": []
  },
  {
   "cell_type": "markdown",
   "metadata": {},
   "source": [
    "## Statistics"
   ]
  },
  {
   "cell_type": "markdown",
   "metadata": {},
   "source": [
    "### Total 2 Comparison"
   ]
  },
  {
   "cell_type": "markdown",
   "metadata": {},
   "source": [
    "#### Wilcoxon non-parametric"
   ]
  },
  {
   "cell_type": "code",
   "execution_count": 484,
   "metadata": {},
   "outputs": [
    {
     "name": "stdout",
     "output_type": "stream",
     "text": [
      "13.0 0.00537109375\n"
     ]
    }
   ],
   "source": [
    "a = 0.05\n",
    "\n",
    "w, p = wilcoxon(data_control[\"total2\"],data_treatment[\"total2\"])\n",
    "print(w, p)"
   ]
  },
  {
   "cell_type": "code",
   "execution_count": 485,
   "metadata": {},
   "outputs": [
    {
     "name": "stdout",
     "output_type": "stream",
     "text": [
      "As P0.00537109375 is less than a: 0.05\n",
      "we reject the Null Hypothesis.\n",
      ". There is significant difference betwween the groups\n"
     ]
    }
   ],
   "source": [
    "if (p < a):\n",
    "    print(\"As P\"+str(p)+\" is less than a: \"+str(a))\n",
    "    print( \"we reject the Null Hypothesis.\")\n",
    "    print(\". There is significant difference betwween the groups\")\n",
    "else: \n",
    "    print(\"As P\"+p+\" is larger than a: \"+str(a))\n",
    "    print( \"we FAIL TO reject the Null Hypothesis.\")\n",
    "    print(\". There is NOT a significant difference betwween the groups\")"
   ]
  },
  {
   "cell_type": "markdown",
   "metadata": {},
   "source": [
    "#### Freidman's Anova"
   ]
  },
  {
   "cell_type": "code",
   "execution_count": 486,
   "metadata": {},
   "outputs": [
    {
     "data": {
      "text/html": [
       "<div>\n",
       "<style scoped>\n",
       "    .dataframe tbody tr th:only-of-type {\n",
       "        vertical-align: middle;\n",
       "    }\n",
       "\n",
       "    .dataframe tbody tr th {\n",
       "        vertical-align: top;\n",
       "    }\n",
       "\n",
       "    .dataframe thead th {\n",
       "        text-align: right;\n",
       "    }\n",
       "</style>\n",
       "<table border=\"1\" class=\"dataframe\">\n",
       "  <thead>\n",
       "    <tr style=\"text-align: right;\">\n",
       "      <th></th>\n",
       "      <th>diff_AVAR2</th>\n",
       "      <th>diff_CVAR2</th>\n",
       "      <th>diff_AWT2</th>\n",
       "      <th>diff_CWT2</th>\n",
       "      <th>diff_total2</th>\n",
       "      <th>diff_totalA</th>\n",
       "      <th>diff_totalC</th>\n",
       "      <th>diff_totalWT</th>\n",
       "      <th>diff_totalVar</th>\n",
       "    </tr>\n",
       "  </thead>\n",
       "  <tbody>\n",
       "    <tr>\n",
       "      <th>diff_AVAR2</th>\n",
       "      <td>1.000000</td>\n",
       "      <td>0.900000</td>\n",
       "      <td>0.617954</td>\n",
       "      <td>0.900000</td>\n",
       "      <td>0.147481</td>\n",
       "      <td>0.200657</td>\n",
       "      <td>0.900000</td>\n",
       "      <td>0.658408</td>\n",
       "      <td>0.900000</td>\n",
       "    </tr>\n",
       "    <tr>\n",
       "      <th>diff_CVAR2</th>\n",
       "      <td>0.900000</td>\n",
       "      <td>1.000000</td>\n",
       "      <td>0.496456</td>\n",
       "      <td>0.900000</td>\n",
       "      <td>0.088304</td>\n",
       "      <td>0.125003</td>\n",
       "      <td>0.900000</td>\n",
       "      <td>0.537046</td>\n",
       "      <td>0.900000</td>\n",
       "    </tr>\n",
       "    <tr>\n",
       "      <th>diff_AWT2</th>\n",
       "      <td>0.617954</td>\n",
       "      <td>0.496456</td>\n",
       "      <td>1.000000</td>\n",
       "      <td>0.231812</td>\n",
       "      <td>0.900000</td>\n",
       "      <td>0.900000</td>\n",
       "      <td>0.408266</td>\n",
       "      <td>0.900000</td>\n",
       "      <td>0.820225</td>\n",
       "    </tr>\n",
       "    <tr>\n",
       "      <th>diff_CWT2</th>\n",
       "      <td>0.900000</td>\n",
       "      <td>0.900000</td>\n",
       "      <td>0.231812</td>\n",
       "      <td>1.000000</td>\n",
       "      <td>0.024224</td>\n",
       "      <td>0.037136</td>\n",
       "      <td>0.900000</td>\n",
       "      <td>0.265706</td>\n",
       "      <td>0.900000</td>\n",
       "    </tr>\n",
       "    <tr>\n",
       "      <th>diff_total2</th>\n",
       "      <td>0.147481</td>\n",
       "      <td>0.088304</td>\n",
       "      <td>0.900000</td>\n",
       "      <td>0.024224</td>\n",
       "      <td>1.000000</td>\n",
       "      <td>0.900000</td>\n",
       "      <td>0.061258</td>\n",
       "      <td>0.900000</td>\n",
       "      <td>0.302633</td>\n",
       "    </tr>\n",
       "    <tr>\n",
       "      <th>diff_totalA</th>\n",
       "      <td>0.200657</td>\n",
       "      <td>0.125003</td>\n",
       "      <td>0.900000</td>\n",
       "      <td>0.037136</td>\n",
       "      <td>0.900000</td>\n",
       "      <td>1.000000</td>\n",
       "      <td>0.088304</td>\n",
       "      <td>0.900000</td>\n",
       "      <td>0.385873</td>\n",
       "    </tr>\n",
       "    <tr>\n",
       "      <th>diff_totalC</th>\n",
       "      <td>0.900000</td>\n",
       "      <td>0.900000</td>\n",
       "      <td>0.408266</td>\n",
       "      <td>0.900000</td>\n",
       "      <td>0.061258</td>\n",
       "      <td>0.088304</td>\n",
       "      <td>1.000000</td>\n",
       "      <td>0.453088</td>\n",
       "      <td>0.900000</td>\n",
       "    </tr>\n",
       "    <tr>\n",
       "      <th>diff_totalWT</th>\n",
       "      <td>0.658408</td>\n",
       "      <td>0.537046</td>\n",
       "      <td>0.900000</td>\n",
       "      <td>0.265706</td>\n",
       "      <td>0.900000</td>\n",
       "      <td>0.900000</td>\n",
       "      <td>0.453088</td>\n",
       "      <td>1.000000</td>\n",
       "      <td>0.860680</td>\n",
       "    </tr>\n",
       "    <tr>\n",
       "      <th>diff_totalVar</th>\n",
       "      <td>0.900000</td>\n",
       "      <td>0.900000</td>\n",
       "      <td>0.820225</td>\n",
       "      <td>0.900000</td>\n",
       "      <td>0.302633</td>\n",
       "      <td>0.385873</td>\n",
       "      <td>0.900000</td>\n",
       "      <td>0.860680</td>\n",
       "      <td>1.000000</td>\n",
       "    </tr>\n",
       "  </tbody>\n",
       "</table>\n",
       "</div>"
      ],
      "text/plain": [
       "               diff_AVAR2  diff_CVAR2  diff_AWT2  diff_CWT2  diff_total2  \\\n",
       "diff_AVAR2       1.000000    0.900000   0.617954   0.900000     0.147481   \n",
       "diff_CVAR2       0.900000    1.000000   0.496456   0.900000     0.088304   \n",
       "diff_AWT2        0.617954    0.496456   1.000000   0.231812     0.900000   \n",
       "diff_CWT2        0.900000    0.900000   0.231812   1.000000     0.024224   \n",
       "diff_total2      0.147481    0.088304   0.900000   0.024224     1.000000   \n",
       "diff_totalA      0.200657    0.125003   0.900000   0.037136     0.900000   \n",
       "diff_totalC      0.900000    0.900000   0.408266   0.900000     0.061258   \n",
       "diff_totalWT     0.658408    0.537046   0.900000   0.265706     0.900000   \n",
       "diff_totalVar    0.900000    0.900000   0.820225   0.900000     0.302633   \n",
       "\n",
       "               diff_totalA  diff_totalC  diff_totalWT  diff_totalVar  \n",
       "diff_AVAR2        0.200657     0.900000      0.658408       0.900000  \n",
       "diff_CVAR2        0.125003     0.900000      0.537046       0.900000  \n",
       "diff_AWT2         0.900000     0.408266      0.900000       0.820225  \n",
       "diff_CWT2         0.037136     0.900000      0.265706       0.900000  \n",
       "diff_total2       0.900000     0.061258      0.900000       0.302633  \n",
       "diff_totalA       1.000000     0.088304      0.900000       0.385873  \n",
       "diff_totalC       0.088304     1.000000      0.453088       0.900000  \n",
       "diff_totalWT      0.900000     0.453088      1.000000       0.860680  \n",
       "diff_totalVar     0.385873     0.900000      0.860680       1.000000  "
      ]
     },
     "execution_count": 486,
     "metadata": {},
     "output_type": "execute_result"
    }
   ],
   "source": [
    "sp.posthoc_nemenyi_friedman(diff_data)"
   ]
  },
  {
   "cell_type": "markdown",
   "metadata": {},
   "source": [
    "Friedman Tes "
   ]
  },
  {
   "cell_type": "markdown",
   "metadata": {},
   "source": [
    "### other"
   ]
  },
  {
   "cell_type": "code",
   "execution_count": 487,
   "metadata": {},
   "outputs": [
    {
     "name": "stdout",
     "output_type": "stream",
     "text": [
      "48.0 0.52447509765625\n"
     ]
    },
    {
     "name": "stderr",
     "output_type": "stream",
     "text": [
      "/usr/local/lib/python3.9/site-packages/scipy/stats/morestats.py:2956: RuntimeWarning: invalid value encountered in subtract\n"
     ]
    }
   ],
   "source": [
    "a = 0.05\n",
    "\n",
    "w, p = wilcoxon((data_control[\"totalA\"]/data_control[\"totalC\"] ),(data_treatment[\"totalA\"]/data_treatment[\"totalC\"]))\n",
    "print(w, p)"
   ]
  },
  {
   "cell_type": "code",
   "execution_count": 488,
   "metadata": {},
   "outputs": [
    {
     "name": "stdout",
     "output_type": "stream",
     "text": [
      "11.0 0.00335693359375\n"
     ]
    }
   ],
   "source": [
    "a = 0.05\n",
    "\n",
    "w, p = wilcoxon((data_control[\"AVAR2\"]/data_control[\"CVAR2\"] ),(data_treatment[\"AVAR2\"]/data_treatment[\"CVAR2\"]))\n",
    "print(w, p)"
   ]
  },
  {
   "cell_type": "code",
   "execution_count": 489,
   "metadata": {},
   "outputs": [
    {
     "name": "stdout",
     "output_type": "stream",
     "text": [
      "19.0 0.05535888671875\n"
     ]
    }
   ],
   "source": [
    "a = 0.05\n",
    "\n",
    "w, p = wilcoxon((data_control[\"AWT2\"]/data_control[\"CWT2\"] ),(data_treatment[\"AWT2\"]/data_treatment[\"CWT2\"]))\n",
    "print(w, p)"
   ]
  },
  {
   "cell_type": "code",
   "execution_count": 490,
   "metadata": {},
   "outputs": [
    {
     "name": "stderr",
     "output_type": "stream",
     "text": [
      "/usr/local/lib/python3.9/site-packages/plotnine/stats/stat_bin.py:93: PlotnineWarning: 'stat_bin()' using 'bins = 3'. Pick better value with 'binwidth'.\n"
     ]
    },
    {
     "data": {
      "image/png": "[encoded data removed]",
      "text/plain": [
       "<Figure size 640x480 with 1 Axes>"
      ]
     },
     "metadata": {
      "filenames": {
       "image/png": "/Users/adithyasahasranamam/thesis/_build/jupyter_execute/thesis/_build/jupyter_execute/treatment_62_1.png"
      }
     },
     "output_type": "display_data"
    },
    {
     "data": {
      "text/plain": [
       "<ggplot: (331098862)>"
      ]
     },
     "execution_count": 490,
     "metadata": {},
     "output_type": "execute_result"
    }
   ],
   "source": [
    "ggplot()+geom_histogram(procData,aes(x=\"tg2\"))"
   ]
  },
  {
   "cell_type": "code",
   "execution_count": 491,
   "metadata": {},
   "outputs": [
    {
     "name": "stderr",
     "output_type": "stream",
     "text": [
      "/usr/local/lib/python3.9/site-packages/plotnine/stats/stat_bin.py:93: PlotnineWarning: 'stat_bin()' using 'bins = 3'. Pick better value with 'binwidth'.\n"
     ]
    },
    {
     "data": {
      "image/png": "[encoded data removed]",
      "text/plain": [
       "<Figure size 640x480 with 1 Axes>"
      ]
     },
     "metadata": {
      "filenames": {
       "image/png": "/Users/adithyasahasranamam/thesis/_build/jupyter_execute/thesis/_build/jupyter_execute/treatment_63_1.png"
      }
     },
     "output_type": "display_data"
    },
    {
     "data": {
      "text/plain": [
       "<ggplot: (331469008)>"
      ]
     },
     "execution_count": 491,
     "metadata": {},
     "output_type": "execute_result"
    }
   ],
   "source": [
    "ggplot()+geom_histogram(procData,aes(x=\"mutant\"))"
   ]
  },
  {
   "cell_type": "code",
   "execution_count": 492,
   "metadata": {},
   "outputs": [
    {
     "data": {
      "image/png": "[encoded data removed]",
      "text/plain": [
       "<Figure size 640x480 with 1 Axes>"
      ]
     },
     "metadata": {
      "filenames": {
       "image/png": "/Users/adithyasahasranamam/thesis/_build/jupyter_execute/thesis/_build/jupyter_execute/treatment_64_0.png"
      }
     },
     "output_type": "display_data"
    },
    {
     "data": {
      "text/plain": [
       "<ggplot: (331106699)>"
      ]
     },
     "execution_count": 492,
     "metadata": {},
     "output_type": "execute_result"
    }
   ],
   "source": [
    "ggplot()+geom_bar(procData,aes(x=\"spliceVariant\",fill=\"mutant\"))"
   ]
  },
  {
   "cell_type": "code",
   "execution_count": 493,
   "metadata": {},
   "outputs": [
    {
     "name": "stderr",
     "output_type": "stream",
     "text": [
      "/usr/local/lib/python3.9/site-packages/plotnine/layer.py:467: PlotnineWarning: geom_col : Removed 9 rows containing missing values.\n"
     ]
    },
    {
     "data": {
      "image/png": "[encoded data removed]",
      "text/plain": [
       "<Figure size 640x480 with 1 Axes>"
      ]
     },
     "metadata": {
      "filenames": {
       "image/png": "/Users/adithyasahasranamam/thesis/_build/jupyter_execute/thesis/_build/jupyter_execute/treatment_65_1.png"
      }
     },
     "output_type": "display_data"
    },
    {
     "data": {
      "text/plain": [
       "<ggplot: (331622958)>"
      ]
     },
     "execution_count": 493,
     "metadata": {},
     "output_type": "execute_result"
    }
   ],
   "source": [
    "ggplot()+geom_col(procData,aes(x=\"spliceVariant\",y=\"diff_totalA/diff_totalC\",fill=\"mutant\"))"
   ]
  },
  {
   "cell_type": "code",
   "execution_count": 494,
   "metadata": {},
   "outputs": [
    {
     "name": "stderr",
     "output_type": "stream",
     "text": [
      "<ipython-input-494-7ecc4e451223>:2: UserWarning: Boolean Series key will be reindexed to match DataFrame index.\n",
      "/usr/local/lib/python3.9/site-packages/plotnine/stats/stat_bin.py:93: PlotnineWarning: 'stat_bin()' using 'bins = 3'. Pick better value with 'binwidth'.\n"
     ]
    },
    {
     "data": {
      "image/png": "[encoded data removed]",
      "text/plain": [
       "<Figure size 640x480 with 1 Axes>"
      ]
     },
     "metadata": {
      "filenames": {
       "image/png": "/Users/adithyasahasranamam/thesis/_build/jupyter_execute/thesis/_build/jupyter_execute/treatment_66_1.png"
      }
     },
     "output_type": "display_data"
    },
    {
     "data": {
      "text/plain": [
       "<ggplot: (331498159)>"
      ]
     },
     "execution_count": 494,
     "metadata": {},
     "output_type": "execute_result"
    }
   ],
   "source": [
    "a = 0.05\n",
    "diff_data = procData[(data[\"totalC\"] > 0 ) & (data[\"totalA\"] > 0 )]\n",
    "ggplot()+geom_histogram(diff_data,aes(x=\"tg2\"))"
   ]
  },
  {
   "cell_type": "code",
   "execution_count": 495,
   "metadata": {},
   "outputs": [
    {
     "name": "stdout",
     "output_type": "stream",
     "text": [
      "0.0 0.0009765625\n"
     ]
    }
   ],
   "source": [
    "\n",
    "w, p = wilcoxon((diff_data[\"totalC\"] )/(diff_data[\"totalA\"]))\n",
    "print(w, p)"
   ]
  },
  {
   "cell_type": "code",
   "execution_count": 496,
   "metadata": {},
   "outputs": [
    {
     "name": "stdout",
     "output_type": "stream",
     "text": [
      "13.0 0.00537109375\n"
     ]
    }
   ],
   "source": [
    "a = 0.05\n",
    "\n",
    "w, p = wilcoxon(data_control[\"total2\"],data_treatment[\"total2\"])\n",
    "print(w, p)"
   ]
  },
  {
   "cell_type": "code",
   "execution_count": null,
   "metadata": {},
   "outputs": [],
   "source": []
  },
  {
   "cell_type": "markdown",
   "metadata": {},
   "source": [
    "2 graphs \n",
    "\n",
    "1. Do the Table\n",
    "3. Black and white\n",
    "3. Make sure its not sloppy\n",
    "4. \n",
    "\n",
    "control, LPS & Difference.\n",
    "\n",
    "correlation plot for each patient - total 2 & diff_total2\n",
    "\n",
    "Look for A/C ratios \n",
    "\n",
    "ggplot(data_plot,aes(x='total2',y='ctrl_total2') )  + geom_point(colour) + geom_smooth(method='lm')\n"
   ]
  },
  {
   "cell_type": "markdown",
   "metadata": {},
   "source": []
  },
  {
   "cell_type": "code",
   "execution_count": null,
   "metadata": {},
   "outputs": [],
   "source": []
  }
 ],
 "metadata": {
  "kernelspec": {
   "display_name": "Python 3.9.2 64-bit",
   "name": "python3"
  },
  "language_info": {
   "codemirror_mode": {
    "name": "ipython",
    "version": 3
   },
   "file_extension": ".py",
   "mimetype": "text/x-python",
   "name": "python",
   "nbconvert_exporter": "python",
   "pygments_lexer": "ipython3",
   "version": "3.9.2"
  },
  "metadata": {
   "interpreter": {
    "hash": "aee8b7b246df8f9039afb4144a1f6fd8d2ca17a180786b69acc140d282b71a49"
   }
  }
 },
 "nbformat": 4,
 "nbformat_minor": 2
}