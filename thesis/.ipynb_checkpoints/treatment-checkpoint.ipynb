{
 "cells": [
  {
   "cell_type": "markdown",
   "metadata": {},
   "source": [
    "\n",
    "#  Statistics & Data Analysis\n"
   ]
  },
  {
   "cell_type": "markdown",
   "metadata": {},
   "source": [
    "##  Req"
   ]
  },
  {
   "cell_type": "markdown",
   "metadata": {},
   "source": [
    "#### Import Requirements"
   ]
  },
  {
   "cell_type": "markdown",
   "metadata": {},
   "source": [
    "##### HTML formatting"
   ]
  },
  {
   "cell_type": "code",
   "execution_count": 84,
   "metadata": {},
   "outputs": [
    {
     "data": {
      "text/html": [
       "<style type=\"text/css\">\n",
       "  table.dataframe td, table.dataframe th {\n",
       "    max-width: none;\n",
       "    white-space: normal;\n",
       "    line-height: normal;\n",
       "    padding: 0.3em 0.5em;\n",
       "  }\n",
       "</style>\n",
       "import sys\n",
       "!{sys.executable} -m pip install numpy\n"
      ],
      "text/plain": [
       "<IPython.core.display.HTML object>"
      ]
     },
     "execution_count": 84,
     "metadata": {},
     "output_type": "execute_result"
    }
   ],
   "source": [
    "from IPython.display import HTML\n",
    "\n",
    "HTML(\"\"\"<style type=\"text/css\">\n",
    "  table.dataframe td, table.dataframe th {\n",
    "    max-width: none;\n",
    "</style>\n",
    "\"\"\")\n",
    "\n",
    "\n",
    "HTML(\"\"\"<style type=\"text/css\">\n",
    "  table.dataframe td, table.dataframe th {\n",
    "    max-width: none;\n",
    "    white-space: normal;\n",
    "  }\n",
    "</style>\n",
    "\"\"\")\n",
    "\n",
    "\n",
    "HTML(\"\"\"<style type=\"text/css\">\n",
    "  table.dataframe td, table.dataframe th {\n",
    "    max-width: none;\n",
    "    white-space: normal;\n",
    "    line-height: normal;\n",
    "  }\n",
    "</style>\n",
    "\"\"\")\n",
    "\n",
    "\n",
    "HTML(\"\"\"<style type=\"text/css\">\n",
    "  table.dataframe td, table.dataframe th {\n",
    "    max-width: none;\n",
    "    white-space: normal;\n",
    "    line-height: normal;\n",
    "    padding: 0.3em 0.5em;\n",
    "  }\n",
    "</style>\n",
    "import sys\n",
    "!{sys.executable} -m pip install numpy\n",
    "\"\"\")"
   ]
  },
  {
   "cell_type": "code",
   "execution_count": 85,
   "metadata": {},
   "outputs": [
    {
     "name": "stdout",
     "output_type": "stream",
     "text": [
      "Requirement already satisfied: numpy in /usr/local/Cellar/jupyterlab/3.0.10/libexec/lib/python3.9/site-packages (1.20.1)\n",
      "Requirement already satisfied: pandas in /usr/local/Cellar/jupyterlab/3.0.10/libexec/lib/python3.9/site-packages (1.2.3)\n",
      "Requirement already satisfied: scipy in /usr/local/Cellar/jupyterlab/3.0.10/libexec/lib/python3.9/site-packages (1.6.1)\n",
      "Requirement already satisfied: matplotlib in /usr/local/Cellar/jupyterlab/3.0.10/libexec/lib/python3.9/site-packages (3.3.4)\n",
      "Requirement already satisfied: plotnine in /usr/local/Cellar/jupyterlab/3.0.10/libexec/lib/python3.9/site-packages (0.7.1)\n",
      "Requirement already satisfied: scikit_posthocs in /usr/local/Cellar/jupyterlab/3.0.10/libexec/lib/python3.9/site-packages (0.6.7)\n",
      "Requirement already satisfied: sklearn in /usr/local/Cellar/jupyterlab/3.0.10/libexec/lib/python3.9/site-packages (0.0)\n",
      "Requirement already satisfied: pingouin in /usr/local/Cellar/jupyterlab/3.0.10/libexec/lib/python3.9/site-packages (0.3.10)\n",
      "Requirement already satisfied: pillow>=6.2.0 in /usr/local/Cellar/jupyterlab/3.0.10/libexec/lib/python3.9/site-packages (from matplotlib) (8.1.2)\n",
      "Requirement already satisfied: kiwisolver>=1.0.1 in /usr/local/Cellar/jupyterlab/3.0.10/libexec/lib/python3.9/site-packages (from matplotlib) (1.3.1)\n",
      "Requirement already satisfied: python-dateutil>=2.1 in /usr/local/Cellar/jupyterlab/3.0.10/libexec/lib/python3.9/site-packages (from matplotlib) (2.8.1)\n",
      "Requirement already satisfied: pyparsing!=2.0.4,!=2.1.2,!=2.1.6,>=2.0.3 in /usr/local/Cellar/jupyterlab/3.0.10/libexec/lib/python3.9/site-packages (from matplotlib) (2.4.7)\n",
      "Requirement already satisfied: cycler>=0.10 in /usr/local/Cellar/jupyterlab/3.0.10/libexec/lib/python3.9/site-packages (from matplotlib) (0.10.0)\n",
      "Requirement already satisfied: six in /usr/local/Cellar/jupyterlab/3.0.10/libexec/lib/python3.9/site-packages (from cycler>=0.10->matplotlib) (1.15.0)\n",
      "Requirement already satisfied: pytz>=2017.3 in /usr/local/Cellar/jupyterlab/3.0.10/libexec/lib/python3.9/site-packages (from pandas) (2021.1)\n",
      "Requirement already satisfied: seaborn>=0.9.0 in /usr/local/Cellar/jupyterlab/3.0.10/libexec/lib/python3.9/site-packages (from pingouin) (0.11.1)\n",
      "Requirement already satisfied: statsmodels>=0.10.0 in /usr/local/Cellar/jupyterlab/3.0.10/libexec/lib/python3.9/site-packages (from pingouin) (0.12.2)\n",
      "Requirement already satisfied: scikit-learn in /usr/local/Cellar/jupyterlab/3.0.10/libexec/lib/python3.9/site-packages (from pingouin) (0.24.1)\n",
      "Requirement already satisfied: pandas_flavor>=0.1.2 in /usr/local/Cellar/jupyterlab/3.0.10/libexec/lib/python3.9/site-packages (from pingouin) (0.2.0)\n",
      "Requirement already satisfied: outdated in /usr/local/Cellar/jupyterlab/3.0.10/libexec/lib/python3.9/site-packages (from pingouin) (0.2.0)\n",
      "Requirement already satisfied: tabulate in /usr/local/Cellar/jupyterlab/3.0.10/libexec/lib/python3.9/site-packages (from pingouin) (0.8.9)\n",
      "Requirement already satisfied: xarray in /usr/local/Cellar/jupyterlab/3.0.10/libexec/lib/python3.9/site-packages (from pandas_flavor>=0.1.2->pingouin) (0.17.0)\n",
      "Requirement already satisfied: patsy>=0.5 in /usr/local/Cellar/jupyterlab/3.0.10/libexec/lib/python3.9/site-packages (from statsmodels>=0.10.0->pingouin) (0.5.1)\n",
      "Requirement already satisfied: mizani>=0.7.1 in /usr/local/Cellar/jupyterlab/3.0.10/libexec/lib/python3.9/site-packages (from plotnine) (0.7.2)\n",
      "Requirement already satisfied: descartes>=1.1.0 in /usr/local/Cellar/jupyterlab/3.0.10/libexec/lib/python3.9/site-packages (from plotnine) (1.1.0)\n",
      "Requirement already satisfied: palettable in /usr/local/Cellar/jupyterlab/3.0.10/libexec/lib/python3.9/site-packages (from mizani>=0.7.1->plotnine) (3.3.0)\n",
      "Requirement already satisfied: littleutils in /usr/local/Cellar/jupyterlab/3.0.10/libexec/lib/python3.9/site-packages (from outdated->pingouin) (0.2.2)\n",
      "Requirement already satisfied: requests in /usr/local/Cellar/jupyterlab/3.0.10/libexec/lib/python3.9/site-packages (from outdated->pingouin) (2.15.1)\n",
      "Requirement already satisfied: threadpoolctl>=2.0.0 in /usr/local/Cellar/jupyterlab/3.0.10/libexec/lib/python3.9/site-packages (from scikit-learn->pingouin) (2.1.0)\n",
      "Requirement already satisfied: joblib>=0.11 in /usr/local/Cellar/jupyterlab/3.0.10/libexec/lib/python3.9/site-packages (from scikit-learn->pingouin) (1.0.1)\n",
      "Requirement already satisfied: setuptools>=40.4 in /usr/local/Cellar/jupyterlab/3.0.10/libexec/lib/python3.9/site-packages (from xarray->pandas_flavor>=0.1.2->pingouin) (53.0.0)\n"
     ]
    },
    {
     "data": {
      "text/html": [
       "<div>\n",
       "<style scoped>\n",
       "    .dataframe tbody tr th:only-of-type {\n",
       "        vertical-align: middle;\n",
       "    }\n",
       "\n",
       "    .dataframe tbody tr th {\n",
       "        vertical-align: top;\n",
       "    }\n",
       "\n",
       "    .dataframe thead th {\n",
       "        text-align: right;\n",
       "    }\n",
       "</style>\n",
       "<table border=\"1\" class=\"dataframe\">\n",
       "  <thead>\n",
       "    <tr style=\"text-align: right;\">\n",
       "      <th></th>\n",
       "      <th>Sheet #</th>\n",
       "      <th>Run</th>\n",
       "      <th>BioSample</th>\n",
       "      <th>Bases</th>\n",
       "      <th>Bytes</th>\n",
       "      <th>Experiment</th>\n",
       "      <th>GEO_Accession</th>\n",
       "      <th>inflammatory_response</th>\n",
       "      <th>race</th>\n",
       "      <th>Sample Name</th>\n",
       "      <th>...</th>\n",
       "      <th>totalVar</th>\n",
       "      <th>kind</th>\n",
       "      <th>tret</th>\n",
       "      <th>InfLevels</th>\n",
       "      <th>testGroup</th>\n",
       "      <th>spliceVariant</th>\n",
       "      <th>mutant</th>\n",
       "      <th>tg2</th>\n",
       "      <th>finalGroup</th>\n",
       "      <th>sv</th>\n",
       "    </tr>\n",
       "  </thead>\n",
       "  <tbody>\n",
       "    <tr>\n",
       "      <th>0</th>\n",
       "      <td>1</td>\n",
       "      <td>SRR4292082</td>\n",
       "      <td>SAMN05806811</td>\n",
       "      <td>46.47 G</td>\n",
       "      <td>28.49 Gb</td>\n",
       "      <td>SRX2187576</td>\n",
       "      <td>GSM2326887</td>\n",
       "      <td>1</td>\n",
       "      <td>African American</td>\n",
       "      <td>GSM2326887</td>\n",
       "      <td>...</td>\n",
       "      <td>12.85</td>\n",
       "      <td>2</td>\n",
       "      <td>0</td>\n",
       "      <td>high</td>\n",
       "      <td>A-Var/C-Var</td>\n",
       "      <td>A/C</td>\n",
       "      <td>VAR</td>\n",
       "      <td>A-Var/C-Var</td>\n",
       "      <td>VV</td>\n",
       "      <td>AC</td>\n",
       "    </tr>\n",
       "    <tr>\n",
       "      <th>1</th>\n",
       "      <td>2</td>\n",
       "      <td>SRR4292083</td>\n",
       "      <td>SAMN05806810</td>\n",
       "      <td>46.49 G</td>\n",
       "      <td>28.50 Gb</td>\n",
       "      <td>SRX2187577</td>\n",
       "      <td>GSM2326888</td>\n",
       "      <td>1</td>\n",
       "      <td>Caucasian</td>\n",
       "      <td>GSM2326888</td>\n",
       "      <td>...</td>\n",
       "      <td>12.21</td>\n",
       "      <td>1</td>\n",
       "      <td>0</td>\n",
       "      <td>high</td>\n",
       "      <td>A-Var/C-Var</td>\n",
       "      <td>A/C</td>\n",
       "      <td>VAR</td>\n",
       "      <td>A-Var/C-Var</td>\n",
       "      <td>VV</td>\n",
       "      <td>AC</td>\n",
       "    </tr>\n",
       "    <tr>\n",
       "      <th>2</th>\n",
       "      <td>3</td>\n",
       "      <td>SRR4292084</td>\n",
       "      <td>SAMN05806809</td>\n",
       "      <td>36.42 G</td>\n",
       "      <td>22.36 Gb</td>\n",
       "      <td>SRX2187578</td>\n",
       "      <td>GSM2326889</td>\n",
       "      <td>1</td>\n",
       "      <td>Caucasian</td>\n",
       "      <td>GSM2326889</td>\n",
       "      <td>...</td>\n",
       "      <td>0.00</td>\n",
       "      <td>1</td>\n",
       "      <td>0</td>\n",
       "      <td>high</td>\n",
       "      <td>AWT</td>\n",
       "      <td>A</td>\n",
       "      <td>WT</td>\n",
       "      <td>AWT</td>\n",
       "      <td>WY</td>\n",
       "      <td>AA</td>\n",
       "    </tr>\n",
       "    <tr>\n",
       "      <th>3</th>\n",
       "      <td>4</td>\n",
       "      <td>SRR4292085</td>\n",
       "      <td>SAMN05806838</td>\n",
       "      <td>31.91 G</td>\n",
       "      <td>19.56 Gb</td>\n",
       "      <td>SRX2187579</td>\n",
       "      <td>GSM2326890</td>\n",
       "      <td>1</td>\n",
       "      <td>Caucasian</td>\n",
       "      <td>GSM2326890</td>\n",
       "      <td>...</td>\n",
       "      <td>7.83</td>\n",
       "      <td>1</td>\n",
       "      <td>0</td>\n",
       "      <td>high</td>\n",
       "      <td>error</td>\n",
       "      <td>A/C</td>\n",
       "      <td>WT/VAR</td>\n",
       "      <td>Error</td>\n",
       "      <td>VY</td>\n",
       "      <td>AA</td>\n",
       "    </tr>\n",
       "    <tr>\n",
       "      <th>4</th>\n",
       "      <td>5</td>\n",
       "      <td>SRR4292086</td>\n",
       "      <td>SAMN05806837</td>\n",
       "      <td>24.89 G</td>\n",
       "      <td>16.09 Gb</td>\n",
       "      <td>SRX2187580</td>\n",
       "      <td>GSM2326891</td>\n",
       "      <td>1</td>\n",
       "      <td>Caucasian</td>\n",
       "      <td>GSM2326891</td>\n",
       "      <td>...</td>\n",
       "      <td>0.00</td>\n",
       "      <td>1</td>\n",
       "      <td>0</td>\n",
       "      <td>high</td>\n",
       "      <td>AWT</td>\n",
       "      <td>A</td>\n",
       "      <td>WT</td>\n",
       "      <td>AWT</td>\n",
       "      <td>WY</td>\n",
       "      <td>AA</td>\n",
       "    </tr>\n",
       "    <tr>\n",
       "      <th>...</th>\n",
       "      <td>...</td>\n",
       "      <td>...</td>\n",
       "      <td>...</td>\n",
       "      <td>...</td>\n",
       "      <td>...</td>\n",
       "      <td>...</td>\n",
       "      <td>...</td>\n",
       "      <td>...</td>\n",
       "      <td>...</td>\n",
       "      <td>...</td>\n",
       "      <td>...</td>\n",
       "      <td>...</td>\n",
       "      <td>...</td>\n",
       "      <td>...</td>\n",
       "      <td>...</td>\n",
       "      <td>...</td>\n",
       "      <td>...</td>\n",
       "      <td>...</td>\n",
       "      <td>...</td>\n",
       "      <td>...</td>\n",
       "      <td>...</td>\n",
       "    </tr>\n",
       "    <tr>\n",
       "      <th>25</th>\n",
       "      <td>26</td>\n",
       "      <td>SRR4292107</td>\n",
       "      <td>SAMN05806816</td>\n",
       "      <td>6.14 G</td>\n",
       "      <td>3.59 Gb</td>\n",
       "      <td>SRX2187601</td>\n",
       "      <td>GSM2326912</td>\n",
       "      <td>1</td>\n",
       "      <td>African American</td>\n",
       "      <td>GSM2326912</td>\n",
       "      <td>...</td>\n",
       "      <td>0.00</td>\n",
       "      <td>2</td>\n",
       "      <td>1</td>\n",
       "      <td>high</td>\n",
       "      <td>A-WT/C-WT</td>\n",
       "      <td>A/C</td>\n",
       "      <td>WT</td>\n",
       "      <td>A-WT/C-WT</td>\n",
       "      <td>WW</td>\n",
       "      <td>AC</td>\n",
       "    </tr>\n",
       "    <tr>\n",
       "      <th>26</th>\n",
       "      <td>27</td>\n",
       "      <td>SRR4292108</td>\n",
       "      <td>SAMN05806815</td>\n",
       "      <td>9.42 G</td>\n",
       "      <td>5.60 Gb</td>\n",
       "      <td>SRX2187602</td>\n",
       "      <td>GSM2326913</td>\n",
       "      <td>-1</td>\n",
       "      <td>African American</td>\n",
       "      <td>GSM2326913</td>\n",
       "      <td>...</td>\n",
       "      <td>0.00</td>\n",
       "      <td>1</td>\n",
       "      <td>1</td>\n",
       "      <td>low</td>\n",
       "      <td>AWT</td>\n",
       "      <td>A</td>\n",
       "      <td>WT</td>\n",
       "      <td>AWT</td>\n",
       "      <td>WY</td>\n",
       "      <td>AA</td>\n",
       "    </tr>\n",
       "    <tr>\n",
       "      <th>27</th>\n",
       "      <td>28</td>\n",
       "      <td>SRR4292109</td>\n",
       "      <td>SAMN05806814</td>\n",
       "      <td>7.90 G</td>\n",
       "      <td>4.72 Gb</td>\n",
       "      <td>SRX2187603</td>\n",
       "      <td>GSM2326914</td>\n",
       "      <td>-1</td>\n",
       "      <td>African American</td>\n",
       "      <td>GSM2326914</td>\n",
       "      <td>...</td>\n",
       "      <td>0.00</td>\n",
       "      <td>1</td>\n",
       "      <td>1</td>\n",
       "      <td>low</td>\n",
       "      <td>AWT</td>\n",
       "      <td>A</td>\n",
       "      <td>WT</td>\n",
       "      <td>AWT</td>\n",
       "      <td>WY</td>\n",
       "      <td>AA</td>\n",
       "    </tr>\n",
       "    <tr>\n",
       "      <th>28</th>\n",
       "      <td>29</td>\n",
       "      <td>SRR4292110</td>\n",
       "      <td>SAMN05806813</td>\n",
       "      <td>11.19 G</td>\n",
       "      <td>6.65 Gb</td>\n",
       "      <td>SRX2187604</td>\n",
       "      <td>GSM2326915</td>\n",
       "      <td>-1</td>\n",
       "      <td>Caucasian</td>\n",
       "      <td>GSM2326915</td>\n",
       "      <td>...</td>\n",
       "      <td>0.00</td>\n",
       "      <td>1</td>\n",
       "      <td>1</td>\n",
       "      <td>low</td>\n",
       "      <td>AWT</td>\n",
       "      <td>A</td>\n",
       "      <td>WT</td>\n",
       "      <td>AWT</td>\n",
       "      <td>WY</td>\n",
       "      <td>AA</td>\n",
       "    </tr>\n",
       "    <tr>\n",
       "      <th>29</th>\n",
       "      <td>30</td>\n",
       "      <td>SRR4292111</td>\n",
       "      <td>SAMN05806812</td>\n",
       "      <td>6.61 G</td>\n",
       "      <td>4.20 Gb</td>\n",
       "      <td>SRX2187605</td>\n",
       "      <td>GSM2326916</td>\n",
       "      <td>-1</td>\n",
       "      <td>African American</td>\n",
       "      <td>GSM2326916</td>\n",
       "      <td>...</td>\n",
       "      <td>0.47</td>\n",
       "      <td>2</td>\n",
       "      <td>1</td>\n",
       "      <td>low</td>\n",
       "      <td>error</td>\n",
       "      <td>A/C</td>\n",
       "      <td>WT/VAR</td>\n",
       "      <td>Error</td>\n",
       "      <td>HET</td>\n",
       "      <td>AC</td>\n",
       "    </tr>\n",
       "  </tbody>\n",
       "</table>\n",
       "<p>30 rows × 34 columns</p>\n",
       "</div>"
      ],
      "text/plain": [
       "    Sheet #         Run     BioSample    Bases     Bytes  Experiment  \\\n",
       "0         1  SRR4292082  SAMN05806811  46.47 G  28.49 Gb  SRX2187576   \n",
       "1         2  SRR4292083  SAMN05806810  46.49 G  28.50 Gb  SRX2187577   \n",
       "2         3  SRR4292084  SAMN05806809  36.42 G  22.36 Gb  SRX2187578   \n",
       "3         4  SRR4292085  SAMN05806838  31.91 G  19.56 Gb  SRX2187579   \n",
       "4         5  SRR4292086  SAMN05806837  24.89 G  16.09 Gb  SRX2187580   \n",
       "..      ...         ...           ...      ...       ...         ...   \n",
       "25       26  SRR4292107  SAMN05806816   6.14 G   3.59 Gb  SRX2187601   \n",
       "26       27  SRR4292108  SAMN05806815   9.42 G   5.60 Gb  SRX2187602   \n",
       "27       28  SRR4292109  SAMN05806814   7.90 G   4.72 Gb  SRX2187603   \n",
       "28       29  SRR4292110  SAMN05806813  11.19 G   6.65 Gb  SRX2187604   \n",
       "29       30  SRR4292111  SAMN05806812   6.61 G   4.20 Gb  SRX2187605   \n",
       "\n",
       "   GEO_Accession  inflammatory_response              race Sample Name  ...  \\\n",
       "0     GSM2326887                      1  African American  GSM2326887  ...   \n",
       "1     GSM2326888                      1         Caucasian  GSM2326888  ...   \n",
       "2     GSM2326889                      1         Caucasian  GSM2326889  ...   \n",
       "3     GSM2326890                      1         Caucasian  GSM2326890  ...   \n",
       "4     GSM2326891                      1         Caucasian  GSM2326891  ...   \n",
       "..           ...                    ...               ...         ...  ...   \n",
       "25    GSM2326912                      1  African American  GSM2326912  ...   \n",
       "26    GSM2326913                     -1  African American  GSM2326913  ...   \n",
       "27    GSM2326914                     -1  African American  GSM2326914  ...   \n",
       "28    GSM2326915                     -1         Caucasian  GSM2326915  ...   \n",
       "29    GSM2326916                     -1  African American  GSM2326916  ...   \n",
       "\n",
       "   totalVar kind  tret  InfLevels    testGroup  spliceVariant  mutant  \\\n",
       "0     12.85    2     0       high  A-Var/C-Var            A/C     VAR   \n",
       "1     12.21    1     0       high  A-Var/C-Var            A/C     VAR   \n",
       "2      0.00    1     0       high          AWT              A      WT   \n",
       "3      7.83    1     0       high        error            A/C  WT/VAR   \n",
       "4      0.00    1     0       high          AWT              A      WT   \n",
       "..      ...  ...   ...        ...          ...            ...     ...   \n",
       "25     0.00    2     1       high    A-WT/C-WT            A/C      WT   \n",
       "26     0.00    1     1        low          AWT              A      WT   \n",
       "27     0.00    1     1        low          AWT              A      WT   \n",
       "28     0.00    1     1        low          AWT              A      WT   \n",
       "29     0.47    2     1        low        error            A/C  WT/VAR   \n",
       "\n",
       "            tg2  finalGroup  sv  \n",
       "0   A-Var/C-Var          VV  AC  \n",
       "1   A-Var/C-Var          VV  AC  \n",
       "2           AWT          WY  AA  \n",
       "3         Error          VY  AA  \n",
       "4           AWT          WY  AA  \n",
       "..          ...         ...  ..  \n",
       "25    A-WT/C-WT          WW  AC  \n",
       "26          AWT          WY  AA  \n",
       "27          AWT          WY  AA  \n",
       "28          AWT          WY  AA  \n",
       "29        Error         HET  AC  \n",
       "\n",
       "[30 rows x 34 columns]"
      ]
     },
     "execution_count": 85,
     "metadata": {},
     "output_type": "execute_result"
    }
   ],
   "source": [
    "import sys\n",
    "!{sys.executable} -m pip install numpy pandas scipy matplotlib plotnine scikit_posthocs sklearn pingouin\n",
    "\n",
    "import numpy as np\n",
    "import pandas as pd\n",
    "import scipy\n",
    "import matplotlib.pyplot as plt\n",
    "from pandas.api.types import CategoricalDtype\n",
    "from plotnine import *\n",
    "from scipy.stats import *\n",
    "import scikit_posthocs as sp\n",
    "\n",
    "\n",
    "\n",
    "data = pd.read_csv(\"./NewCols.csv\")\n",
    "data['sv'] = np.where( (data['finalGroup']=='VV') | (data['finalGroup']=='WW')| (data['finalGroup']=='HET'), 'AC', 'AA')\n",
    "\n",
    "data\n"
   ]
  },
  {
   "cell_type": "markdown",
   "metadata": {},
   "source": [
    "## Calculating the differences between the noremalized values. "
   ]
  },
  {
   "cell_type": "code",
   "execution_count": 86,
   "metadata": {},
   "outputs": [
    {
     "name": "stderr",
     "output_type": "stream",
     "text": [
      "<ipython-input-86-7f4291fff8da>:9: SettingWithCopyWarning: \n",
      "A value is trying to be set on a copy of a slice from a DataFrame.\n",
      "Try using .loc[row_indexer,col_indexer] = value instead\n",
      "\n",
      "See the caveats in the documentation: https://pandas.pydata.org/pandas-docs/stable/user_guide/indexing.html#returning-a-view-versus-a-copy\n",
      "<ipython-input-86-7f4291fff8da>:11: SettingWithCopyWarning: \n",
      "A value is trying to be set on a copy of a slice from a DataFrame.\n",
      "Try using .loc[row_indexer,col_indexer] = value instead\n",
      "\n",
      "See the caveats in the documentation: https://pandas.pydata.org/pandas-docs/stable/user_guide/indexing.html#returning-a-view-versus-a-copy\n",
      "<ipython-input-86-7f4291fff8da>:13: SettingWithCopyWarning: \n",
      "A value is trying to be set on a copy of a slice from a DataFrame.\n",
      "Try using .loc[row_indexer,col_indexer] = value instead\n",
      "\n",
      "See the caveats in the documentation: https://pandas.pydata.org/pandas-docs/stable/user_guide/indexing.html#returning-a-view-versus-a-copy\n",
      "<ipython-input-86-7f4291fff8da>:15: SettingWithCopyWarning: \n",
      "A value is trying to be set on a copy of a slice from a DataFrame.\n",
      "Try using .loc[row_indexer,col_indexer] = value instead\n",
      "\n",
      "See the caveats in the documentation: https://pandas.pydata.org/pandas-docs/stable/user_guide/indexing.html#returning-a-view-versus-a-copy\n",
      "<ipython-input-86-7f4291fff8da>:19: SettingWithCopyWarning: \n",
      "A value is trying to be set on a copy of a slice from a DataFrame.\n",
      "Try using .loc[row_indexer,col_indexer] = value instead\n",
      "\n",
      "See the caveats in the documentation: https://pandas.pydata.org/pandas-docs/stable/user_guide/indexing.html#returning-a-view-versus-a-copy\n",
      "<ipython-input-86-7f4291fff8da>:21: SettingWithCopyWarning: \n",
      "A value is trying to be set on a copy of a slice from a DataFrame.\n",
      "Try using .loc[row_indexer,col_indexer] = value instead\n",
      "\n",
      "See the caveats in the documentation: https://pandas.pydata.org/pandas-docs/stable/user_guide/indexing.html#returning-a-view-versus-a-copy\n",
      "<ipython-input-86-7f4291fff8da>:23: SettingWithCopyWarning: \n",
      "A value is trying to be set on a copy of a slice from a DataFrame.\n",
      "Try using .loc[row_indexer,col_indexer] = value instead\n",
      "\n",
      "See the caveats in the documentation: https://pandas.pydata.org/pandas-docs/stable/user_guide/indexing.html#returning-a-view-versus-a-copy\n",
      "<ipython-input-86-7f4291fff8da>:25: SettingWithCopyWarning: \n",
      "A value is trying to be set on a copy of a slice from a DataFrame.\n",
      "Try using .loc[row_indexer,col_indexer] = value instead\n",
      "\n",
      "See the caveats in the documentation: https://pandas.pydata.org/pandas-docs/stable/user_guide/indexing.html#returning-a-view-versus-a-copy\n",
      "<ipython-input-86-7f4291fff8da>:27: SettingWithCopyWarning: \n",
      "A value is trying to be set on a copy of a slice from a DataFrame.\n",
      "Try using .loc[row_indexer,col_indexer] = value instead\n",
      "\n",
      "See the caveats in the documentation: https://pandas.pydata.org/pandas-docs/stable/user_guide/indexing.html#returning-a-view-versus-a-copy\n"
     ]
    },
    {
     "data": {
      "text/html": [
       "<div>\n",
       "<style scoped>\n",
       "    .dataframe tbody tr th:only-of-type {\n",
       "        vertical-align: middle;\n",
       "    }\n",
       "\n",
       "    .dataframe tbody tr th {\n",
       "        vertical-align: top;\n",
       "    }\n",
       "\n",
       "    .dataframe thead th {\n",
       "        text-align: right;\n",
       "    }\n",
       "</style>\n",
       "<table border=\"1\" class=\"dataframe\">\n",
       "  <thead>\n",
       "    <tr style=\"text-align: right;\">\n",
       "      <th></th>\n",
       "      <th>Sheet #</th>\n",
       "      <th>Run</th>\n",
       "      <th>BioSample</th>\n",
       "      <th>Bases</th>\n",
       "      <th>Bytes</th>\n",
       "      <th>Experiment</th>\n",
       "      <th>GEO_Accession</th>\n",
       "      <th>inflammatory_response</th>\n",
       "      <th>race</th>\n",
       "      <th>Sample Name</th>\n",
       "      <th>...</th>\n",
       "      <th>sv</th>\n",
       "      <th>diff_AVAR2</th>\n",
       "      <th>diff_CVAR2</th>\n",
       "      <th>diff_AWT2</th>\n",
       "      <th>diff_CWT2</th>\n",
       "      <th>diff_total2</th>\n",
       "      <th>diff_totalA</th>\n",
       "      <th>diff_totalC</th>\n",
       "      <th>diff_totalWT</th>\n",
       "      <th>diff_totalVar</th>\n",
       "    </tr>\n",
       "  </thead>\n",
       "  <tbody>\n",
       "    <tr>\n",
       "      <th>15</th>\n",
       "      <td>16</td>\n",
       "      <td>SRR4292097</td>\n",
       "      <td>SAMN05806826</td>\n",
       "      <td>56.30 G</td>\n",
       "      <td>34.32 Gb</td>\n",
       "      <td>SRX2187591</td>\n",
       "      <td>GSM2326902</td>\n",
       "      <td>1</td>\n",
       "      <td>African American</td>\n",
       "      <td>GSM2326902</td>\n",
       "      <td>...</td>\n",
       "      <td>AC</td>\n",
       "      <td>-7.70</td>\n",
       "      <td>-0.52</td>\n",
       "      <td>0.00</td>\n",
       "      <td>0.00</td>\n",
       "      <td>-8.22</td>\n",
       "      <td>-7.70</td>\n",
       "      <td>-0.52</td>\n",
       "      <td>0.00</td>\n",
       "      <td>-8.22</td>\n",
       "    </tr>\n",
       "    <tr>\n",
       "      <th>16</th>\n",
       "      <td>17</td>\n",
       "      <td>SRR4292098</td>\n",
       "      <td>SAMN05806825</td>\n",
       "      <td>55.41 G</td>\n",
       "      <td>33.89 Gb</td>\n",
       "      <td>SRX2187592</td>\n",
       "      <td>GSM2326903</td>\n",
       "      <td>1</td>\n",
       "      <td>Caucasian</td>\n",
       "      <td>GSM2326903</td>\n",
       "      <td>...</td>\n",
       "      <td>AC</td>\n",
       "      <td>0.83</td>\n",
       "      <td>-0.09</td>\n",
       "      <td>0.00</td>\n",
       "      <td>0.00</td>\n",
       "      <td>0.74</td>\n",
       "      <td>0.83</td>\n",
       "      <td>-0.09</td>\n",
       "      <td>0.00</td>\n",
       "      <td>0.74</td>\n",
       "    </tr>\n",
       "    <tr>\n",
       "      <th>17</th>\n",
       "      <td>18</td>\n",
       "      <td>SRR4292099</td>\n",
       "      <td>SAMN05806824</td>\n",
       "      <td>47.95 G</td>\n",
       "      <td>29.16 Gb</td>\n",
       "      <td>SRX2187593</td>\n",
       "      <td>GSM2326904</td>\n",
       "      <td>1</td>\n",
       "      <td>Caucasian</td>\n",
       "      <td>GSM2326904</td>\n",
       "      <td>...</td>\n",
       "      <td>AA</td>\n",
       "      <td>0.00</td>\n",
       "      <td>0.00</td>\n",
       "      <td>-2.97</td>\n",
       "      <td>0.30</td>\n",
       "      <td>-2.67</td>\n",
       "      <td>-2.97</td>\n",
       "      <td>0.30</td>\n",
       "      <td>-2.67</td>\n",
       "      <td>0.00</td>\n",
       "    </tr>\n",
       "    <tr>\n",
       "      <th>18</th>\n",
       "      <td>19</td>\n",
       "      <td>SRR4292100</td>\n",
       "      <td>SAMN05806823</td>\n",
       "      <td>47.04 G</td>\n",
       "      <td>28.94 Gb</td>\n",
       "      <td>SRX2187594</td>\n",
       "      <td>GSM2326905</td>\n",
       "      <td>1</td>\n",
       "      <td>Caucasian</td>\n",
       "      <td>GSM2326905</td>\n",
       "      <td>...</td>\n",
       "      <td>AA</td>\n",
       "      <td>0.41</td>\n",
       "      <td>0.07</td>\n",
       "      <td>0.00</td>\n",
       "      <td>0.00</td>\n",
       "      <td>0.48</td>\n",
       "      <td>0.41</td>\n",
       "      <td>0.07</td>\n",
       "      <td>0.00</td>\n",
       "      <td>0.48</td>\n",
       "    </tr>\n",
       "    <tr>\n",
       "      <th>19</th>\n",
       "      <td>20</td>\n",
       "      <td>SRR4292101</td>\n",
       "      <td>SAMN05806822</td>\n",
       "      <td>25.25 G</td>\n",
       "      <td>16.33 Gb</td>\n",
       "      <td>SRX2187595</td>\n",
       "      <td>GSM2326906</td>\n",
       "      <td>1</td>\n",
       "      <td>Caucasian</td>\n",
       "      <td>GSM2326906</td>\n",
       "      <td>...</td>\n",
       "      <td>AA</td>\n",
       "      <td>0.00</td>\n",
       "      <td>0.00</td>\n",
       "      <td>-1.83</td>\n",
       "      <td>0.09</td>\n",
       "      <td>-1.74</td>\n",
       "      <td>-1.83</td>\n",
       "      <td>0.09</td>\n",
       "      <td>-1.74</td>\n",
       "      <td>0.00</td>\n",
       "    </tr>\n",
       "    <tr>\n",
       "      <th>20</th>\n",
       "      <td>21</td>\n",
       "      <td>SRR4292102</td>\n",
       "      <td>SAMN05806821</td>\n",
       "      <td>27.70 G</td>\n",
       "      <td>17.89 Gb</td>\n",
       "      <td>SRX2187596</td>\n",
       "      <td>GSM2326907</td>\n",
       "      <td>1</td>\n",
       "      <td>African American</td>\n",
       "      <td>GSM2326907</td>\n",
       "      <td>...</td>\n",
       "      <td>AC</td>\n",
       "      <td>-0.65</td>\n",
       "      <td>-0.02</td>\n",
       "      <td>-0.93</td>\n",
       "      <td>0.02</td>\n",
       "      <td>-1.58</td>\n",
       "      <td>-1.58</td>\n",
       "      <td>0.00</td>\n",
       "      <td>-0.91</td>\n",
       "      <td>-0.67</td>\n",
       "    </tr>\n",
       "    <tr>\n",
       "      <th>21</th>\n",
       "      <td>22</td>\n",
       "      <td>SRR4292103</td>\n",
       "      <td>SAMN05806820</td>\n",
       "      <td>17.58 G</td>\n",
       "      <td>11.40 Gb</td>\n",
       "      <td>SRX2187597</td>\n",
       "      <td>GSM2326908</td>\n",
       "      <td>-1</td>\n",
       "      <td>Caucasian</td>\n",
       "      <td>GSM2326908</td>\n",
       "      <td>...</td>\n",
       "      <td>AA</td>\n",
       "      <td>-2.74</td>\n",
       "      <td>-0.11</td>\n",
       "      <td>0.00</td>\n",
       "      <td>0.00</td>\n",
       "      <td>-2.85</td>\n",
       "      <td>-2.74</td>\n",
       "      <td>-0.11</td>\n",
       "      <td>0.00</td>\n",
       "      <td>-2.85</td>\n",
       "    </tr>\n",
       "    <tr>\n",
       "      <th>22</th>\n",
       "      <td>23</td>\n",
       "      <td>SRR4292104</td>\n",
       "      <td>SAMN05806819</td>\n",
       "      <td>25.12 G</td>\n",
       "      <td>16.21 Gb</td>\n",
       "      <td>SRX2187598</td>\n",
       "      <td>GSM2326909</td>\n",
       "      <td>-1</td>\n",
       "      <td>Caucasian</td>\n",
       "      <td>GSM2326909</td>\n",
       "      <td>...</td>\n",
       "      <td>AC</td>\n",
       "      <td>-0.54</td>\n",
       "      <td>0.11</td>\n",
       "      <td>-0.82</td>\n",
       "      <td>-0.02</td>\n",
       "      <td>-1.27</td>\n",
       "      <td>-1.36</td>\n",
       "      <td>0.09</td>\n",
       "      <td>-0.84</td>\n",
       "      <td>-0.43</td>\n",
       "    </tr>\n",
       "    <tr>\n",
       "      <th>23</th>\n",
       "      <td>24</td>\n",
       "      <td>SRR4292105</td>\n",
       "      <td>SAMN05806818</td>\n",
       "      <td>26.42 G</td>\n",
       "      <td>17.05 Gb</td>\n",
       "      <td>SRX2187599</td>\n",
       "      <td>GSM2326910</td>\n",
       "      <td>-1</td>\n",
       "      <td>Caucasian</td>\n",
       "      <td>GSM2326910</td>\n",
       "      <td>...</td>\n",
       "      <td>AC</td>\n",
       "      <td>0.00</td>\n",
       "      <td>0.00</td>\n",
       "      <td>0.08</td>\n",
       "      <td>-0.07</td>\n",
       "      <td>0.01</td>\n",
       "      <td>0.08</td>\n",
       "      <td>-0.07</td>\n",
       "      <td>0.01</td>\n",
       "      <td>0.00</td>\n",
       "    </tr>\n",
       "    <tr>\n",
       "      <th>24</th>\n",
       "      <td>25</td>\n",
       "      <td>SRR4292106</td>\n",
       "      <td>SAMN05806817</td>\n",
       "      <td>9.88 G</td>\n",
       "      <td>5.85 Gb</td>\n",
       "      <td>SRX2187600</td>\n",
       "      <td>GSM2326911</td>\n",
       "      <td>1</td>\n",
       "      <td>Caucasian</td>\n",
       "      <td>GSM2326911</td>\n",
       "      <td>...</td>\n",
       "      <td>AC</td>\n",
       "      <td>0.00</td>\n",
       "      <td>-0.11</td>\n",
       "      <td>-0.62</td>\n",
       "      <td>0.02</td>\n",
       "      <td>-0.71</td>\n",
       "      <td>-0.62</td>\n",
       "      <td>-0.09</td>\n",
       "      <td>-0.60</td>\n",
       "      <td>-0.11</td>\n",
       "    </tr>\n",
       "    <tr>\n",
       "      <th>25</th>\n",
       "      <td>26</td>\n",
       "      <td>SRR4292107</td>\n",
       "      <td>SAMN05806816</td>\n",
       "      <td>6.14 G</td>\n",
       "      <td>3.59 Gb</td>\n",
       "      <td>SRX2187601</td>\n",
       "      <td>GSM2326912</td>\n",
       "      <td>1</td>\n",
       "      <td>African American</td>\n",
       "      <td>GSM2326912</td>\n",
       "      <td>...</td>\n",
       "      <td>AC</td>\n",
       "      <td>0.00</td>\n",
       "      <td>0.00</td>\n",
       "      <td>-0.80</td>\n",
       "      <td>0.02</td>\n",
       "      <td>-0.78</td>\n",
       "      <td>-0.80</td>\n",
       "      <td>0.02</td>\n",
       "      <td>-0.78</td>\n",
       "      <td>0.00</td>\n",
       "    </tr>\n",
       "    <tr>\n",
       "      <th>26</th>\n",
       "      <td>27</td>\n",
       "      <td>SRR4292108</td>\n",
       "      <td>SAMN05806815</td>\n",
       "      <td>9.42 G</td>\n",
       "      <td>5.60 Gb</td>\n",
       "      <td>SRX2187602</td>\n",
       "      <td>GSM2326913</td>\n",
       "      <td>-1</td>\n",
       "      <td>African American</td>\n",
       "      <td>GSM2326913</td>\n",
       "      <td>...</td>\n",
       "      <td>AA</td>\n",
       "      <td>0.00</td>\n",
       "      <td>0.00</td>\n",
       "      <td>-0.30</td>\n",
       "      <td>0.00</td>\n",
       "      <td>-0.30</td>\n",
       "      <td>-0.30</td>\n",
       "      <td>0.00</td>\n",
       "      <td>-0.30</td>\n",
       "      <td>0.00</td>\n",
       "    </tr>\n",
       "    <tr>\n",
       "      <th>27</th>\n",
       "      <td>28</td>\n",
       "      <td>SRR4292109</td>\n",
       "      <td>SAMN05806814</td>\n",
       "      <td>7.90 G</td>\n",
       "      <td>4.72 Gb</td>\n",
       "      <td>SRX2187603</td>\n",
       "      <td>GSM2326914</td>\n",
       "      <td>-1</td>\n",
       "      <td>African American</td>\n",
       "      <td>GSM2326914</td>\n",
       "      <td>...</td>\n",
       "      <td>AA</td>\n",
       "      <td>0.00</td>\n",
       "      <td>0.00</td>\n",
       "      <td>-0.86</td>\n",
       "      <td>-0.04</td>\n",
       "      <td>-0.90</td>\n",
       "      <td>-0.86</td>\n",
       "      <td>-0.04</td>\n",
       "      <td>-0.90</td>\n",
       "      <td>0.00</td>\n",
       "    </tr>\n",
       "    <tr>\n",
       "      <th>28</th>\n",
       "      <td>29</td>\n",
       "      <td>SRR4292110</td>\n",
       "      <td>SAMN05806813</td>\n",
       "      <td>11.19 G</td>\n",
       "      <td>6.65 Gb</td>\n",
       "      <td>SRX2187604</td>\n",
       "      <td>GSM2326915</td>\n",
       "      <td>-1</td>\n",
       "      <td>Caucasian</td>\n",
       "      <td>GSM2326915</td>\n",
       "      <td>...</td>\n",
       "      <td>AA</td>\n",
       "      <td>0.00</td>\n",
       "      <td>0.00</td>\n",
       "      <td>-0.41</td>\n",
       "      <td>-0.02</td>\n",
       "      <td>-0.43</td>\n",
       "      <td>-0.41</td>\n",
       "      <td>-0.02</td>\n",
       "      <td>-0.43</td>\n",
       "      <td>0.00</td>\n",
       "    </tr>\n",
       "    <tr>\n",
       "      <th>29</th>\n",
       "      <td>30</td>\n",
       "      <td>SRR4292111</td>\n",
       "      <td>SAMN05806812</td>\n",
       "      <td>6.61 G</td>\n",
       "      <td>4.20 Gb</td>\n",
       "      <td>SRX2187605</td>\n",
       "      <td>GSM2326916</td>\n",
       "      <td>-1</td>\n",
       "      <td>African American</td>\n",
       "      <td>GSM2326916</td>\n",
       "      <td>...</td>\n",
       "      <td>AC</td>\n",
       "      <td>-0.04</td>\n",
       "      <td>0.02</td>\n",
       "      <td>0.00</td>\n",
       "      <td>0.00</td>\n",
       "      <td>-0.02</td>\n",
       "      <td>-0.04</td>\n",
       "      <td>0.02</td>\n",
       "      <td>0.00</td>\n",
       "      <td>-0.02</td>\n",
       "    </tr>\n",
       "  </tbody>\n",
       "</table>\n",
       "<p>15 rows × 43 columns</p>\n",
       "</div>"
      ],
      "text/plain": [
       "    Sheet #         Run     BioSample    Bases     Bytes  Experiment  \\\n",
       "15       16  SRR4292097  SAMN05806826  56.30 G  34.32 Gb  SRX2187591   \n",
       "16       17  SRR4292098  SAMN05806825  55.41 G  33.89 Gb  SRX2187592   \n",
       "17       18  SRR4292099  SAMN05806824  47.95 G  29.16 Gb  SRX2187593   \n",
       "18       19  SRR4292100  SAMN05806823  47.04 G  28.94 Gb  SRX2187594   \n",
       "19       20  SRR4292101  SAMN05806822  25.25 G  16.33 Gb  SRX2187595   \n",
       "20       21  SRR4292102  SAMN05806821  27.70 G  17.89 Gb  SRX2187596   \n",
       "21       22  SRR4292103  SAMN05806820  17.58 G  11.40 Gb  SRX2187597   \n",
       "22       23  SRR4292104  SAMN05806819  25.12 G  16.21 Gb  SRX2187598   \n",
       "23       24  SRR4292105  SAMN05806818  26.42 G  17.05 Gb  SRX2187599   \n",
       "24       25  SRR4292106  SAMN05806817   9.88 G   5.85 Gb  SRX2187600   \n",
       "25       26  SRR4292107  SAMN05806816   6.14 G   3.59 Gb  SRX2187601   \n",
       "26       27  SRR4292108  SAMN05806815   9.42 G   5.60 Gb  SRX2187602   \n",
       "27       28  SRR4292109  SAMN05806814   7.90 G   4.72 Gb  SRX2187603   \n",
       "28       29  SRR4292110  SAMN05806813  11.19 G   6.65 Gb  SRX2187604   \n",
       "29       30  SRR4292111  SAMN05806812   6.61 G   4.20 Gb  SRX2187605   \n",
       "\n",
       "   GEO_Accession  inflammatory_response              race Sample Name  ...  \\\n",
       "15    GSM2326902                      1  African American  GSM2326902  ...   \n",
       "16    GSM2326903                      1         Caucasian  GSM2326903  ...   \n",
       "17    GSM2326904                      1         Caucasian  GSM2326904  ...   \n",
       "18    GSM2326905                      1         Caucasian  GSM2326905  ...   \n",
       "19    GSM2326906                      1         Caucasian  GSM2326906  ...   \n",
       "20    GSM2326907                      1  African American  GSM2326907  ...   \n",
       "21    GSM2326908                     -1         Caucasian  GSM2326908  ...   \n",
       "22    GSM2326909                     -1         Caucasian  GSM2326909  ...   \n",
       "23    GSM2326910                     -1         Caucasian  GSM2326910  ...   \n",
       "24    GSM2326911                      1         Caucasian  GSM2326911  ...   \n",
       "25    GSM2326912                      1  African American  GSM2326912  ...   \n",
       "26    GSM2326913                     -1  African American  GSM2326913  ...   \n",
       "27    GSM2326914                     -1  African American  GSM2326914  ...   \n",
       "28    GSM2326915                     -1         Caucasian  GSM2326915  ...   \n",
       "29    GSM2326916                     -1  African American  GSM2326916  ...   \n",
       "\n",
       "    sv diff_AVAR2  diff_CVAR2  diff_AWT2  diff_CWT2  diff_total2  diff_totalA  \\\n",
       "15  AC      -7.70       -0.52       0.00       0.00        -8.22        -7.70   \n",
       "16  AC       0.83       -0.09       0.00       0.00         0.74         0.83   \n",
       "17  AA       0.00        0.00      -2.97       0.30        -2.67        -2.97   \n",
       "18  AA       0.41        0.07       0.00       0.00         0.48         0.41   \n",
       "19  AA       0.00        0.00      -1.83       0.09        -1.74        -1.83   \n",
       "20  AC      -0.65       -0.02      -0.93       0.02        -1.58        -1.58   \n",
       "21  AA      -2.74       -0.11       0.00       0.00        -2.85        -2.74   \n",
       "22  AC      -0.54        0.11      -0.82      -0.02        -1.27        -1.36   \n",
       "23  AC       0.00        0.00       0.08      -0.07         0.01         0.08   \n",
       "24  AC       0.00       -0.11      -0.62       0.02        -0.71        -0.62   \n",
       "25  AC       0.00        0.00      -0.80       0.02        -0.78        -0.80   \n",
       "26  AA       0.00        0.00      -0.30       0.00        -0.30        -0.30   \n",
       "27  AA       0.00        0.00      -0.86      -0.04        -0.90        -0.86   \n",
       "28  AA       0.00        0.00      -0.41      -0.02        -0.43        -0.41   \n",
       "29  AC      -0.04        0.02       0.00       0.00        -0.02        -0.04   \n",
       "\n",
       "    diff_totalC  diff_totalWT  diff_totalVar  \n",
       "15        -0.52          0.00          -8.22  \n",
       "16        -0.09          0.00           0.74  \n",
       "17         0.30         -2.67           0.00  \n",
       "18         0.07          0.00           0.48  \n",
       "19         0.09         -1.74           0.00  \n",
       "20         0.00         -0.91          -0.67  \n",
       "21        -0.11          0.00          -2.85  \n",
       "22         0.09         -0.84          -0.43  \n",
       "23        -0.07          0.01           0.00  \n",
       "24        -0.09         -0.60          -0.11  \n",
       "25         0.02         -0.78           0.00  \n",
       "26         0.00         -0.30           0.00  \n",
       "27        -0.04         -0.90           0.00  \n",
       "28        -0.02         -0.43           0.00  \n",
       "29         0.02          0.00          -0.02  \n",
       "\n",
       "[15 rows x 43 columns]"
      ]
     },
     "execution_count": 86,
     "metadata": {},
     "output_type": "execute_result"
    }
   ],
   "source": [
    "data_control = data[data[\"treatment\"] == \"baseline\"]\n",
    "data_control.to_csv(\"./control.csv\")\n",
    "data_treatment = data[data[\"treatment\"] == \"intravenous LPS\"]\n",
    "data_control.to_csv(\"./lps.csv\")\n",
    "\n",
    "procData = data_treatment\n",
    "\n",
    "\n",
    "procData['diff_AVAR2'] = (\n",
    "    np.array(data_treatment[\"AVAR2\"]) - np.array(data_control[\"AVAR2\"])).tolist()\n",
    "procData[\"diff_CVAR2\"] = (\n",
    "    np.array(data_treatment[\"CVAR2\"]) - np.array(data_control[\"CVAR2\"])).tolist()\n",
    "procData[\"diff_AWT2\"] = (np.array(data_treatment[\"AWT2\"]) -\n",
    "                         np.array(data_control[\"AWT2\"])).tolist()\n",
    "procData[\"diff_CWT2\"] = (np.array(data_treatment[\"CWT2\"]) -\n",
    "                         np.array(data_control[\"CWT2\"])).tolist()\n",
    "\n",
    "\n",
    "procData[\"diff_total2\"] = (\n",
    "    np.array(data_treatment[\"total2\"]) - np.array(data_control[\"total2\"])).tolist()\n",
    "procData[\"diff_totalA\"] = (\n",
    "    np.array(data_treatment[\"totalA\"]) - np.array(data_control[\"totalA\"])).tolist()\n",
    "procData[\"diff_totalC\"] = (\n",
    "    np.array(data_treatment[\"totalC\"]) - np.array(data_control[\"totalC\"])).tolist()\n",
    "procData[\"diff_totalWT\"] = (np.array(\n",
    "    data_treatment[\"totalWT\"]) - np.array(data_control[\"totalWT\"])).tolist()\n",
    "procData[\"diff_totalVar\"] = (np.array(\n",
    "    data_treatment[\"totalVar\"]) - np.array(data_control[\"totalVar\"])).tolist()\n",
    "\n",
    "\n",
    "procData\n",
    "# procData.to_csv(\"./procData.csv\")"
   ]
  },
  {
   "cell_type": "code",
   "execution_count": 87,
   "metadata": {},
   "outputs": [
    {
     "data": {
      "text/html": [
       "<div>\n",
       "<style scoped>\n",
       "    .dataframe tbody tr th:only-of-type {\n",
       "        vertical-align: middle;\n",
       "    }\n",
       "\n",
       "    .dataframe tbody tr th {\n",
       "        vertical-align: top;\n",
       "    }\n",
       "\n",
       "    .dataframe thead th {\n",
       "        text-align: right;\n",
       "    }\n",
       "</style>\n",
       "<table border=\"1\" class=\"dataframe\">\n",
       "  <thead>\n",
       "    <tr style=\"text-align: right;\">\n",
       "      <th></th>\n",
       "      <th>spliceVariant</th>\n",
       "    </tr>\n",
       "  </thead>\n",
       "  <tbody>\n",
       "    <tr>\n",
       "      <th>0</th>\n",
       "      <td>A/C</td>\n",
       "    </tr>\n",
       "    <tr>\n",
       "      <th>1</th>\n",
       "      <td>A/C</td>\n",
       "    </tr>\n",
       "    <tr>\n",
       "      <th>2</th>\n",
       "      <td>A</td>\n",
       "    </tr>\n",
       "    <tr>\n",
       "      <th>3</th>\n",
       "      <td>A/C</td>\n",
       "    </tr>\n",
       "    <tr>\n",
       "      <th>4</th>\n",
       "      <td>A</td>\n",
       "    </tr>\n",
       "    <tr>\n",
       "      <th>5</th>\n",
       "      <td>A/C</td>\n",
       "    </tr>\n",
       "    <tr>\n",
       "      <th>6</th>\n",
       "      <td>A/C</td>\n",
       "    </tr>\n",
       "    <tr>\n",
       "      <th>7</th>\n",
       "      <td>A/C</td>\n",
       "    </tr>\n",
       "    <tr>\n",
       "      <th>8</th>\n",
       "      <td>A/C</td>\n",
       "    </tr>\n",
       "    <tr>\n",
       "      <th>9</th>\n",
       "      <td>A/C</td>\n",
       "    </tr>\n",
       "    <tr>\n",
       "      <th>10</th>\n",
       "      <td>A/C</td>\n",
       "    </tr>\n",
       "    <tr>\n",
       "      <th>11</th>\n",
       "      <td>A</td>\n",
       "    </tr>\n",
       "    <tr>\n",
       "      <th>12</th>\n",
       "      <td>A/C</td>\n",
       "    </tr>\n",
       "    <tr>\n",
       "      <th>13</th>\n",
       "      <td>A/C</td>\n",
       "    </tr>\n",
       "    <tr>\n",
       "      <th>14</th>\n",
       "      <td>A/C</td>\n",
       "    </tr>\n",
       "  </tbody>\n",
       "</table>\n",
       "</div>"
      ],
      "text/plain": [
       "   spliceVariant\n",
       "0            A/C\n",
       "1            A/C\n",
       "2              A\n",
       "3            A/C\n",
       "4              A\n",
       "5            A/C\n",
       "6            A/C\n",
       "7            A/C\n",
       "8            A/C\n",
       "9            A/C\n",
       "10           A/C\n",
       "11             A\n",
       "12           A/C\n",
       "13           A/C\n",
       "14           A/C"
      ]
     },
     "execution_count": 87,
     "metadata": {},
     "output_type": "execute_result"
    }
   ],
   "source": [
    "newDF=  data_control[[\"spliceVariant\"]]\n",
    "newDF\n"
   ]
  },
  {
   "cell_type": "code",
   "execution_count": 88,
   "metadata": {},
   "outputs": [
    {
     "name": "stderr",
     "output_type": "stream",
     "text": [
      "/usr/local/Cellar/jupyterlab/3.0.10/libexec/lib/python3.9/site-packages/pandas/core/frame.py:4441: SettingWithCopyWarning: \n",
      "A value is trying to be set on a copy of a slice from a DataFrame\n",
      "\n",
      "See the caveats in the documentation: https://pandas.pydata.org/pandas-docs/stable/user_guide/indexing.html#returning-a-view-versus-a-copy\n"
     ]
    },
    {
     "data": {
      "text/html": [
       "<div>\n",
       "<style scoped>\n",
       "    .dataframe tbody tr th:only-of-type {\n",
       "        vertical-align: middle;\n",
       "    }\n",
       "\n",
       "    .dataframe tbody tr th {\n",
       "        vertical-align: top;\n",
       "    }\n",
       "\n",
       "    .dataframe thead th {\n",
       "        text-align: right;\n",
       "    }\n",
       "</style>\n",
       "<table border=\"1\" class=\"dataframe\">\n",
       "  <thead>\n",
       "    <tr style=\"text-align: right;\">\n",
       "      <th></th>\n",
       "      <th>c_SpliceV</th>\n",
       "    </tr>\n",
       "  </thead>\n",
       "  <tbody>\n",
       "    <tr>\n",
       "      <th>0</th>\n",
       "      <td>A/C</td>\n",
       "    </tr>\n",
       "    <tr>\n",
       "      <th>1</th>\n",
       "      <td>A/C</td>\n",
       "    </tr>\n",
       "    <tr>\n",
       "      <th>2</th>\n",
       "      <td>A</td>\n",
       "    </tr>\n",
       "    <tr>\n",
       "      <th>3</th>\n",
       "      <td>A/C</td>\n",
       "    </tr>\n",
       "    <tr>\n",
       "      <th>4</th>\n",
       "      <td>A</td>\n",
       "    </tr>\n",
       "    <tr>\n",
       "      <th>5</th>\n",
       "      <td>A/C</td>\n",
       "    </tr>\n",
       "    <tr>\n",
       "      <th>6</th>\n",
       "      <td>A/C</td>\n",
       "    </tr>\n",
       "    <tr>\n",
       "      <th>7</th>\n",
       "      <td>A/C</td>\n",
       "    </tr>\n",
       "    <tr>\n",
       "      <th>8</th>\n",
       "      <td>A/C</td>\n",
       "    </tr>\n",
       "    <tr>\n",
       "      <th>9</th>\n",
       "      <td>A/C</td>\n",
       "    </tr>\n",
       "    <tr>\n",
       "      <th>10</th>\n",
       "      <td>A/C</td>\n",
       "    </tr>\n",
       "    <tr>\n",
       "      <th>11</th>\n",
       "      <td>A</td>\n",
       "    </tr>\n",
       "    <tr>\n",
       "      <th>12</th>\n",
       "      <td>A/C</td>\n",
       "    </tr>\n",
       "    <tr>\n",
       "      <th>13</th>\n",
       "      <td>A/C</td>\n",
       "    </tr>\n",
       "    <tr>\n",
       "      <th>14</th>\n",
       "      <td>A/C</td>\n",
       "    </tr>\n",
       "  </tbody>\n",
       "</table>\n",
       "</div>"
      ],
      "text/plain": [
       "   c_SpliceV\n",
       "0        A/C\n",
       "1        A/C\n",
       "2          A\n",
       "3        A/C\n",
       "4          A\n",
       "5        A/C\n",
       "6        A/C\n",
       "7        A/C\n",
       "8        A/C\n",
       "9        A/C\n",
       "10       A/C\n",
       "11         A\n",
       "12       A/C\n",
       "13       A/C\n",
       "14       A/C"
      ]
     },
     "execution_count": 88,
     "metadata": {},
     "output_type": "execute_result"
    }
   ],
   "source": [
    "newDF.rename(columns = {'spliceVariant':'c_SpliceV'},  inplace=True) \n",
    "newDF\n"
   ]
  },
  {
   "cell_type": "code",
   "execution_count": 89,
   "metadata": {},
   "outputs": [],
   "source": [
    "newDF.index = procData.index\n",
    "procData= pd.concat([procData,newDF], axis=1)\n"
   ]
  },
  {
   "cell_type": "code",
   "execution_count": null,
   "metadata": {},
   "outputs": [],
   "source": []
  },
  {
   "cell_type": "markdown",
   "metadata": {},
   "source": [
    "#### Difference Table\n"
   ]
  },
  {
   "cell_type": "code",
   "execution_count": 90,
   "metadata": {},
   "outputs": [],
   "source": [
    "\n",
    "pd.set_option('display.max_rows', procData.shape[0]+1)\n",
    "\n",
    "diff_data = procData.loc[ :,\"diff_AVAR2\":\"diff_totalVar\" ]\n",
    "diff_data.to_csv(\"./diffData.csv\")"
   ]
  },
  {
   "cell_type": "code",
   "execution_count": 91,
   "metadata": {},
   "outputs": [
    {
     "data": {
      "text/html": [
       "<div>\n",
       "<style scoped>\n",
       "    .dataframe tbody tr th:only-of-type {\n",
       "        vertical-align: middle;\n",
       "    }\n",
       "\n",
       "    .dataframe tbody tr th {\n",
       "        vertical-align: top;\n",
       "    }\n",
       "\n",
       "    .dataframe thead th {\n",
       "        text-align: right;\n",
       "    }\n",
       "</style>\n",
       "<table border=\"1\" class=\"dataframe\">\n",
       "  <thead>\n",
       "    <tr style=\"text-align: right;\">\n",
       "      <th></th>\n",
       "      <th>diff_AVAR2</th>\n",
       "      <th>diff_CVAR2</th>\n",
       "      <th>diff_AWT2</th>\n",
       "      <th>diff_CWT2</th>\n",
       "      <th>diff_total2</th>\n",
       "      <th>diff_totalA</th>\n",
       "      <th>diff_totalC</th>\n",
       "      <th>diff_totalWT</th>\n",
       "      <th>diff_totalVar</th>\n",
       "    </tr>\n",
       "  </thead>\n",
       "  <tbody>\n",
       "    <tr>\n",
       "      <th>count</th>\n",
       "      <td>15.000000</td>\n",
       "      <td>15.000000</td>\n",
       "      <td>15.000000</td>\n",
       "      <td>15.000000</td>\n",
       "      <td>15.000000</td>\n",
       "      <td>15.000000</td>\n",
       "      <td>15.000000</td>\n",
       "      <td>15.000000</td>\n",
       "      <td>15.000000</td>\n",
       "    </tr>\n",
       "    <tr>\n",
       "      <th>mean</th>\n",
       "      <td>-0.695333</td>\n",
       "      <td>-0.043333</td>\n",
       "      <td>-0.630667</td>\n",
       "      <td>0.020000</td>\n",
       "      <td>-1.349333</td>\n",
       "      <td>-1.326000</td>\n",
       "      <td>-0.023333</td>\n",
       "      <td>-0.610667</td>\n",
       "      <td>-0.738667</td>\n",
       "    </tr>\n",
       "    <tr>\n",
       "      <th>std</th>\n",
       "      <td>2.089395</td>\n",
       "      <td>0.144502</td>\n",
       "      <td>0.835357</td>\n",
       "      <td>0.084769</td>\n",
       "      <td>2.165016</td>\n",
       "      <td>2.067199</td>\n",
       "      <td>0.170992</td>\n",
       "      <td>0.762978</td>\n",
       "      <td>2.218925</td>\n",
       "    </tr>\n",
       "    <tr>\n",
       "      <th>min</th>\n",
       "      <td>-7.700000</td>\n",
       "      <td>-0.520000</td>\n",
       "      <td>-2.970000</td>\n",
       "      <td>-0.070000</td>\n",
       "      <td>-8.220000</td>\n",
       "      <td>-7.700000</td>\n",
       "      <td>-0.520000</td>\n",
       "      <td>-2.670000</td>\n",
       "      <td>-8.220000</td>\n",
       "    </tr>\n",
       "    <tr>\n",
       "      <th>25%</th>\n",
       "      <td>-0.290000</td>\n",
       "      <td>-0.055000</td>\n",
       "      <td>-0.840000</td>\n",
       "      <td>-0.010000</td>\n",
       "      <td>-1.660000</td>\n",
       "      <td>-1.705000</td>\n",
       "      <td>-0.080000</td>\n",
       "      <td>-0.870000</td>\n",
       "      <td>-0.270000</td>\n",
       "    </tr>\n",
       "    <tr>\n",
       "      <th>50%</th>\n",
       "      <td>0.000000</td>\n",
       "      <td>0.000000</td>\n",
       "      <td>-0.410000</td>\n",
       "      <td>0.000000</td>\n",
       "      <td>-0.780000</td>\n",
       "      <td>-0.800000</td>\n",
       "      <td>0.000000</td>\n",
       "      <td>-0.430000</td>\n",
       "      <td>0.000000</td>\n",
       "    </tr>\n",
       "    <tr>\n",
       "      <th>75%</th>\n",
       "      <td>0.000000</td>\n",
       "      <td>0.000000</td>\n",
       "      <td>0.000000</td>\n",
       "      <td>0.020000</td>\n",
       "      <td>-0.160000</td>\n",
       "      <td>-0.170000</td>\n",
       "      <td>0.045000</td>\n",
       "      <td>0.000000</td>\n",
       "      <td>0.000000</td>\n",
       "    </tr>\n",
       "    <tr>\n",
       "      <th>max</th>\n",
       "      <td>0.830000</td>\n",
       "      <td>0.110000</td>\n",
       "      <td>0.080000</td>\n",
       "      <td>0.300000</td>\n",
       "      <td>0.740000</td>\n",
       "      <td>0.830000</td>\n",
       "      <td>0.300000</td>\n",
       "      <td>0.010000</td>\n",
       "      <td>0.740000</td>\n",
       "    </tr>\n",
       "  </tbody>\n",
       "</table>\n",
       "</div>"
      ],
      "text/plain": [
       "       diff_AVAR2  diff_CVAR2  diff_AWT2  diff_CWT2  diff_total2  diff_totalA  \\\n",
       "count   15.000000   15.000000  15.000000  15.000000    15.000000    15.000000   \n",
       "mean    -0.695333   -0.043333  -0.630667   0.020000    -1.349333    -1.326000   \n",
       "std      2.089395    0.144502   0.835357   0.084769     2.165016     2.067199   \n",
       "min     -7.700000   -0.520000  -2.970000  -0.070000    -8.220000    -7.700000   \n",
       "25%     -0.290000   -0.055000  -0.840000  -0.010000    -1.660000    -1.705000   \n",
       "50%      0.000000    0.000000  -0.410000   0.000000    -0.780000    -0.800000   \n",
       "75%      0.000000    0.000000   0.000000   0.020000    -0.160000    -0.170000   \n",
       "max      0.830000    0.110000   0.080000   0.300000     0.740000     0.830000   \n",
       "\n",
       "       diff_totalC  diff_totalWT  diff_totalVar  \n",
       "count    15.000000     15.000000      15.000000  \n",
       "mean     -0.023333     -0.610667      -0.738667  \n",
       "std       0.170992      0.762978       2.218925  \n",
       "min      -0.520000     -2.670000      -8.220000  \n",
       "25%      -0.080000     -0.870000      -0.270000  \n",
       "50%       0.000000     -0.430000       0.000000  \n",
       "75%       0.045000      0.000000       0.000000  \n",
       "max       0.300000      0.010000       0.740000  "
      ]
     },
     "execution_count": 91,
     "metadata": {},
     "output_type": "execute_result"
    }
   ],
   "source": [
    "diff_data.describe()"
   ]
  },
  {
   "cell_type": "code",
   "execution_count": 92,
   "metadata": {},
   "outputs": [
    {
     "data": {
      "text/plain": [
       "diff_AVAR2       4.365570\n",
       "diff_CVAR2       0.020881\n",
       "diff_AWT2        0.697821\n",
       "diff_CWT2        0.007186\n",
       "diff_total2      4.687292\n",
       "diff_totalA      4.273311\n",
       "diff_totalC      0.029238\n",
       "diff_totalWT     0.582135\n",
       "diff_totalVar    4.923627\n",
       "dtype: float64"
      ]
     },
     "execution_count": 92,
     "metadata": {},
     "output_type": "execute_result"
    }
   ],
   "source": [
    "diff_data.var()\n"
   ]
  },
  {
   "cell_type": "code",
   "execution_count": 93,
   "metadata": {},
   "outputs": [
    {
     "data": {
      "text/plain": [
       "diff_AVAR2       2.089395\n",
       "diff_CVAR2       0.144502\n",
       "diff_AWT2        0.835357\n",
       "diff_CWT2        0.084769\n",
       "diff_total2      2.165016\n",
       "diff_totalA      2.067199\n",
       "diff_totalC      0.170992\n",
       "diff_totalWT     0.762978\n",
       "diff_totalVar    2.218925\n",
       "dtype: float64"
      ]
     },
     "execution_count": 93,
     "metadata": {},
     "output_type": "execute_result"
    }
   ],
   "source": [
    "diff_data.std()\n"
   ]
  },
  {
   "cell_type": "code",
   "execution_count": 94,
   "metadata": {},
   "outputs": [
    {
     "data": {
      "text/plain": [
       "diff_AVAR2      -3.111514\n",
       "diff_CVAR2      -2.816163\n",
       "diff_AWT2       -1.826353\n",
       "diff_CWT2        2.864955\n",
       "diff_total2     -2.497520\n",
       "diff_totalA     -2.274328\n",
       "diff_totalC     -1.420225\n",
       "diff_totalWT    -1.638127\n",
       "diff_totalVar   -3.165627\n",
       "dtype: float64"
      ]
     },
     "execution_count": 94,
     "metadata": {},
     "output_type": "execute_result"
    }
   ],
   "source": [
    "diff_data.skew()\n"
   ]
  },
  {
   "cell_type": "code",
   "execution_count": 95,
   "metadata": {},
   "outputs": [
    {
     "data": {
      "text/plain": [
       "[10.264406796877637,\n",
       " 9.444362749191729,\n",
       " 3.6982075152203597,\n",
       " 9.543320897371544,\n",
       " 7.61247279274705,\n",
       " 6.469933856117286,\n",
       " 5.523875299227822,\n",
       " 2.873242267200818,\n",
       " 10.564445597026406]"
      ]
     },
     "execution_count": 95,
     "metadata": {},
     "output_type": "execute_result"
    }
   ],
   "source": [
    "diff_data.kurtosis().tolist()"
   ]
  },
  {
   "cell_type": "code",
   "execution_count": 96,
   "metadata": {},
   "outputs": [
    {
     "data": {
      "text/plain": [
       "diff_AVAR2       10.264407\n",
       "diff_CVAR2        9.444363\n",
       "diff_AWT2         3.698208\n",
       "diff_CWT2         9.543321\n",
       "diff_total2       7.612473\n",
       "diff_totalA       6.469934\n",
       "diff_totalC       5.523875\n",
       "diff_totalWT      2.873242\n",
       "diff_totalVar    10.564446\n",
       "dtype: float64"
      ]
     },
     "execution_count": 96,
     "metadata": {},
     "output_type": "execute_result"
    }
   ],
   "source": [
    "diff_data.kurtosis()"
   ]
  },
  {
   "cell_type": "code",
   "execution_count": null,
   "metadata": {},
   "outputs": [],
   "source": []
  },
  {
   "cell_type": "markdown",
   "metadata": {},
   "source": [
    "## Graph Data - "
   ]
  },
  {
   "cell_type": "code",
   "execution_count": 97,
   "metadata": {},
   "outputs": [
    {
     "data": {
      "image/png": "[encoded data removed]",
      "text/plain": [
       "<Figure size 640x480 with 1 Axes>"
      ]
     },
     "metadata": {},
     "output_type": "display_data"
    },
    {
     "data": {
      "text/plain": [
       "<ggplot: (333775951)>"
      ]
     },
     "execution_count": 97,
     "metadata": {},
     "output_type": "execute_result"
    }
   ],
   "source": [
    "from plotnine import *\n",
    "ggplot(data, aes(x='treatment', y='AWT2') ) + geom_boxplot() + geom_jitter(data,aes(colour='treatment',shape='treatment'))"
   ]
  },
  {
   "cell_type": "code",
   "execution_count": 98,
   "metadata": {},
   "outputs": [
    {
     "name": "stderr",
     "output_type": "stream",
     "text": [
      "/usr/local/Cellar/jupyterlab/3.0.10/libexec/lib/python3.9/site-packages/scipy/stats/morestats.py:2967: UserWarning: Exact p-value calculation does not work if there are ties. Switching to normal approximation.\n"
     ]
    },
    {
     "data": {
      "text/plain": [
       "WilcoxonResult(statistic=1.0, pvalue=0.0069104298078147995)"
      ]
     },
     "execution_count": 98,
     "metadata": {},
     "output_type": "execute_result"
    }
   ],
   "source": [
    "a = 0.05\n",
    "\n",
    "wilcoxon(data_control[\"AWT2\"],data_treatment[\"AWT2\"])\n"
   ]
  },
  {
   "cell_type": "code",
   "execution_count": 99,
   "metadata": {},
   "outputs": [
    {
     "data": {
      "image/png": "[encoded data removed]",
      "text/plain": [
       "<Figure size 640x480 with 1 Axes>"
      ]
     },
     "metadata": {},
     "output_type": "display_data"
    },
    {
     "data": {
      "text/plain": [
       "<ggplot: (333718556)>"
      ]
     },
     "execution_count": 99,
     "metadata": {},
     "output_type": "execute_result"
    }
   ],
   "source": [
    "ggplot(data, aes(x='treatment', y='CWT2') ) + geom_boxplot() + geom_jitter(data,aes(colour='treatment',shape='treatment'))\n"
   ]
  },
  {
   "cell_type": "code",
   "execution_count": 100,
   "metadata": {},
   "outputs": [
    {
     "name": "stderr",
     "output_type": "stream",
     "text": [
      "/usr/local/Cellar/jupyterlab/3.0.10/libexec/lib/python3.9/site-packages/scipy/stats/morestats.py:2967: UserWarning: Exact p-value calculation does not work if there are ties. Switching to normal approximation.\n",
      "/usr/local/Cellar/jupyterlab/3.0.10/libexec/lib/python3.9/site-packages/scipy/stats/morestats.py:2981: UserWarning: Sample size too small for normal approximation.\n"
     ]
    },
    {
     "data": {
      "text/plain": [
       "WilcoxonResult(statistic=19.0, pvalue=0.6729404357300602)"
      ]
     },
     "execution_count": 100,
     "metadata": {},
     "output_type": "execute_result"
    }
   ],
   "source": [
    "a = 0.05\n",
    "\n",
    "wilcoxon(data_control[\"CWT2\"],data_treatment[\"CWT2\"])\n"
   ]
  },
  {
   "cell_type": "code",
   "execution_count": 101,
   "metadata": {},
   "outputs": [
    {
     "data": {
      "image/png": "[encoded data removed]",
      "text/plain": [
       "<Figure size 640x480 with 1 Axes>"
      ]
     },
     "metadata": {},
     "output_type": "display_data"
    },
    {
     "data": {
      "text/plain": [
       "<ggplot: (335794216)>"
      ]
     },
     "execution_count": 101,
     "metadata": {},
     "output_type": "execute_result"
    }
   ],
   "source": [
    "ggplot(data, aes(x='treatment', y='AVAR2') ) + geom_boxplot() + geom_jitter(data,aes(colour='treatment',shape='treatment'))\n"
   ]
  },
  {
   "cell_type": "code",
   "execution_count": 102,
   "metadata": {},
   "outputs": [
    {
     "name": "stderr",
     "output_type": "stream",
     "text": [
      "/usr/local/Cellar/jupyterlab/3.0.10/libexec/lib/python3.9/site-packages/scipy/stats/morestats.py:2967: UserWarning: Exact p-value calculation does not work if there are ties. Switching to normal approximation.\n",
      "/usr/local/Cellar/jupyterlab/3.0.10/libexec/lib/python3.9/site-packages/scipy/stats/morestats.py:2981: UserWarning: Sample size too small for normal approximation.\n"
     ]
    },
    {
     "data": {
      "text/plain": [
       "WilcoxonResult(statistic=7.0, pvalue=0.23672357063785732)"
      ]
     },
     "execution_count": 102,
     "metadata": {},
     "output_type": "execute_result"
    }
   ],
   "source": [
    "a = 0.05\n",
    "\n",
    "wilcoxon(data_control[\"AVAR2\"],data_treatment[\"AVAR2\"])\n"
   ]
  },
  {
   "cell_type": "code",
   "execution_count": 103,
   "metadata": {},
   "outputs": [
    {
     "data": {
      "image/png": "[encoded data removed]",
      "text/plain": [
       "<Figure size 640x480 with 1 Axes>"
      ]
     },
     "metadata": {},
     "output_type": "display_data"
    },
    {
     "data": {
      "text/plain": [
       "<ggplot: (335385715)>"
      ]
     },
     "execution_count": 103,
     "metadata": {},
     "output_type": "execute_result"
    }
   ],
   "source": [
    "ggplot(data, aes(x='treatment', y='CVAR2') ) + geom_boxplot() + geom_jitter(data,aes(colour='treatment',shape='treatment'))\n"
   ]
  },
  {
   "cell_type": "code",
   "execution_count": 104,
   "metadata": {},
   "outputs": [
    {
     "name": "stderr",
     "output_type": "stream",
     "text": [
      "/usr/local/Cellar/jupyterlab/3.0.10/libexec/lib/python3.9/site-packages/scipy/stats/morestats.py:2967: UserWarning: Exact p-value calculation does not work if there are ties. Switching to normal approximation.\n",
      "/usr/local/Cellar/jupyterlab/3.0.10/libexec/lib/python3.9/site-packages/scipy/stats/morestats.py:2981: UserWarning: Sample size too small for normal approximation.\n"
     ]
    },
    {
     "data": {
      "text/plain": [
       "WilcoxonResult(statistic=10.0, pvalue=0.26144605232963014)"
      ]
     },
     "execution_count": 104,
     "metadata": {},
     "output_type": "execute_result"
    }
   ],
   "source": [
    "a = 0.05\n",
    "\n",
    "wilcoxon(data_control[\"CVAR2\"],data_treatment[\"CVAR2\"])\n"
   ]
  },
  {
   "cell_type": "code",
   "execution_count": 105,
   "metadata": {},
   "outputs": [
    {
     "name": "stderr",
     "output_type": "stream",
     "text": [
      "<ipython-input-105-3e0b5f744490>:4: SettingWithCopyWarning: \n",
      "A value is trying to be set on a copy of a slice from a DataFrame.\n",
      "Try using .loc[row_indexer,col_indexer] = value instead\n",
      "\n",
      "See the caveats in the documentation: https://pandas.pydata.org/pandas-docs/stable/user_guide/indexing.html#returning-a-view-versus-a-copy\n",
      "<ipython-input-105-3e0b5f744490>:5: SettingWithCopyWarning: \n",
      "A value is trying to be set on a copy of a slice from a DataFrame.\n",
      "Try using .loc[row_indexer,col_indexer] = value instead\n",
      "\n",
      "See the caveats in the documentation: https://pandas.pydata.org/pandas-docs/stable/user_guide/indexing.html#returning-a-view-versus-a-copy\n",
      "<ipython-input-105-3e0b5f744490>:6: SettingWithCopyWarning: \n",
      "A value is trying to be set on a copy of a slice from a DataFrame.\n",
      "Try using .loc[row_indexer,col_indexer] = value instead\n",
      "\n",
      "See the caveats in the documentation: https://pandas.pydata.org/pandas-docs/stable/user_guide/indexing.html#returning-a-view-versus-a-copy\n"
     ]
    },
    {
     "data": {
      "text/html": [
       "<div>\n",
       "<style scoped>\n",
       "    .dataframe tbody tr th:only-of-type {\n",
       "        vertical-align: middle;\n",
       "    }\n",
       "\n",
       "    .dataframe tbody tr th {\n",
       "        vertical-align: top;\n",
       "    }\n",
       "\n",
       "    .dataframe thead th {\n",
       "        text-align: right;\n",
       "    }\n",
       "</style>\n",
       "<table border=\"1\" class=\"dataframe\">\n",
       "  <thead>\n",
       "    <tr style=\"text-align: right;\">\n",
       "      <th></th>\n",
       "      <th>Sheet #</th>\n",
       "      <th>Run</th>\n",
       "      <th>BioSample</th>\n",
       "      <th>Bases</th>\n",
       "      <th>Bytes</th>\n",
       "      <th>Experiment</th>\n",
       "      <th>GEO_Accession</th>\n",
       "      <th>inflammatory_response</th>\n",
       "      <th>race</th>\n",
       "      <th>Sample Name</th>\n",
       "      <th>...</th>\n",
       "      <th>diff_AWT2</th>\n",
       "      <th>diff_CWT2</th>\n",
       "      <th>diff_total2</th>\n",
       "      <th>diff_totalA</th>\n",
       "      <th>diff_totalC</th>\n",
       "      <th>diff_totalWT</th>\n",
       "      <th>diff_totalVar</th>\n",
       "      <th>ctrl_total2</th>\n",
       "      <th>ctrl_totalC</th>\n",
       "      <th>ctrl_totalA</th>\n",
       "    </tr>\n",
       "  </thead>\n",
       "  <tbody>\n",
       "    <tr>\n",
       "      <th>15</th>\n",
       "      <td>16</td>\n",
       "      <td>SRR4292097</td>\n",
       "      <td>SAMN05806826</td>\n",
       "      <td>56.30 G</td>\n",
       "      <td>34.32 Gb</td>\n",
       "      <td>SRX2187591</td>\n",
       "      <td>GSM2326902</td>\n",
       "      <td>1</td>\n",
       "      <td>African American</td>\n",
       "      <td>GSM2326902</td>\n",
       "      <td>...</td>\n",
       "      <td>0.00</td>\n",
       "      <td>0.00</td>\n",
       "      <td>-8.22</td>\n",
       "      <td>-7.70</td>\n",
       "      <td>-0.52</td>\n",
       "      <td>0.00</td>\n",
       "      <td>-8.22</td>\n",
       "      <td>12.85</td>\n",
       "      <td>0.54</td>\n",
       "      <td>12.31</td>\n",
       "    </tr>\n",
       "    <tr>\n",
       "      <th>16</th>\n",
       "      <td>17</td>\n",
       "      <td>SRR4292098</td>\n",
       "      <td>SAMN05806825</td>\n",
       "      <td>55.41 G</td>\n",
       "      <td>33.89 Gb</td>\n",
       "      <td>SRX2187592</td>\n",
       "      <td>GSM2326903</td>\n",
       "      <td>1</td>\n",
       "      <td>Caucasian</td>\n",
       "      <td>GSM2326903</td>\n",
       "      <td>...</td>\n",
       "      <td>0.00</td>\n",
       "      <td>0.00</td>\n",
       "      <td>0.74</td>\n",
       "      <td>0.83</td>\n",
       "      <td>-0.09</td>\n",
       "      <td>0.00</td>\n",
       "      <td>0.74</td>\n",
       "      <td>12.21</td>\n",
       "      <td>0.09</td>\n",
       "      <td>12.12</td>\n",
       "    </tr>\n",
       "    <tr>\n",
       "      <th>17</th>\n",
       "      <td>18</td>\n",
       "      <td>SRR4292099</td>\n",
       "      <td>SAMN05806824</td>\n",
       "      <td>47.95 G</td>\n",
       "      <td>29.16 Gb</td>\n",
       "      <td>SRX2187593</td>\n",
       "      <td>GSM2326904</td>\n",
       "      <td>1</td>\n",
       "      <td>Caucasian</td>\n",
       "      <td>GSM2326904</td>\n",
       "      <td>...</td>\n",
       "      <td>-2.97</td>\n",
       "      <td>0.30</td>\n",
       "      <td>-2.67</td>\n",
       "      <td>-2.97</td>\n",
       "      <td>0.30</td>\n",
       "      <td>-2.67</td>\n",
       "      <td>0.00</td>\n",
       "      <td>6.48</td>\n",
       "      <td>0.00</td>\n",
       "      <td>6.48</td>\n",
       "    </tr>\n",
       "    <tr>\n",
       "      <th>18</th>\n",
       "      <td>19</td>\n",
       "      <td>SRR4292100</td>\n",
       "      <td>SAMN05806823</td>\n",
       "      <td>47.04 G</td>\n",
       "      <td>28.94 Gb</td>\n",
       "      <td>SRX2187594</td>\n",
       "      <td>GSM2326905</td>\n",
       "      <td>1</td>\n",
       "      <td>Caucasian</td>\n",
       "      <td>GSM2326905</td>\n",
       "      <td>...</td>\n",
       "      <td>0.00</td>\n",
       "      <td>0.00</td>\n",
       "      <td>0.48</td>\n",
       "      <td>0.41</td>\n",
       "      <td>0.07</td>\n",
       "      <td>0.00</td>\n",
       "      <td>0.48</td>\n",
       "      <td>7.85</td>\n",
       "      <td>0.06</td>\n",
       "      <td>7.79</td>\n",
       "    </tr>\n",
       "    <tr>\n",
       "      <th>19</th>\n",
       "      <td>20</td>\n",
       "      <td>SRR4292101</td>\n",
       "      <td>SAMN05806822</td>\n",
       "      <td>25.25 G</td>\n",
       "      <td>16.33 Gb</td>\n",
       "      <td>SRX2187595</td>\n",
       "      <td>GSM2326906</td>\n",
       "      <td>1</td>\n",
       "      <td>Caucasian</td>\n",
       "      <td>GSM2326906</td>\n",
       "      <td>...</td>\n",
       "      <td>-1.83</td>\n",
       "      <td>0.09</td>\n",
       "      <td>-1.74</td>\n",
       "      <td>-1.83</td>\n",
       "      <td>0.09</td>\n",
       "      <td>-1.74</td>\n",
       "      <td>0.00</td>\n",
       "      <td>3.57</td>\n",
       "      <td>0.00</td>\n",
       "      <td>3.57</td>\n",
       "    </tr>\n",
       "    <tr>\n",
       "      <th>20</th>\n",
       "      <td>21</td>\n",
       "      <td>SRR4292102</td>\n",
       "      <td>SAMN05806821</td>\n",
       "      <td>27.70 G</td>\n",
       "      <td>17.89 Gb</td>\n",
       "      <td>SRX2187596</td>\n",
       "      <td>GSM2326907</td>\n",
       "      <td>1</td>\n",
       "      <td>African American</td>\n",
       "      <td>GSM2326907</td>\n",
       "      <td>...</td>\n",
       "      <td>-0.93</td>\n",
       "      <td>0.02</td>\n",
       "      <td>-1.58</td>\n",
       "      <td>-1.58</td>\n",
       "      <td>0.00</td>\n",
       "      <td>-0.91</td>\n",
       "      <td>-0.67</td>\n",
       "      <td>2.99</td>\n",
       "      <td>0.06</td>\n",
       "      <td>2.93</td>\n",
       "    </tr>\n",
       "    <tr>\n",
       "      <th>21</th>\n",
       "      <td>22</td>\n",
       "      <td>SRR4292103</td>\n",
       "      <td>SAMN05806820</td>\n",
       "      <td>17.58 G</td>\n",
       "      <td>11.40 Gb</td>\n",
       "      <td>SRX2187597</td>\n",
       "      <td>GSM2326908</td>\n",
       "      <td>-1</td>\n",
       "      <td>Caucasian</td>\n",
       "      <td>GSM2326908</td>\n",
       "      <td>...</td>\n",
       "      <td>0.00</td>\n",
       "      <td>0.00</td>\n",
       "      <td>-2.85</td>\n",
       "      <td>-2.74</td>\n",
       "      <td>-0.11</td>\n",
       "      <td>0.00</td>\n",
       "      <td>-2.85</td>\n",
       "      <td>5.21</td>\n",
       "      <td>0.15</td>\n",
       "      <td>5.06</td>\n",
       "    </tr>\n",
       "    <tr>\n",
       "      <th>22</th>\n",
       "      <td>23</td>\n",
       "      <td>SRR4292104</td>\n",
       "      <td>SAMN05806819</td>\n",
       "      <td>25.12 G</td>\n",
       "      <td>16.21 Gb</td>\n",
       "      <td>SRX2187598</td>\n",
       "      <td>GSM2326909</td>\n",
       "      <td>-1</td>\n",
       "      <td>Caucasian</td>\n",
       "      <td>GSM2326909</td>\n",
       "      <td>...</td>\n",
       "      <td>-0.82</td>\n",
       "      <td>-0.02</td>\n",
       "      <td>-1.27</td>\n",
       "      <td>-1.36</td>\n",
       "      <td>0.09</td>\n",
       "      <td>-0.84</td>\n",
       "      <td>-0.43</td>\n",
       "      <td>3.93</td>\n",
       "      <td>0.08</td>\n",
       "      <td>3.85</td>\n",
       "    </tr>\n",
       "    <tr>\n",
       "      <th>23</th>\n",
       "      <td>24</td>\n",
       "      <td>SRR4292105</td>\n",
       "      <td>SAMN05806818</td>\n",
       "      <td>26.42 G</td>\n",
       "      <td>17.05 Gb</td>\n",
       "      <td>SRX2187599</td>\n",
       "      <td>GSM2326910</td>\n",
       "      <td>-1</td>\n",
       "      <td>Caucasian</td>\n",
       "      <td>GSM2326910</td>\n",
       "      <td>...</td>\n",
       "      <td>0.08</td>\n",
       "      <td>-0.07</td>\n",
       "      <td>0.01</td>\n",
       "      <td>0.08</td>\n",
       "      <td>-0.07</td>\n",
       "      <td>0.01</td>\n",
       "      <td>0.00</td>\n",
       "      <td>2.87</td>\n",
       "      <td>0.09</td>\n",
       "      <td>2.78</td>\n",
       "    </tr>\n",
       "    <tr>\n",
       "      <th>24</th>\n",
       "      <td>25</td>\n",
       "      <td>SRR4292106</td>\n",
       "      <td>SAMN05806817</td>\n",
       "      <td>9.88 G</td>\n",
       "      <td>5.85 Gb</td>\n",
       "      <td>SRX2187600</td>\n",
       "      <td>GSM2326911</td>\n",
       "      <td>1</td>\n",
       "      <td>Caucasian</td>\n",
       "      <td>GSM2326911</td>\n",
       "      <td>...</td>\n",
       "      <td>-0.62</td>\n",
       "      <td>0.02</td>\n",
       "      <td>-0.71</td>\n",
       "      <td>-0.62</td>\n",
       "      <td>-0.09</td>\n",
       "      <td>-0.60</td>\n",
       "      <td>-0.11</td>\n",
       "      <td>1.20</td>\n",
       "      <td>0.11</td>\n",
       "      <td>1.09</td>\n",
       "    </tr>\n",
       "    <tr>\n",
       "      <th>25</th>\n",
       "      <td>26</td>\n",
       "      <td>SRR4292107</td>\n",
       "      <td>SAMN05806816</td>\n",
       "      <td>6.14 G</td>\n",
       "      <td>3.59 Gb</td>\n",
       "      <td>SRX2187601</td>\n",
       "      <td>GSM2326912</td>\n",
       "      <td>1</td>\n",
       "      <td>African American</td>\n",
       "      <td>GSM2326912</td>\n",
       "      <td>...</td>\n",
       "      <td>-0.80</td>\n",
       "      <td>0.02</td>\n",
       "      <td>-0.78</td>\n",
       "      <td>-0.80</td>\n",
       "      <td>0.02</td>\n",
       "      <td>-0.78</td>\n",
       "      <td>0.00</td>\n",
       "      <td>1.01</td>\n",
       "      <td>0.02</td>\n",
       "      <td>0.99</td>\n",
       "    </tr>\n",
       "    <tr>\n",
       "      <th>26</th>\n",
       "      <td>27</td>\n",
       "      <td>SRR4292108</td>\n",
       "      <td>SAMN05806815</td>\n",
       "      <td>9.42 G</td>\n",
       "      <td>5.60 Gb</td>\n",
       "      <td>SRX2187602</td>\n",
       "      <td>GSM2326913</td>\n",
       "      <td>-1</td>\n",
       "      <td>African American</td>\n",
       "      <td>GSM2326913</td>\n",
       "      <td>...</td>\n",
       "      <td>-0.30</td>\n",
       "      <td>0.00</td>\n",
       "      <td>-0.30</td>\n",
       "      <td>-0.30</td>\n",
       "      <td>0.00</td>\n",
       "      <td>-0.30</td>\n",
       "      <td>0.00</td>\n",
       "      <td>0.54</td>\n",
       "      <td>0.00</td>\n",
       "      <td>0.54</td>\n",
       "    </tr>\n",
       "    <tr>\n",
       "      <th>27</th>\n",
       "      <td>28</td>\n",
       "      <td>SRR4292109</td>\n",
       "      <td>SAMN05806814</td>\n",
       "      <td>7.90 G</td>\n",
       "      <td>4.72 Gb</td>\n",
       "      <td>SRX2187603</td>\n",
       "      <td>GSM2326914</td>\n",
       "      <td>-1</td>\n",
       "      <td>African American</td>\n",
       "      <td>GSM2326914</td>\n",
       "      <td>...</td>\n",
       "      <td>-0.86</td>\n",
       "      <td>-0.04</td>\n",
       "      <td>-0.90</td>\n",
       "      <td>-0.86</td>\n",
       "      <td>-0.04</td>\n",
       "      <td>-0.90</td>\n",
       "      <td>0.00</td>\n",
       "      <td>1.37</td>\n",
       "      <td>0.04</td>\n",
       "      <td>1.33</td>\n",
       "    </tr>\n",
       "    <tr>\n",
       "      <th>28</th>\n",
       "      <td>29</td>\n",
       "      <td>SRR4292110</td>\n",
       "      <td>SAMN05806813</td>\n",
       "      <td>11.19 G</td>\n",
       "      <td>6.65 Gb</td>\n",
       "      <td>SRX2187604</td>\n",
       "      <td>GSM2326915</td>\n",
       "      <td>-1</td>\n",
       "      <td>Caucasian</td>\n",
       "      <td>GSM2326915</td>\n",
       "      <td>...</td>\n",
       "      <td>-0.41</td>\n",
       "      <td>-0.02</td>\n",
       "      <td>-0.43</td>\n",
       "      <td>-0.41</td>\n",
       "      <td>-0.02</td>\n",
       "      <td>-0.43</td>\n",
       "      <td>0.00</td>\n",
       "      <td>0.99</td>\n",
       "      <td>0.02</td>\n",
       "      <td>0.97</td>\n",
       "    </tr>\n",
       "    <tr>\n",
       "      <th>29</th>\n",
       "      <td>30</td>\n",
       "      <td>SRR4292111</td>\n",
       "      <td>SAMN05806812</td>\n",
       "      <td>6.61 G</td>\n",
       "      <td>4.20 Gb</td>\n",
       "      <td>SRX2187605</td>\n",
       "      <td>GSM2326916</td>\n",
       "      <td>-1</td>\n",
       "      <td>African American</td>\n",
       "      <td>GSM2326916</td>\n",
       "      <td>...</td>\n",
       "      <td>0.00</td>\n",
       "      <td>0.00</td>\n",
       "      <td>-0.02</td>\n",
       "      <td>-0.04</td>\n",
       "      <td>0.02</td>\n",
       "      <td>0.00</td>\n",
       "      <td>-0.02</td>\n",
       "      <td>0.68</td>\n",
       "      <td>0.02</td>\n",
       "      <td>0.66</td>\n",
       "    </tr>\n",
       "  </tbody>\n",
       "</table>\n",
       "<p>15 rows × 46 columns</p>\n",
       "</div>"
      ],
      "text/plain": [
       "    Sheet #         Run     BioSample    Bases     Bytes  Experiment  \\\n",
       "15       16  SRR4292097  SAMN05806826  56.30 G  34.32 Gb  SRX2187591   \n",
       "16       17  SRR4292098  SAMN05806825  55.41 G  33.89 Gb  SRX2187592   \n",
       "17       18  SRR4292099  SAMN05806824  47.95 G  29.16 Gb  SRX2187593   \n",
       "18       19  SRR4292100  SAMN05806823  47.04 G  28.94 Gb  SRX2187594   \n",
       "19       20  SRR4292101  SAMN05806822  25.25 G  16.33 Gb  SRX2187595   \n",
       "20       21  SRR4292102  SAMN05806821  27.70 G  17.89 Gb  SRX2187596   \n",
       "21       22  SRR4292103  SAMN05806820  17.58 G  11.40 Gb  SRX2187597   \n",
       "22       23  SRR4292104  SAMN05806819  25.12 G  16.21 Gb  SRX2187598   \n",
       "23       24  SRR4292105  SAMN05806818  26.42 G  17.05 Gb  SRX2187599   \n",
       "24       25  SRR4292106  SAMN05806817   9.88 G   5.85 Gb  SRX2187600   \n",
       "25       26  SRR4292107  SAMN05806816   6.14 G   3.59 Gb  SRX2187601   \n",
       "26       27  SRR4292108  SAMN05806815   9.42 G   5.60 Gb  SRX2187602   \n",
       "27       28  SRR4292109  SAMN05806814   7.90 G   4.72 Gb  SRX2187603   \n",
       "28       29  SRR4292110  SAMN05806813  11.19 G   6.65 Gb  SRX2187604   \n",
       "29       30  SRR4292111  SAMN05806812   6.61 G   4.20 Gb  SRX2187605   \n",
       "\n",
       "   GEO_Accession  inflammatory_response              race Sample Name  ...  \\\n",
       "15    GSM2326902                      1  African American  GSM2326902  ...   \n",
       "16    GSM2326903                      1         Caucasian  GSM2326903  ...   \n",
       "17    GSM2326904                      1         Caucasian  GSM2326904  ...   \n",
       "18    GSM2326905                      1         Caucasian  GSM2326905  ...   \n",
       "19    GSM2326906                      1         Caucasian  GSM2326906  ...   \n",
       "20    GSM2326907                      1  African American  GSM2326907  ...   \n",
       "21    GSM2326908                     -1         Caucasian  GSM2326908  ...   \n",
       "22    GSM2326909                     -1         Caucasian  GSM2326909  ...   \n",
       "23    GSM2326910                     -1         Caucasian  GSM2326910  ...   \n",
       "24    GSM2326911                      1         Caucasian  GSM2326911  ...   \n",
       "25    GSM2326912                      1  African American  GSM2326912  ...   \n",
       "26    GSM2326913                     -1  African American  GSM2326913  ...   \n",
       "27    GSM2326914                     -1  African American  GSM2326914  ...   \n",
       "28    GSM2326915                     -1         Caucasian  GSM2326915  ...   \n",
       "29    GSM2326916                     -1  African American  GSM2326916  ...   \n",
       "\n",
       "   diff_AWT2 diff_CWT2  diff_total2  diff_totalA  diff_totalC  diff_totalWT  \\\n",
       "15      0.00      0.00        -8.22        -7.70        -0.52          0.00   \n",
       "16      0.00      0.00         0.74         0.83        -0.09          0.00   \n",
       "17     -2.97      0.30        -2.67        -2.97         0.30         -2.67   \n",
       "18      0.00      0.00         0.48         0.41         0.07          0.00   \n",
       "19     -1.83      0.09        -1.74        -1.83         0.09         -1.74   \n",
       "20     -0.93      0.02        -1.58        -1.58         0.00         -0.91   \n",
       "21      0.00      0.00        -2.85        -2.74        -0.11          0.00   \n",
       "22     -0.82     -0.02        -1.27        -1.36         0.09         -0.84   \n",
       "23      0.08     -0.07         0.01         0.08        -0.07          0.01   \n",
       "24     -0.62      0.02        -0.71        -0.62        -0.09         -0.60   \n",
       "25     -0.80      0.02        -0.78        -0.80         0.02         -0.78   \n",
       "26     -0.30      0.00        -0.30        -0.30         0.00         -0.30   \n",
       "27     -0.86     -0.04        -0.90        -0.86        -0.04         -0.90   \n",
       "28     -0.41     -0.02        -0.43        -0.41        -0.02         -0.43   \n",
       "29      0.00      0.00        -0.02        -0.04         0.02          0.00   \n",
       "\n",
       "    diff_totalVar  ctrl_total2  ctrl_totalC  ctrl_totalA  \n",
       "15          -8.22        12.85         0.54        12.31  \n",
       "16           0.74        12.21         0.09        12.12  \n",
       "17           0.00         6.48         0.00         6.48  \n",
       "18           0.48         7.85         0.06         7.79  \n",
       "19           0.00         3.57         0.00         3.57  \n",
       "20          -0.67         2.99         0.06         2.93  \n",
       "21          -2.85         5.21         0.15         5.06  \n",
       "22          -0.43         3.93         0.08         3.85  \n",
       "23           0.00         2.87         0.09         2.78  \n",
       "24          -0.11         1.20         0.11         1.09  \n",
       "25           0.00         1.01         0.02         0.99  \n",
       "26           0.00         0.54         0.00         0.54  \n",
       "27           0.00         1.37         0.04         1.33  \n",
       "28           0.00         0.99         0.02         0.97  \n",
       "29          -0.02         0.68         0.02         0.66  \n",
       "\n",
       "[15 rows x 46 columns]"
      ]
     },
     "execution_count": 105,
     "metadata": {},
     "output_type": "execute_result"
    }
   ],
   "source": [
    "data_plot = data_treatment\n",
    "controlData = data_control['total2']\n",
    "controlData\n",
    "data_plot[\"ctrl_total2\"]=controlData.to_list()\n",
    "data_plot[\"ctrl_totalC\"]=data_control['totalC'].to_list()\n",
    "data_plot[\"ctrl_totalA\"]=data_control['totalA'].to_list()\n",
    "\n",
    "\n",
    "data_plot"
   ]
  },
  {
   "cell_type": "markdown",
   "metadata": {},
   "source": [
    "# Var\n"
   ]
  },
  {
   "cell_type": "code",
   "execution_count": 106,
   "metadata": {},
   "outputs": [
    {
     "data": {
      "image/png": "[encoded data removed]",
      "text/plain": [
       "<Figure size 640x480 with 1 Axes>"
      ]
     },
     "metadata": {},
     "output_type": "display_data"
    },
    {
     "data": {
      "text/plain": [
       "<ggplot: (336529342)>"
      ]
     },
     "execution_count": 106,
     "metadata": {},
     "output_type": "execute_result"
    }
   ],
   "source": [
    "ggplot(data, aes(x='treatment', y='totalVar') ) + geom_boxplot() + geom_jitter(data,aes(colour='treatment',shape='treatment'))\n"
   ]
  },
  {
   "cell_type": "code",
   "execution_count": 107,
   "metadata": {},
   "outputs": [
    {
     "name": "stderr",
     "output_type": "stream",
     "text": [
      "/usr/local/Cellar/jupyterlab/3.0.10/libexec/lib/python3.9/site-packages/scipy/stats/morestats.py:2967: UserWarning: Exact p-value calculation does not work if there are ties. Switching to normal approximation.\n",
      "/usr/local/Cellar/jupyterlab/3.0.10/libexec/lib/python3.9/site-packages/scipy/stats/morestats.py:2981: UserWarning: Sample size too small for normal approximation.\n"
     ]
    },
    {
     "data": {
      "text/plain": [
       "WilcoxonResult(statistic=10.0, pvalue=0.2626182904425206)"
      ]
     },
     "execution_count": 107,
     "metadata": {},
     "output_type": "execute_result"
    }
   ],
   "source": [
    "a = 0.05\n",
    "\n",
    "wilcoxon(diff_data[\"diff_totalVar\"])\n"
   ]
  },
  {
   "cell_type": "code",
   "execution_count": 108,
   "metadata": {},
   "outputs": [
    {
     "data": {
      "image/png": "[encoded data removed]",
      "text/plain": [
       "<Figure size 640x480 with 1 Axes>"
      ]
     },
     "metadata": {},
     "output_type": "display_data"
    },
    {
     "data": {
      "text/plain": [
       "<ggplot: (335253709)>"
      ]
     },
     "execution_count": 108,
     "metadata": {},
     "output_type": "execute_result"
    }
   ],
   "source": [
    "ggplot(data, aes(x='treatment', y='totalWT') ) + geom_boxplot() + geom_jitter(data,aes(colour='treatment',shape='treatment'))\n"
   ]
  },
  {
   "cell_type": "code",
   "execution_count": 109,
   "metadata": {},
   "outputs": [
    {
     "name": "stderr",
     "output_type": "stream",
     "text": [
      "/usr/local/Cellar/jupyterlab/3.0.10/libexec/lib/python3.9/site-packages/scipy/stats/morestats.py:2967: UserWarning: Exact p-value calculation does not work if there are ties. Switching to normal approximation.\n"
     ]
    },
    {
     "data": {
      "text/plain": [
       "WilcoxonResult(statistic=1.0, pvalue=0.0069104298078147995)"
      ]
     },
     "execution_count": 109,
     "metadata": {},
     "output_type": "execute_result"
    }
   ],
   "source": [
    "a = 0.05\n",
    "\n",
    "wilcoxon(diff_data[\"diff_totalWT\"])\n"
   ]
  },
  {
   "cell_type": "markdown",
   "metadata": {},
   "source": [
    "# Total2"
   ]
  },
  {
   "cell_type": "code",
   "execution_count": 110,
   "metadata": {},
   "outputs": [
    {
     "data": {
      "image/png": "[encoded data removed]",
      "text/plain": [
       "<Figure size 640x480 with 1 Axes>"
      ]
     },
     "metadata": {},
     "output_type": "display_data"
    },
    {
     "data": {
      "text/plain": [
       "<ggplot: (333776125)>"
      ]
     },
     "execution_count": 110,
     "metadata": {},
     "output_type": "execute_result"
    }
   ],
   "source": [
    "q1_2 = np.round(data.total2.quantile(0.25), 4)\n",
    "q3_2 = np.round(data.total2.quantile(0.75), 4)\n",
    "iqr2 = np.round(q3_2 - q1_2, 4)\n",
    "lower2 = np.round( q1_2 - (1.5 * iqr2),4)\n",
    "upper2=  np.round( q3_2+  (1.5 * iqr2),4)\n",
    "removed_outliers2 = data.total2.between(lower2, upper2)\n",
    "data_total2= data[removed_outliers2]\n",
    "\n",
    "label = pd.DataFrame({\"total2\": [10],\n",
    "                      \"treatment\":[\"baseline\"],\n",
    "                      \"label\": \" pvalue=0.00691 \\n The Treatments shows significant difference \"})\n",
    "\n",
    "ggplot(data_total2, aes(x='treatment',y=\"total2\" ), ) + geom_boxplot(outlier_shape = \"\") + geom_jitter(data_total2,aes(y=\"total2\",colour='treatment') )  + ggtitle(\"QQ Plot of IRAK-1 expression per  GbP\") + xlab(\"Treatment\") + ylab(\"Total IRAK-1 Levels per Gigabase pair\") + geom_text(aes(label=\"label\"), data=label, va=\"top\", ha=\"left\") +ylim(0, upper2)\n"
   ]
  },
  {
   "cell_type": "code",
   "execution_count": 111,
   "metadata": {},
   "outputs": [
    {
     "name": "stderr",
     "output_type": "stream",
     "text": [
      "/usr/local/Cellar/jupyterlab/3.0.10/libexec/lib/python3.9/site-packages/plotnine/ggplot.py:727: PlotnineWarning: Saving 6.4 x 4.8 in image.\n",
      "/usr/local/Cellar/jupyterlab/3.0.10/libexec/lib/python3.9/site-packages/plotnine/ggplot.py:730: PlotnineWarning: Filename: total2.png\n"
     ]
    }
   ],
   "source": [
    "\n",
    "_.save(\"total2.png\")"
   ]
  },
  {
   "cell_type": "code",
   "execution_count": 112,
   "metadata": {},
   "outputs": [
    {
     "data": {
      "text/plain": [
       "WilcoxonResult(statistic=13.0, pvalue=0.00537109375)"
      ]
     },
     "execution_count": 112,
     "metadata": {},
     "output_type": "execute_result"
    }
   ],
   "source": [
    "a = 0.05\n",
    "\n",
    "wilcoxon(diff_data[\"diff_total2\"])\n"
   ]
  },
  {
   "cell_type": "code",
   "execution_count": 113,
   "metadata": {},
   "outputs": [
    {
     "name": "stderr",
     "output_type": "stream",
     "text": [
      "/usr/local/Cellar/jupyterlab/3.0.10/libexec/lib/python3.9/site-packages/plotnine/layer.py:372: PlotnineWarning: stat_boxplot : Removed 2 rows containing non-finite values.\n",
      "/usr/local/Cellar/jupyterlab/3.0.10/libexec/lib/python3.9/site-packages/plotnine/layer.py:467: PlotnineWarning: geom_jitter : Removed 5 rows containing missing values.\n"
     ]
    },
    {
     "data": {
      "image/png": "[encoded data removed]",
      "text/plain": [
       "<Figure size 640x480 with 1 Axes>"
      ]
     },
     "metadata": {},
     "output_type": "display_data"
    },
    {
     "data": {
      "text/plain": [
       "<ggplot: (335377930)>"
      ]
     },
     "execution_count": 113,
     "metadata": {},
     "output_type": "execute_result"
    }
   ],
   "source": [
    "def no_labels(values):\n",
    "    return [\"\"] * len(values)\n",
    "\n",
    "\n",
    "removed_outliers_diffData = diff_data.diff_total2.between(diff_data.diff_total2.quantile(.05), diff_data.diff_total2.quantile(.95))\n",
    "difftotalData=diff_data[removed_outliers_diffData]\n",
    "ggplot(difftotalData, aes( x='0',y='diff_total2') ) + geom_boxplot() + geom_jitter(color=\"red\") + ylim(difftotalData.diff_total2.quantile(.05), difftotalData.diff_total2.quantile(.95)) + ggtitle(\"Boxplot of changes in IRAK-1 levels per Gbp\") + xlab(\"Treatment\") + ylab(\"Changes in  IRAK-1 Levels per Gigabase pair\")   +\\\n",
    "scale_x_continuous(labels=no_labels) \n"
   ]
  },
  {
   "cell_type": "code",
   "execution_count": 114,
   "metadata": {},
   "outputs": [
    {
     "name": "stderr",
     "output_type": "stream",
     "text": [
      "/usr/local/Cellar/jupyterlab/3.0.10/libexec/lib/python3.9/site-packages/plotnine/ggplot.py:727: PlotnineWarning: Saving 6.4 x 4.8 in image.\n",
      "/usr/local/Cellar/jupyterlab/3.0.10/libexec/lib/python3.9/site-packages/plotnine/ggplot.py:730: PlotnineWarning: Filename: total2_data2.png\n",
      "/usr/local/Cellar/jupyterlab/3.0.10/libexec/lib/python3.9/site-packages/plotnine/layer.py:372: PlotnineWarning: stat_boxplot : Removed 2 rows containing non-finite values.\n",
      "/usr/local/Cellar/jupyterlab/3.0.10/libexec/lib/python3.9/site-packages/plotnine/layer.py:467: PlotnineWarning: geom_jitter : Removed 4 rows containing missing values.\n"
     ]
    }
   ],
   "source": [
    "_.save(\"total2_data2.png\")"
   ]
  },
  {
   "cell_type": "code",
   "execution_count": 115,
   "metadata": {},
   "outputs": [
    {
     "name": "stdout",
     "output_type": "stream",
     "text": [
      "coefficient of determination: 0.30662856324973753\n",
      "intercept: -0.24988353203467817\n",
      "slope: [0.74130593]\n"
     ]
    }
   ],
   "source": [
    "from sklearn.linear_model import LinearRegression\n",
    "model = LinearRegression().fit(data_plot.ctrl_total2.to_numpy().reshape((-1, 1)), data_plot.total2)\n",
    "r_sq= model.score(data_plot.total2.to_numpy().reshape((-1, 1)), data_plot.ctrl_total2)\n",
    "print('coefficient of determination:', r_sq)\n",
    "print('intercept:', model.intercept_)\n",
    "print('slope:', model.coef_)"
   ]
  },
  {
   "cell_type": "code",
   "execution_count": 116,
   "metadata": {},
   "outputs": [
    {
     "data": {
      "image/png": "[encoded data removed]",
      "text/plain": [
       "<Figure size 640x480 with 1 Axes>"
      ]
     },
     "metadata": {},
     "output_type": "display_data"
    },
    {
     "data": {
      "text/plain": [
       "<ggplot: (336628965)>"
      ]
     },
     "execution_count": 116,
     "metadata": {},
     "output_type": "execute_result"
    }
   ],
   "source": [
    "label = pd.DataFrame({\"total2\": [15],\n",
    "                      \"ctrl_total2\":[0],\n",
    "                      \"label\": str(\"Intercept:\"+ str(np.round(model.intercept_,4)) + \" | Slope: \"+ str(np.round(model.coef_,4)) +\" \\n R.Sq = \" + str(np.round(r_sq,4))\n",
    "                                  )})\n",
    "\n",
    "ggplot(data_plot,aes(y='total2',x='ctrl_total2') )  + geom_point(aes()) + geom_smooth(method='lm') + ggtitle(\"Linear Regression of IRAK-1 mrNA expression levels \\n before and after LPS treatment\") + xlab(\"Total IRAK-1 mRNA Levels per Gbp \\n before LPS Treatment\") + ylab(\"Total IRAK-1 mRNA Levels per Gbp \\n after LPS treatment \") + geom_text(aes(label=\"label\"), data=label, va=\"top\", ha=\"left\")"
   ]
  },
  {
   "cell_type": "code",
   "execution_count": 117,
   "metadata": {},
   "outputs": [
    {
     "name": "stderr",
     "output_type": "stream",
     "text": [
      "/usr/local/Cellar/jupyterlab/3.0.10/libexec/lib/python3.9/site-packages/plotnine/ggplot.py:727: PlotnineWarning: Saving 6.4 x 4.8 in image.\n",
      "/usr/local/Cellar/jupyterlab/3.0.10/libexec/lib/python3.9/site-packages/plotnine/ggplot.py:730: PlotnineWarning: Filename: total2_lm.png\n"
     ]
    }
   ],
   "source": [
    "_.save(\"total2_lm.png\")"
   ]
  },
  {
   "cell_type": "markdown",
   "metadata": {},
   "source": [
    "# A"
   ]
  },
  {
   "cell_type": "code",
   "execution_count": 118,
   "metadata": {},
   "outputs": [
    {
     "name": "stderr",
     "output_type": "stream",
     "text": [
      "/usr/local/Cellar/jupyterlab/3.0.10/libexec/lib/python3.9/site-packages/plotnine/layer.py:467: PlotnineWarning: geom_jitter : Removed 3 rows containing missing values.\n"
     ]
    },
    {
     "data": {
      "image/png": "[encoded data removed]",
      "text/plain": [
       "<Figure size 640x480 with 1 Axes>"
      ]
     },
     "metadata": {},
     "output_type": "display_data"
    },
    {
     "data": {
      "text/plain": [
       "<ggplot: (333882441)>"
      ]
     },
     "execution_count": 118,
     "metadata": {},
     "output_type": "execute_result"
    }
   ],
   "source": [
    "q1 = np.round(data.totalA.quantile(0.25), 4)\n",
    "q3 = np.round(data.totalA.quantile(0.75), 4)\n",
    "iqr = np.round(q3 - q1, 4)\n",
    "lowerA = np.round( q1 - (1.5 * iqr),4)\n",
    "upperA=  np.round( q3+  (1.5 * iqr),4)\n",
    "removed_outliers_A = data.totalA.between(lowerA, upperA)\n",
    "data_total_A= data[removed_outliers_A]\n",
    "data_total_A\n",
    "labelA = pd.DataFrame({\"totalA\": [np.inf],\n",
    "                      \"treatment\":[\"baseline\"],\n",
    "                      \"label\": \" pvalue=0.0067 \\n The Treatments shows significant difference \"})\n",
    "\n",
    "\n",
    "    # Interquartile range\n",
    "ggplot(data_total_A, aes(x='treatment', y='totalA') ) + geom_boxplot() + geom_jitter(data, aes(colour='treatment',shape='treatment')) +  ggtitle(\"Boxplot of IRAK-1 A expression per  GbP\") + xlab(\"Treatment\") + ylab(\"Total IRAK-1A Levels per Gigabase pair\") + ylim(0,upperA ) + geom_text(aes(label=\"label\"), data=labelA, va=\"top\", ha=\"left\") \n",
    "\n"
   ]
  },
  {
   "cell_type": "code",
   "execution_count": 119,
   "metadata": {},
   "outputs": [
    {
     "data": {
      "text/plain": [
       "WilcoxonResult(statistic=14.0, pvalue=0.0067138671875)"
      ]
     },
     "execution_count": 119,
     "metadata": {},
     "output_type": "execute_result"
    }
   ],
   "source": [
    "a = 0.05\n",
    "\n",
    "wilcoxon(diff_data[\"diff_totalA\"])\n"
   ]
  },
  {
   "cell_type": "code",
   "execution_count": 120,
   "metadata": {},
   "outputs": [
    {
     "name": "stderr",
     "output_type": "stream",
     "text": [
      "/usr/local/Cellar/jupyterlab/3.0.10/libexec/lib/python3.9/site-packages/plotnine/layer.py:372: PlotnineWarning: stat_boxplot : Removed 2 rows containing non-finite values.\n",
      "/usr/local/Cellar/jupyterlab/3.0.10/libexec/lib/python3.9/site-packages/plotnine/layer.py:467: PlotnineWarning: geom_point : Removed 2 rows containing missing values.\n"
     ]
    },
    {
     "data": {
      "image/png": "[encoded data removed]",
      "text/plain": [
       "<Figure size 640x480 with 1 Axes>"
      ]
     },
     "metadata": {},
     "output_type": "display_data"
    },
    {
     "data": {
      "text/plain": [
       "<ggplot: (336772753)>"
      ]
     },
     "execution_count": 120,
     "metadata": {},
     "output_type": "execute_result"
    }
   ],
   "source": [
    "ggplot(diff_data, aes( x='0',y='diff_totalA') ) + geom_boxplot() + geom_point(color=\"red\")+ ggtitle(\"Boxplot of changes in IRAK-1A levels per Gbp\") + xlab(\"Treatment\") + ylab(\"Changes in  IRAK-1 Levels per Gigabase pair\") +ylim(-3.2,0.5)\n"
   ]
  },
  {
   "cell_type": "code",
   "execution_count": 121,
   "metadata": {},
   "outputs": [
    {
     "name": "stdout",
     "output_type": "stream",
     "text": [
      "coefficient of determination: 0.3174435142021973\n",
      "intercept: -0.33929213731345564\n",
      "slope: [0.76307639]\n"
     ]
    }
   ],
   "source": [
    "from sklearn.linear_model import LinearRegression\n",
    "model = LinearRegression().fit(data_plot.ctrl_totalA.to_numpy().reshape((-1, 1)), data_plot.totalA)\n",
    "r_sq= model.score(data_plot.totalA.to_numpy().reshape((-1, 1)), data_plot.ctrl_totalA)\n",
    "print('coefficient of determination:', r_sq)\n",
    "print('intercept:', model.intercept_)\n",
    "print('slope:', model.coef_)"
   ]
  },
  {
   "cell_type": "code",
   "execution_count": 122,
   "metadata": {},
   "outputs": [
    {
     "data": {
      "image/png": "[encoded data removed]",
      "text/plain": [
       "<Figure size 640x480 with 1 Axes>"
      ]
     },
     "metadata": {},
     "output_type": "display_data"
    },
    {
     "data": {
      "text/plain": [
       "<ggplot: (336827402)>"
      ]
     },
     "execution_count": 122,
     "metadata": {},
     "output_type": "execute_result"
    }
   ],
   "source": [
    "labelA = pd.DataFrame({\"totalA\": [np.inf],\n",
    "                      \"ctrl_totalA\":[0],\n",
    "                      \"label\": str(\"Intercept:\"+ str(np.round(model.intercept_,4)) + \" | Slope: \"+ str(np.round(model.coef_,4)) +\" \\n R.Sq = \" + str(np.round(r_sq,4))\n",
    "                                  )})\n",
    "\n",
    "ggplot(data_plot,aes(y='totalA',x='ctrl_totalA') )  + geom_point(aes()) + geom_smooth(method='lm') + ggtitle(\"Linear Regression of IRAK-1A mrNA expression levels \\n before and after LPS treatment\") + xlab(\"Total IRAK-1A mRNA Levels per Gbp \\n before LPS Treatment\") + ylab(\"Total IRAK-1A mRNA Levels per Gbp \\n after LPS treatment \") + geom_text(aes(label=\"label\"), data=labelA, va=\"top\", ha=\"left\")"
   ]
  },
  {
   "cell_type": "markdown",
   "metadata": {},
   "source": [
    "# C"
   ]
  },
  {
   "cell_type": "code",
   "execution_count": 124,
   "metadata": {},
   "outputs": [
    {
     "name": "stderr",
     "output_type": "stream",
     "text": [
      "/usr/local/Cellar/jupyterlab/3.0.10/libexec/lib/python3.9/site-packages/scipy/stats/morestats.py:2967: UserWarning: Exact p-value calculation does not work if there are ties. Switching to normal approximation.\n"
     ]
    },
    {
     "data": {
      "text/plain": [
       "WilcoxonResult(statistic=40.0, pvalue=0.7000053872020358)"
      ]
     },
     "execution_count": 124,
     "metadata": {},
     "output_type": "execute_result"
    }
   ],
   "source": [
    "\n",
    "a = 0.05\n",
    "\n",
    "wilcoxon(diff_data[\"diff_totalC\"])\n"
   ]
  },
  {
   "cell_type": "code",
   "execution_count": 125,
   "metadata": {},
   "outputs": [
    {
     "name": "stdout",
     "output_type": "stream",
     "text": [
      "-0.085\n"
     ]
    },
    {
     "data": {
      "image/png": "[encoded data removed]",
      "text/plain": [
       "<Figure size 640x480 with 1 Axes>"
      ]
     },
     "metadata": {},
     "output_type": "display_data"
    },
    {
     "data": {
      "text/plain": [
       "<ggplot: (336747677)>"
      ]
     },
     "execution_count": 125,
     "metadata": {},
     "output_type": "execute_result"
    }
   ],
   "source": [
    "\n",
    "q1_C = np.round(data.totalC.quantile(0.25), 4)\n",
    "q3_C  = np.round(data.totalC.quantile(0.75), 4)\n",
    "iqr_C  = np.round(q3_C  - q1_C , 4)\n",
    "lowerC = np.round( q1_C  - (1.5 * iqr_C ),4)\n",
    "upperC =  np.round( q3_C +  (1.5 * iqr_C ),4)\n",
    "\n",
    "print(lowerC)\n",
    "removed_outliers_C = data.totalC.between(lowerC, upperC)\n",
    "data_total_C= data[removed_outliers_C]\n",
    "labelC = pd.DataFrame({\"totalC\": [np.inf],\n",
    "                      \"treatment\":[\"baseline\"],\n",
    "                      \"label\": \" pvalue=0.700 \\n The Treatments does NOT show a significant \\n difference \"})\n",
    "\n",
    "\n",
    "    # Interquartile range\n",
    "ggplot(data_total_C, aes(x='treatment', y='totalC') ) + geom_boxplot() + geom_jitter(data_total_C, aes(colour='treatment',shape='treatment')) +  ggtitle(\"Boxplot of IRAK-1C expression per  GbP\") + xlab(\"Treatment\") + ylab(\"Total IRAK-1C Levels per Gigabase pair\") + ylim(-0.025,upperC) + geom_text(aes(label=\"label\"), data=labelC, va=\"top\", ha=\"left\") \n",
    "\n",
    "\n"
   ]
  },
  {
   "cell_type": "code",
   "execution_count": null,
   "metadata": {},
   "outputs": [],
   "source": []
  },
  {
   "cell_type": "code",
   "execution_count": 126,
   "metadata": {},
   "outputs": [
    {
     "name": "stderr",
     "output_type": "stream",
     "text": [
      "/usr/local/Cellar/jupyterlab/3.0.10/libexec/lib/python3.9/site-packages/plotnine/layer.py:372: PlotnineWarning: stat_boxplot : Removed 5 rows containing non-finite values.\n",
      "/usr/local/Cellar/jupyterlab/3.0.10/libexec/lib/python3.9/site-packages/plotnine/layer.py:467: PlotnineWarning: geom_point : Removed 5 rows containing missing values.\n"
     ]
    },
    {
     "data": {
      "image/png": "[encoded data removed]",
      "text/plain": [
       "<Figure size 640x480 with 1 Axes>"
      ]
     },
     "metadata": {},
     "output_type": "display_data"
    },
    {
     "data": {
      "text/plain": [
       "<ggplot: (336805497)>"
      ]
     },
     "execution_count": 126,
     "metadata": {},
     "output_type": "execute_result"
    }
   ],
   "source": [
    "\n",
    "ggplot(diff_data, aes( x='0',y='diff_totalC') ) + geom_boxplot() + geom_point(color=\"red\")+ ggtitle(\"Boxplot of changes in IRAK-1A levels per Gbp\") + xlab(\"Treatment\") + ylab(\"Changes in  IRAK-1A Levels per Gigabase pair\") +ylim(lowerC,upperC)\n"
   ]
  },
  {
   "cell_type": "code",
   "execution_count": 127,
   "metadata": {},
   "outputs": [
    {
     "name": "stdout",
     "output_type": "stream",
     "text": [
      "coefficient of determination: 0.0016221864889784943\n",
      "intercept: 0.07292766321188163\n",
      "slope: [-0.12805855]\n"
     ]
    }
   ],
   "source": [
    "\n",
    "\n",
    "from sklearn.linear_model import LinearRegression\n",
    "model = LinearRegression().fit(data_plot.ctrl_totalC.to_numpy().reshape((-1, 1)), data_plot.totalC)\n",
    "r_sq= model.score(data_plot.totalC.to_numpy().reshape((-1, 1)), data_plot.ctrl_totalC)\n",
    "print('coefficient of determination:', r_sq)\n",
    "print('intercept:', model.intercept_)\n",
    "print('slope:', model.coef_)"
   ]
  },
  {
   "cell_type": "code",
   "execution_count": 128,
   "metadata": {},
   "outputs": [
    {
     "data": {
      "image/png": "[encoded data removed]",
      "text/plain": [
       "<Figure size 640x480 with 1 Axes>"
      ]
     },
     "metadata": {},
     "output_type": "display_data"
    },
    {
     "data": {
      "text/plain": [
       "<ggplot: (336882155)>"
      ]
     },
     "execution_count": 128,
     "metadata": {},
     "output_type": "execute_result"
    }
   ],
   "source": [
    "\n",
    "labelD = pd.DataFrame({\"totalC\": [np.inf],\n",
    "                      \"ctrl_totalC\":[0],\n",
    "                      \"label\": str(\"Intercept:\"+ str(np.round(model.intercept_,4)) + \" | Slope: \"+ str(np.round(model.coef_,4)) +\" \\n R.Sq = \" + str(np.round(r_sq,4))\n",
    "                                  )})\n",
    "\n",
    "ggplot(data_plot,aes(x='ctrl_totalC',y='totalC') )  + geom_point() + geom_smooth(method='lm') + geom_text(aes(label=\"label\"), data=labelD, va=\"top\", ha=\"left\") + ggtitle(\"Linear Regression of IRAK-1C mrNA expression levels \\n before and after LPS treatment\") + xlab(\"Total IRAK-1C mRNA Levels per Gbp \\n before LPS Treatment\") + ylab(\"Total IRAK-1C mRNA Levels per Gbp \\n after LPS treatment \") "
   ]
  },
  {
   "cell_type": "code",
   "execution_count": 129,
   "metadata": {},
   "outputs": [
    {
     "data": {
      "text/html": [
       "<div>\n",
       "<style scoped>\n",
       "    .dataframe tbody tr th:only-of-type {\n",
       "        vertical-align: middle;\n",
       "    }\n",
       "\n",
       "    .dataframe tbody tr th {\n",
       "        vertical-align: top;\n",
       "    }\n",
       "\n",
       "    .dataframe thead th {\n",
       "        text-align: right;\n",
       "    }\n",
       "</style>\n",
       "<table border=\"1\" class=\"dataframe\">\n",
       "  <thead>\n",
       "    <tr style=\"text-align: right;\">\n",
       "      <th></th>\n",
       "      <th>diff_AVAR2</th>\n",
       "      <th>diff_CVAR2</th>\n",
       "      <th>diff_AWT2</th>\n",
       "      <th>diff_CWT2</th>\n",
       "      <th>diff_total2</th>\n",
       "      <th>diff_totalA</th>\n",
       "      <th>diff_totalC</th>\n",
       "      <th>diff_totalWT</th>\n",
       "      <th>diff_totalVar</th>\n",
       "    </tr>\n",
       "  </thead>\n",
       "  <tbody>\n",
       "    <tr>\n",
       "      <th>15</th>\n",
       "      <td>-7.70</td>\n",
       "      <td>-0.52</td>\n",
       "      <td>0.00</td>\n",
       "      <td>0.00</td>\n",
       "      <td>-8.22</td>\n",
       "      <td>-7.70</td>\n",
       "      <td>-0.52</td>\n",
       "      <td>0.00</td>\n",
       "      <td>-8.22</td>\n",
       "    </tr>\n",
       "    <tr>\n",
       "      <th>16</th>\n",
       "      <td>0.83</td>\n",
       "      <td>-0.09</td>\n",
       "      <td>0.00</td>\n",
       "      <td>0.00</td>\n",
       "      <td>0.74</td>\n",
       "      <td>0.83</td>\n",
       "      <td>-0.09</td>\n",
       "      <td>0.00</td>\n",
       "      <td>0.74</td>\n",
       "    </tr>\n",
       "    <tr>\n",
       "      <th>17</th>\n",
       "      <td>0.00</td>\n",
       "      <td>0.00</td>\n",
       "      <td>-2.97</td>\n",
       "      <td>0.30</td>\n",
       "      <td>-2.67</td>\n",
       "      <td>-2.97</td>\n",
       "      <td>0.30</td>\n",
       "      <td>-2.67</td>\n",
       "      <td>0.00</td>\n",
       "    </tr>\n",
       "    <tr>\n",
       "      <th>18</th>\n",
       "      <td>0.41</td>\n",
       "      <td>0.07</td>\n",
       "      <td>0.00</td>\n",
       "      <td>0.00</td>\n",
       "      <td>0.48</td>\n",
       "      <td>0.41</td>\n",
       "      <td>0.07</td>\n",
       "      <td>0.00</td>\n",
       "      <td>0.48</td>\n",
       "    </tr>\n",
       "    <tr>\n",
       "      <th>19</th>\n",
       "      <td>0.00</td>\n",
       "      <td>0.00</td>\n",
       "      <td>-1.83</td>\n",
       "      <td>0.09</td>\n",
       "      <td>-1.74</td>\n",
       "      <td>-1.83</td>\n",
       "      <td>0.09</td>\n",
       "      <td>-1.74</td>\n",
       "      <td>0.00</td>\n",
       "    </tr>\n",
       "    <tr>\n",
       "      <th>20</th>\n",
       "      <td>-0.65</td>\n",
       "      <td>-0.02</td>\n",
       "      <td>-0.93</td>\n",
       "      <td>0.02</td>\n",
       "      <td>-1.58</td>\n",
       "      <td>-1.58</td>\n",
       "      <td>0.00</td>\n",
       "      <td>-0.91</td>\n",
       "      <td>-0.67</td>\n",
       "    </tr>\n",
       "    <tr>\n",
       "      <th>21</th>\n",
       "      <td>-2.74</td>\n",
       "      <td>-0.11</td>\n",
       "      <td>0.00</td>\n",
       "      <td>0.00</td>\n",
       "      <td>-2.85</td>\n",
       "      <td>-2.74</td>\n",
       "      <td>-0.11</td>\n",
       "      <td>0.00</td>\n",
       "      <td>-2.85</td>\n",
       "    </tr>\n",
       "    <tr>\n",
       "      <th>22</th>\n",
       "      <td>-0.54</td>\n",
       "      <td>0.11</td>\n",
       "      <td>-0.82</td>\n",
       "      <td>-0.02</td>\n",
       "      <td>-1.27</td>\n",
       "      <td>-1.36</td>\n",
       "      <td>0.09</td>\n",
       "      <td>-0.84</td>\n",
       "      <td>-0.43</td>\n",
       "    </tr>\n",
       "    <tr>\n",
       "      <th>23</th>\n",
       "      <td>0.00</td>\n",
       "      <td>0.00</td>\n",
       "      <td>0.08</td>\n",
       "      <td>-0.07</td>\n",
       "      <td>0.01</td>\n",
       "      <td>0.08</td>\n",
       "      <td>-0.07</td>\n",
       "      <td>0.01</td>\n",
       "      <td>0.00</td>\n",
       "    </tr>\n",
       "    <tr>\n",
       "      <th>24</th>\n",
       "      <td>0.00</td>\n",
       "      <td>-0.11</td>\n",
       "      <td>-0.62</td>\n",
       "      <td>0.02</td>\n",
       "      <td>-0.71</td>\n",
       "      <td>-0.62</td>\n",
       "      <td>-0.09</td>\n",
       "      <td>-0.60</td>\n",
       "      <td>-0.11</td>\n",
       "    </tr>\n",
       "    <tr>\n",
       "      <th>25</th>\n",
       "      <td>0.00</td>\n",
       "      <td>0.00</td>\n",
       "      <td>-0.80</td>\n",
       "      <td>0.02</td>\n",
       "      <td>-0.78</td>\n",
       "      <td>-0.80</td>\n",
       "      <td>0.02</td>\n",
       "      <td>-0.78</td>\n",
       "      <td>0.00</td>\n",
       "    </tr>\n",
       "    <tr>\n",
       "      <th>26</th>\n",
       "      <td>0.00</td>\n",
       "      <td>0.00</td>\n",
       "      <td>-0.30</td>\n",
       "      <td>0.00</td>\n",
       "      <td>-0.30</td>\n",
       "      <td>-0.30</td>\n",
       "      <td>0.00</td>\n",
       "      <td>-0.30</td>\n",
       "      <td>0.00</td>\n",
       "    </tr>\n",
       "    <tr>\n",
       "      <th>27</th>\n",
       "      <td>0.00</td>\n",
       "      <td>0.00</td>\n",
       "      <td>-0.86</td>\n",
       "      <td>-0.04</td>\n",
       "      <td>-0.90</td>\n",
       "      <td>-0.86</td>\n",
       "      <td>-0.04</td>\n",
       "      <td>-0.90</td>\n",
       "      <td>0.00</td>\n",
       "    </tr>\n",
       "    <tr>\n",
       "      <th>28</th>\n",
       "      <td>0.00</td>\n",
       "      <td>0.00</td>\n",
       "      <td>-0.41</td>\n",
       "      <td>-0.02</td>\n",
       "      <td>-0.43</td>\n",
       "      <td>-0.41</td>\n",
       "      <td>-0.02</td>\n",
       "      <td>-0.43</td>\n",
       "      <td>0.00</td>\n",
       "    </tr>\n",
       "    <tr>\n",
       "      <th>29</th>\n",
       "      <td>-0.04</td>\n",
       "      <td>0.02</td>\n",
       "      <td>0.00</td>\n",
       "      <td>0.00</td>\n",
       "      <td>-0.02</td>\n",
       "      <td>-0.04</td>\n",
       "      <td>0.02</td>\n",
       "      <td>0.00</td>\n",
       "      <td>-0.02</td>\n",
       "    </tr>\n",
       "  </tbody>\n",
       "</table>\n",
       "</div>"
      ],
      "text/plain": [
       "    diff_AVAR2  diff_CVAR2  diff_AWT2  diff_CWT2  diff_total2  diff_totalA  \\\n",
       "15       -7.70       -0.52       0.00       0.00        -8.22        -7.70   \n",
       "16        0.83       -0.09       0.00       0.00         0.74         0.83   \n",
       "17        0.00        0.00      -2.97       0.30        -2.67        -2.97   \n",
       "18        0.41        0.07       0.00       0.00         0.48         0.41   \n",
       "19        0.00        0.00      -1.83       0.09        -1.74        -1.83   \n",
       "20       -0.65       -0.02      -0.93       0.02        -1.58        -1.58   \n",
       "21       -2.74       -0.11       0.00       0.00        -2.85        -2.74   \n",
       "22       -0.54        0.11      -0.82      -0.02        -1.27        -1.36   \n",
       "23        0.00        0.00       0.08      -0.07         0.01         0.08   \n",
       "24        0.00       -0.11      -0.62       0.02        -0.71        -0.62   \n",
       "25        0.00        0.00      -0.80       0.02        -0.78        -0.80   \n",
       "26        0.00        0.00      -0.30       0.00        -0.30        -0.30   \n",
       "27        0.00        0.00      -0.86      -0.04        -0.90        -0.86   \n",
       "28        0.00        0.00      -0.41      -0.02        -0.43        -0.41   \n",
       "29       -0.04        0.02       0.00       0.00        -0.02        -0.04   \n",
       "\n",
       "    diff_totalC  diff_totalWT  diff_totalVar  \n",
       "15        -0.52          0.00          -8.22  \n",
       "16        -0.09          0.00           0.74  \n",
       "17         0.30         -2.67           0.00  \n",
       "18         0.07          0.00           0.48  \n",
       "19         0.09         -1.74           0.00  \n",
       "20         0.00         -0.91          -0.67  \n",
       "21        -0.11          0.00          -2.85  \n",
       "22         0.09         -0.84          -0.43  \n",
       "23        -0.07          0.01           0.00  \n",
       "24        -0.09         -0.60          -0.11  \n",
       "25         0.02         -0.78           0.00  \n",
       "26         0.00         -0.30           0.00  \n",
       "27        -0.04         -0.90           0.00  \n",
       "28        -0.02         -0.43           0.00  \n",
       "29         0.02          0.00          -0.02  "
      ]
     },
     "execution_count": 129,
     "metadata": {},
     "output_type": "execute_result"
    }
   ],
   "source": [
    "diff_data"
   ]
  },
  {
   "cell_type": "markdown",
   "metadata": {},
   "source": [
    "## Statistics"
   ]
  },
  {
   "cell_type": "markdown",
   "metadata": {},
   "source": [
    "### Total 2 Comparison"
   ]
  },
  {
   "cell_type": "code",
   "execution_count": 130,
   "metadata": {},
   "outputs": [
    {
     "name": "stdout",
     "output_type": "stream",
     "text": [
      "coefficient of determination: 0.04270400002425967\n",
      "intercept: 0.10600862548692266\n",
      "slope: [-0.33347245]\n"
     ]
    }
   ],
   "source": [
    "\n",
    "\n",
    "from sklearn.linear_model import LinearRegression\n",
    "model = LinearRegression().fit(data_plot.totalC.to_numpy().reshape((-1, 1)), data_plot.ctrl_totalC)\n",
    "r_sq= model.score(data_plot.totalC.to_numpy().reshape((-1, 1)), data_plot.ctrl_totalC)\n",
    "print('coefficient of determination:', r_sq)\n",
    "print('intercept:', model.intercept_)\n",
    "print('slope:', model.coef_)"
   ]
  },
  {
   "cell_type": "markdown",
   "metadata": {},
   "source": [
    "#### Wilcoxon non-parametric"
   ]
  },
  {
   "cell_type": "code",
   "execution_count": 131,
   "metadata": {},
   "outputs": [
    {
     "name": "stdout",
     "output_type": "stream",
     "text": [
      "13.0 0.00537109375\n"
     ]
    }
   ],
   "source": [
    "a = 0.05\n",
    "\n",
    "w, p = wilcoxon(data_control[\"total2\"],data_treatment[\"total2\"])\n",
    "print(w, p)"
   ]
  },
  {
   "cell_type": "code",
   "execution_count": 132,
   "metadata": {},
   "outputs": [
    {
     "name": "stdout",
     "output_type": "stream",
     "text": [
      "As P0.00537109375 is less than a: 0.05\n",
      "we reject the Null Hypothesis.\n",
      ". There is significant difference betwween the groups\n"
     ]
    }
   ],
   "source": [
    "if (p < a):\n",
    "    print(\"As P\"+str(p)+\" is less than a: \"+str(a))\n",
    "    print( \"we reject the Null Hypothesis.\")\n",
    "    print(\". There is significant difference betwween the groups\")\n",
    "else: \n",
    "    print(\"As P\"+p+\" is larger than a: \"+str(a))\n",
    "    print( \"we FAIL TO reject the Null Hypothesis.\")\n",
    "    print(\". There is NOT a significant difference betwween the groups\")"
   ]
  },
  {
   "cell_type": "code",
   "execution_count": 133,
   "metadata": {},
   "outputs": [],
   "source": [
    "## Kruskal-Wallis"
   ]
  },
  {
   "cell_type": "code",
   "execution_count": 134,
   "metadata": {
    "scrolled": true
   },
   "outputs": [
    {
     "name": "stderr",
     "output_type": "stream",
     "text": [
      "<ipython-input-134-9983cc4887a4>:1: SettingWithCopyWarning: \n",
      "A value is trying to be set on a copy of a slice from a DataFrame.\n",
      "Try using .loc[row_indexer,col_indexer] = value instead\n",
      "\n",
      "See the caveats in the documentation: https://pandas.pydata.org/pandas-docs/stable/user_guide/indexing.html#returning-a-view-versus-a-copy\n"
     ]
    },
    {
     "data": {
      "text/html": [
       "<div>\n",
       "<style scoped>\n",
       "    .dataframe tbody tr th:only-of-type {\n",
       "        vertical-align: middle;\n",
       "    }\n",
       "\n",
       "    .dataframe tbody tr th {\n",
       "        vertical-align: top;\n",
       "    }\n",
       "\n",
       "    .dataframe thead th {\n",
       "        text-align: right;\n",
       "    }\n",
       "</style>\n",
       "<table border=\"1\" class=\"dataframe\">\n",
       "  <thead>\n",
       "    <tr style=\"text-align: right;\">\n",
       "      <th></th>\n",
       "      <th>Source</th>\n",
       "      <th>ddof1</th>\n",
       "      <th>H</th>\n",
       "      <th>p-unc</th>\n",
       "    </tr>\n",
       "  </thead>\n",
       "  <tbody>\n",
       "    <tr>\n",
       "      <th>Kruskal</th>\n",
       "      <td>finalGroup</td>\n",
       "      <td>4</td>\n",
       "      <td>0.875</td>\n",
       "      <td>0.92812</td>\n",
       "    </tr>\n",
       "  </tbody>\n",
       "</table>\n",
       "</div>"
      ],
      "text/plain": [
       "             Source  ddof1      H    p-unc\n",
       "Kruskal  finalGroup      4  0.875  0.92812"
      ]
     },
     "execution_count": 134,
     "metadata": {},
     "output_type": "execute_result"
    }
   ],
   "source": [
    "data_plot[\"finalGroup\"] = data_treatment[\"finalGroup\"].tolist()\n",
    "diff_data[\"finalGroup\"] = data_treatment[\"finalGroup\"].tolist()\n",
    "diff_data[\"Run\"] = data_treatment[\"Run\"].tolist()\n",
    "diff_data[\"total2\"] = data_treatment[\"total2\"].tolist()\n",
    "diff_data[\"spliceVariant\"] = data_treatment[\"spliceVariant\"].tolist()\n",
    "diff_data[\"sv\"] = data_treatment[\"sv\"].tolist()\n",
    "\n",
    "from pingouin import kruskal, read_dataset\n",
    "kruskal(data=diff_data, dv='diff_total2', between=\"finalGroup\")\n"
   ]
  },
  {
   "cell_type": "code",
   "execution_count": 135,
   "metadata": {},
   "outputs": [
    {
     "name": "stdout",
     "output_type": "stream",
     "text": [
      "KruskalResult(statistic=0.875, pvalue=0.9281197567400948)\n"
     ]
    }
   ],
   "source": [
    "KData = [diff_data.loc[Runs,'diff_total2'].values for Runs in diff_data.groupby('finalGroup').groups.values()]\n",
    "print(scipy.stats.kruskal(*KData))\n"
   ]
  },
  {
   "cell_type": "code",
   "execution_count": 136,
   "metadata": {},
   "outputs": [
    {
     "data": {
      "text/html": [
       "<div>\n",
       "<style scoped>\n",
       "    .dataframe tbody tr th:only-of-type {\n",
       "        vertical-align: middle;\n",
       "    }\n",
       "\n",
       "    .dataframe tbody tr th {\n",
       "        vertical-align: top;\n",
       "    }\n",
       "\n",
       "    .dataframe thead th {\n",
       "        text-align: right;\n",
       "    }\n",
       "</style>\n",
       "<table border=\"1\" class=\"dataframe\">\n",
       "  <thead>\n",
       "    <tr style=\"text-align: right;\">\n",
       "      <th></th>\n",
       "      <th>HET</th>\n",
       "      <th>VV</th>\n",
       "      <th>VY</th>\n",
       "      <th>WW</th>\n",
       "      <th>WY</th>\n",
       "    </tr>\n",
       "  </thead>\n",
       "  <tbody>\n",
       "    <tr>\n",
       "      <th>HET</th>\n",
       "      <td>1.000000</td>\n",
       "      <td>1.000000</td>\n",
       "      <td>1.000000</td>\n",
       "      <td>0.518605</td>\n",
       "      <td>0.738883</td>\n",
       "    </tr>\n",
       "    <tr>\n",
       "      <th>VV</th>\n",
       "      <td>1.000000</td>\n",
       "      <td>1.000000</td>\n",
       "      <td>1.000000</td>\n",
       "      <td>0.576150</td>\n",
       "      <td>0.789268</td>\n",
       "    </tr>\n",
       "    <tr>\n",
       "      <th>VY</th>\n",
       "      <td>1.000000</td>\n",
       "      <td>1.000000</td>\n",
       "      <td>1.000000</td>\n",
       "      <td>0.576150</td>\n",
       "      <td>0.789268</td>\n",
       "    </tr>\n",
       "    <tr>\n",
       "      <th>WW</th>\n",
       "      <td>0.518605</td>\n",
       "      <td>0.576150</td>\n",
       "      <td>0.576150</td>\n",
       "      <td>1.000000</td>\n",
       "      <td>0.349575</td>\n",
       "    </tr>\n",
       "    <tr>\n",
       "      <th>WY</th>\n",
       "      <td>0.738883</td>\n",
       "      <td>0.789268</td>\n",
       "      <td>0.789268</td>\n",
       "      <td>0.349575</td>\n",
       "      <td>1.000000</td>\n",
       "    </tr>\n",
       "  </tbody>\n",
       "</table>\n",
       "</div>"
      ],
      "text/plain": [
       "          HET        VV        VY        WW        WY\n",
       "HET  1.000000  1.000000  1.000000  0.518605  0.738883\n",
       "VV   1.000000  1.000000  1.000000  0.576150  0.789268\n",
       "VY   1.000000  1.000000  1.000000  0.576150  0.789268\n",
       "WW   0.518605  0.576150  0.576150  1.000000  0.349575\n",
       "WY   0.738883  0.789268  0.789268  0.349575  1.000000"
      ]
     },
     "execution_count": 136,
     "metadata": {},
     "output_type": "execute_result"
    }
   ],
   "source": [
    " sp.posthoc_dunn(diff_data,val_col='diff_total2', group_col='finalGroup')"
   ]
  },
  {
   "cell_type": "markdown",
   "metadata": {},
   "source": [
    "##### Conover analysis of Variance in distributions"
   ]
  },
  {
   "cell_type": "code",
   "execution_count": 137,
   "metadata": {},
   "outputs": [
    {
     "data": {
      "text/html": [
       "<div>\n",
       "<style scoped>\n",
       "    .dataframe tbody tr th:only-of-type {\n",
       "        vertical-align: middle;\n",
       "    }\n",
       "\n",
       "    .dataframe tbody tr th {\n",
       "        vertical-align: top;\n",
       "    }\n",
       "\n",
       "    .dataframe thead th {\n",
       "        text-align: right;\n",
       "    }\n",
       "</style>\n",
       "<table border=\"1\" class=\"dataframe\">\n",
       "  <thead>\n",
       "    <tr style=\"text-align: right;\">\n",
       "      <th></th>\n",
       "      <th>HET</th>\n",
       "      <th>VV</th>\n",
       "      <th>VY</th>\n",
       "      <th>WW</th>\n",
       "      <th>WY</th>\n",
       "    </tr>\n",
       "  </thead>\n",
       "  <tbody>\n",
       "    <tr>\n",
       "      <th>HET</th>\n",
       "      <td>1.000000</td>\n",
       "      <td>1.000000</td>\n",
       "      <td>1.000000</td>\n",
       "      <td>0.585550</td>\n",
       "      <td>0.777029</td>\n",
       "    </tr>\n",
       "    <tr>\n",
       "      <th>VV</th>\n",
       "      <td>1.000000</td>\n",
       "      <td>1.000000</td>\n",
       "      <td>1.000000</td>\n",
       "      <td>0.636107</td>\n",
       "      <td>0.820246</td>\n",
       "    </tr>\n",
       "    <tr>\n",
       "      <th>VY</th>\n",
       "      <td>1.000000</td>\n",
       "      <td>1.000000</td>\n",
       "      <td>1.000000</td>\n",
       "      <td>0.636107</td>\n",
       "      <td>0.820246</td>\n",
       "    </tr>\n",
       "    <tr>\n",
       "      <th>WW</th>\n",
       "      <td>0.585550</td>\n",
       "      <td>0.636107</td>\n",
       "      <td>0.636107</td>\n",
       "      <td>1.000000</td>\n",
       "      <td>0.433236</td>\n",
       "    </tr>\n",
       "    <tr>\n",
       "      <th>WY</th>\n",
       "      <td>0.777029</td>\n",
       "      <td>0.820246</td>\n",
       "      <td>0.820246</td>\n",
       "      <td>0.433236</td>\n",
       "      <td>1.000000</td>\n",
       "    </tr>\n",
       "  </tbody>\n",
       "</table>\n",
       "</div>"
      ],
      "text/plain": [
       "          HET        VV        VY        WW        WY\n",
       "HET  1.000000  1.000000  1.000000  0.585550  0.777029\n",
       "VV   1.000000  1.000000  1.000000  0.636107  0.820246\n",
       "VY   1.000000  1.000000  1.000000  0.636107  0.820246\n",
       "WW   0.585550  0.636107  0.636107  1.000000  0.433236\n",
       "WY   0.777029  0.820246  0.820246  0.433236  1.000000"
      ]
     },
     "execution_count": 137,
     "metadata": {},
     "output_type": "execute_result"
    }
   ],
   "source": [
    "sp.posthoc_conover(diff_data, val_col='diff_total2', group_col='finalGroup')"
   ]
  },
  {
   "cell_type": "code",
   "execution_count": null,
   "metadata": {},
   "outputs": [],
   "source": []
  },
  {
   "cell_type": "markdown",
   "metadata": {},
   "source": [
    "#### Freidman's Anova"
   ]
  },
  {
   "cell_type": "code",
   "execution_count": 165,
   "metadata": {},
   "outputs": [
    {
     "ename": "ValueError",
     "evalue": "Need at least two groups in stats.kruskal()",
     "output_type": "error",
     "traceback": [
      "\u001b[0;31m---------------------------------------------------------------------------\u001b[0m",
      "\u001b[0;31mValueError\u001b[0m                                Traceback (most recent call last)",
      "\u001b[0;32m<ipython-input-165-d1272ecad42a>\u001b[0m in \u001b[0;36m<module>\u001b[0;34m\u001b[0m\n\u001b[1;32m      1\u001b[0m \u001b[0mKData\u001b[0m \u001b[0;34m=\u001b[0m \u001b[0;34m[\u001b[0m\u001b[0mdiff_data\u001b[0m\u001b[0;34m.\u001b[0m\u001b[0mloc\u001b[0m\u001b[0;34m[\u001b[0m\u001b[0mRuns\u001b[0m\u001b[0;34m,\u001b[0m\u001b[0;34m'diff_total2'\u001b[0m\u001b[0;34m]\u001b[0m\u001b[0;34m.\u001b[0m\u001b[0mvalues\u001b[0m \u001b[0;32mfor\u001b[0m \u001b[0mRuns\u001b[0m \u001b[0;32min\u001b[0m \u001b[0mdiff_data\u001b[0m\u001b[0;34m.\u001b[0m\u001b[0mgroupby\u001b[0m\u001b[0;34m(\u001b[0m\u001b[0;34m'spliceVariant'\u001b[0m\u001b[0;34m)\u001b[0m\u001b[0;34m.\u001b[0m\u001b[0mgroups\u001b[0m\u001b[0;34m.\u001b[0m\u001b[0mvalues\u001b[0m\u001b[0;34m(\u001b[0m\u001b[0;34m)\u001b[0m\u001b[0;34m]\u001b[0m\u001b[0;34m\u001b[0m\u001b[0;34m\u001b[0m\u001b[0m\n\u001b[0;32m----> 2\u001b[0;31m \u001b[0mprint\u001b[0m\u001b[0;34m(\u001b[0m\u001b[0mscipy\u001b[0m\u001b[0;34m.\u001b[0m\u001b[0mstats\u001b[0m\u001b[0;34m.\u001b[0m\u001b[0mkruskal\u001b[0m\u001b[0;34m(\u001b[0m\u001b[0;34m*\u001b[0m\u001b[0mKData\u001b[0m\u001b[0;34m)\u001b[0m\u001b[0;34m)\u001b[0m\u001b[0;34m\u001b[0m\u001b[0;34m\u001b[0m\u001b[0m\n\u001b[0m",
      "\u001b[0;32m/usr/local/Cellar/jupyterlab/3.0.10/libexec/lib/python3.9/site-packages/scipy/stats/stats.py\u001b[0m in \u001b[0;36mkruskal\u001b[0;34m(nan_policy, *args)\u001b[0m\n\u001b[1;32m   7323\u001b[0m     \u001b[0mnum_groups\u001b[0m \u001b[0;34m=\u001b[0m \u001b[0mlen\u001b[0m\u001b[0;34m(\u001b[0m\u001b[0margs\u001b[0m\u001b[0;34m)\u001b[0m\u001b[0;34m\u001b[0m\u001b[0;34m\u001b[0m\u001b[0m\n\u001b[1;32m   7324\u001b[0m     \u001b[0;32mif\u001b[0m \u001b[0mnum_groups\u001b[0m \u001b[0;34m<\u001b[0m \u001b[0;36m2\u001b[0m\u001b[0;34m:\u001b[0m\u001b[0;34m\u001b[0m\u001b[0;34m\u001b[0m\u001b[0m\n\u001b[0;32m-> 7325\u001b[0;31m         \u001b[0;32mraise\u001b[0m \u001b[0mValueError\u001b[0m\u001b[0;34m(\u001b[0m\u001b[0;34m\"Need at least two groups in stats.kruskal()\"\u001b[0m\u001b[0;34m)\u001b[0m\u001b[0;34m\u001b[0m\u001b[0;34m\u001b[0m\u001b[0m\n\u001b[0m\u001b[1;32m   7326\u001b[0m \u001b[0;34m\u001b[0m\u001b[0m\n\u001b[1;32m   7327\u001b[0m     \u001b[0;32mfor\u001b[0m \u001b[0marg\u001b[0m \u001b[0;32min\u001b[0m \u001b[0margs\u001b[0m\u001b[0;34m:\u001b[0m\u001b[0;34m\u001b[0m\u001b[0;34m\u001b[0m\u001b[0m\n",
      "\u001b[0;31mValueError\u001b[0m: Need at least two groups in stats.kruskal()"
     ]
    }
   ],
   "source": [
    "KData = [diff_data.loc[Runs,'diff_total2'].values for Runs in diff_data.groupby('spliceVariant').groups.values()]\n",
    "print(scipy.stats.kruskal(*KData))\n"
   ]
  },
  {
   "cell_type": "code",
   "execution_count": 139,
   "metadata": {},
   "outputs": [
    {
     "data": {
      "text/plain": [
       "MannwhitneyuResult(statistic=80.0, pvalue=0.09220503461081825)"
      ]
     },
     "execution_count": 139,
     "metadata": {},
     "output_type": "execute_result"
    }
   ],
   "source": [
    "KData = [data.loc[Runs,'total2'].values for Runs in data.groupby('treatment').groups.values()]\n",
    "\n",
    "scipy.stats.mannwhitneyu(*KData)"
   ]
  },
  {
   "cell_type": "code",
   "execution_count": 123,
   "metadata": {},
   "outputs": [
    {
     "data": {
      "image/png": "[encoded data removed]",
      "text/plain": [
       "<Figure size 640x480 with 1 Axes>"
      ]
     },
     "metadata": {},
     "output_type": "display_data"
    },
    {
     "data": {
      "text/plain": [
       "<ggplot: (336617891)>"
      ]
     },
     "execution_count": 123,
     "metadata": {},
     "output_type": "execute_result"
    }
   ],
   "source": [
    "\n",
    "ggplot(data_plot,aes(x='totalA',y='ctrl_totalA') )  + geom_point() + geom_smooth(method='lm')\n"
   ]
  },
  {
   "cell_type": "code",
   "execution_count": 140,
   "metadata": {},
   "outputs": [
    {
     "data": {
      "text/plain": [
       "KruskalResult(statistic=4.8542626728110605, pvalue=0.0275778985437153)"
      ]
     },
     "execution_count": 140,
     "metadata": {},
     "output_type": "execute_result"
    }
   ],
   "source": [
    "KData = [data.loc[Runs,'total2'].values for Runs in data.groupby('InfLevels').groups.values()]\n",
    "\n",
    "scipy.stats.kruskal(*KData)\n"
   ]
  },
  {
   "cell_type": "code",
   "execution_count": 141,
   "metadata": {},
   "outputs": [
    {
     "name": "stdout",
     "output_type": "stream",
     "text": [
      "KruskalResult(statistic=13.953548387096774, pvalue=0.007444795359391216)\n"
     ]
    }
   ],
   "source": [
    "KData = [data.loc[Runs,'total2'].values for Runs in data.groupby('finalGroup').groups.values()]\n",
    "\n",
    "print(scipy.stats.kruskal(*KData))"
   ]
  },
  {
   "cell_type": "code",
   "execution_count": 142,
   "metadata": {
    "scrolled": true
   },
   "outputs": [],
   "source": [
    "data_AC=  data[data[\"sv\"] == \"AC\"] \n",
    "data_AA = data[data[\"sv\"] == \"AA\"] \n",
    "\n",
    "diff_data_AC=  diff_data[diff_data[\"finalGroup\"] == \"WW\"] +  diff_data[diff_data[\"finalGroup\"] == \"VV\"] +  diff_data[diff_data[\"finalGroup\"] == \"HET\"]\n",
    "diff_data_AA = diff_data[diff_data[\"finalGroup\"] == \"WY\"] +  diff_data[diff_data[\"finalGroup\"] == \"VY\"] "
   ]
  },
  {
   "cell_type": "code",
   "execution_count": 143,
   "metadata": {},
   "outputs": [
    {
     "name": "stdout",
     "output_type": "stream",
     "text": [
      "          HET        VV        VY        WW        WY\n",
      "HET  1.000000  0.005395  0.051450  0.852840  0.848072\n",
      "VV   0.005395  1.000000  0.469743  0.010161  0.002416\n",
      "VY   0.051450  0.469743  1.000000  0.064689  0.030032\n",
      "WW   0.852840  0.010161  0.064689  1.000000  0.969368\n",
      "WY   0.848072  0.002416  0.030032  0.969368  1.000000\n"
     ]
    },
    {
     "data": {
      "text/plain": [
       "(<AxesSubplot:>, <matplotlib.colorbar.ColorbarBase at 0x14121c370>)"
      ]
     },
     "execution_count": 143,
     "metadata": {},
     "output_type": "execute_result"
    },
    {
     "data": {
      "image/png": "[encoded data removed]",
      "text/plain": [
       "<Figure size 432x288 with 2 Axes>"
      ]
     },
     "metadata": {
      "needs_background": "light"
     },
     "output_type": "display_data"
    }
   ],
   "source": [
    "dunn = sp.posthoc_dunn(data,val_col='total2', group_col='finalGroup')\n",
    "\n",
    "heatmap_args = {'linewidths': 0.25, 'linecolor': '0.5', 'clip_on': False, 'square': True, 'cbar_ax_bbox': [0.80, 0.35, 0.04, 0.3]}\n",
    "\n",
    "print(dunn)\n",
    "sp.sign_plot(dunn, **heatmap_args)\n"
   ]
  },
  {
   "cell_type": "code",
   "execution_count": 144,
   "metadata": {},
   "outputs": [
    {
     "data": {
      "text/html": [
       "<div>\n",
       "<style scoped>\n",
       "    .dataframe tbody tr th:only-of-type {\n",
       "        vertical-align: middle;\n",
       "    }\n",
       "\n",
       "    .dataframe tbody tr th {\n",
       "        vertical-align: top;\n",
       "    }\n",
       "\n",
       "    .dataframe thead th {\n",
       "        text-align: right;\n",
       "    }\n",
       "</style>\n",
       "<table border=\"1\" class=\"dataframe\">\n",
       "  <thead>\n",
       "    <tr style=\"text-align: right;\">\n",
       "      <th></th>\n",
       "      <th>HET</th>\n",
       "      <th>VV</th>\n",
       "      <th>VY</th>\n",
       "      <th>WW</th>\n",
       "      <th>WY</th>\n",
       "    </tr>\n",
       "  </thead>\n",
       "  <tbody>\n",
       "    <tr>\n",
       "      <th>HET</th>\n",
       "      <td>1.000000</td>\n",
       "      <td>0.012781</td>\n",
       "      <td>0.113330</td>\n",
       "      <td>1.000000</td>\n",
       "      <td>1.000000</td>\n",
       "    </tr>\n",
       "    <tr>\n",
       "      <th>VV</th>\n",
       "      <td>0.012781</td>\n",
       "      <td>1.000000</td>\n",
       "      <td>1.000000</td>\n",
       "      <td>0.022500</td>\n",
       "      <td>0.006234</td>\n",
       "    </tr>\n",
       "    <tr>\n",
       "      <th>VY</th>\n",
       "      <td>0.113330</td>\n",
       "      <td>1.000000</td>\n",
       "      <td>1.000000</td>\n",
       "      <td>0.125912</td>\n",
       "      <td>0.068496</td>\n",
       "    </tr>\n",
       "    <tr>\n",
       "      <th>WW</th>\n",
       "      <td>1.000000</td>\n",
       "      <td>0.022500</td>\n",
       "      <td>0.125912</td>\n",
       "      <td>1.000000</td>\n",
       "      <td>1.000000</td>\n",
       "    </tr>\n",
       "    <tr>\n",
       "      <th>WY</th>\n",
       "      <td>1.000000</td>\n",
       "      <td>0.006234</td>\n",
       "      <td>0.068496</td>\n",
       "      <td>1.000000</td>\n",
       "      <td>1.000000</td>\n",
       "    </tr>\n",
       "  </tbody>\n",
       "</table>\n",
       "</div>"
      ],
      "text/plain": [
       "          HET        VV        VY        WW        WY\n",
       "HET  1.000000  0.012781  0.113330  1.000000  1.000000\n",
       "VV   0.012781  1.000000  1.000000  0.022500  0.006234\n",
       "VY   0.113330  1.000000  1.000000  0.125912  0.068496\n",
       "WW   1.000000  0.022500  0.125912  1.000000  1.000000\n",
       "WY   1.000000  0.006234  0.068496  1.000000  1.000000"
      ]
     },
     "execution_count": 144,
     "metadata": {},
     "output_type": "execute_result"
    }
   ],
   "source": [
    " sp.posthoc_conover(data,val_col='total2', group_col='finalGroup',p_adjust=\"holm\")"
   ]
  },
  {
   "cell_type": "code",
   "execution_count": 145,
   "metadata": {},
   "outputs": [
    {
     "name": "stdout",
     "output_type": "stream",
     "text": [
      "          VY        WY\n",
      "VY  1.000000  0.023652\n",
      "WY  0.023652  1.000000\n"
     ]
    },
    {
     "data": {
      "text/plain": [
       "(<AxesSubplot:>, <matplotlib.colorbar.ColorbarBase at 0x14133e910>)"
      ]
     },
     "execution_count": 145,
     "metadata": {},
     "output_type": "execute_result"
    },
    {
     "data": {
      "image/png": "[encoded data removed]",
      "text/plain": [
       "<Figure size 432x288 with 2 Axes>"
      ]
     },
     "metadata": {
      "needs_background": "light"
     },
     "output_type": "display_data"
    }
   ],
   "source": [
    "dunn = sp.posthoc_dunn(data_AA,val_col='total2',group_col='finalGroup', p_adjust=\"holm\")\n",
    "\n",
    "heatmap_args = {'linewidths': 0.25, 'linecolor': '0.5', 'clip_on': False, 'square': True, 'cbar_ax_bbox': [0.80, 0.35, 0.04, 0.3]}\n",
    "\n",
    "print(dunn)\n",
    "sp.sign_plot(dunn, **heatmap_args)"
   ]
  },
  {
   "cell_type": "code",
   "execution_count": 146,
   "metadata": {},
   "outputs": [
    {
     "name": "stdout",
     "output_type": "stream",
     "text": [
      "          HET        VV        WW\n",
      "HET  1.000000  0.020733  0.897655\n",
      "VV   0.020733  1.000000  0.028522\n",
      "WW   0.897655  0.028522  1.000000\n"
     ]
    },
    {
     "data": {
      "text/plain": [
       "(<AxesSubplot:>, <matplotlib.colorbar.ColorbarBase at 0x13ed3a610>)"
      ]
     },
     "execution_count": 146,
     "metadata": {},
     "output_type": "execute_result"
    },
    {
     "data": {
      "image/png": "[encoded data removed]",
      "text/plain": [
       "<Figure size 432x288 with 2 Axes>"
      ]
     },
     "metadata": {
      "needs_background": "light"
     },
     "output_type": "display_data"
    }
   ],
   "source": [
    "dunn = sp.posthoc_dunn(data_AC,val_col='total2', group_col='finalGroup', p_adjust=\"holm\")\n",
    "\n",
    "heatmap_args = {'linewidths': 0.25, 'linecolor': '0.5', 'clip_on': False, 'square': True, 'cbar_ax_bbox': [0.80, 0.35, 0.04, 0.3]}\n",
    "\n",
    "print(dunn)\n",
    "sp.sign_plot(dunn, **heatmap_args)"
   ]
  },
  {
   "cell_type": "code",
   "execution_count": null,
   "metadata": {},
   "outputs": [],
   "source": []
  },
  {
   "cell_type": "code",
   "execution_count": 147,
   "metadata": {},
   "outputs": [
    {
     "name": "stdout",
     "output_type": "stream",
     "text": [
      "KruskalResult(statistic=0.11059907834101068, pvalue=0.7394631218264296)\n"
     ]
    }
   ],
   "source": [
    "KData = [data.loc[Runs,'total2'].values for Runs in data.groupby('sv').groups.values()]\n",
    "\n",
    "print(scipy.stats.kruskal(*KData))"
   ]
  },
  {
   "cell_type": "code",
   "execution_count": 148,
   "metadata": {},
   "outputs": [],
   "source": [
    "#sp.posthoc_nemenyi_friedman(data,group_col=\"finalGroup\",sort=True,y_col=\"total2\" )"
   ]
  },
  {
   "cell_type": "markdown",
   "metadata": {},
   "source": [
    "Friedman Tes "
   ]
  },
  {
   "cell_type": "markdown",
   "metadata": {},
   "source": [
    "### other"
   ]
  },
  {
   "cell_type": "code",
   "execution_count": 149,
   "metadata": {},
   "outputs": [
    {
     "name": "stdout",
     "output_type": "stream",
     "text": [
      "48.0 0.52447509765625\n"
     ]
    },
    {
     "name": "stderr",
     "output_type": "stream",
     "text": [
      "/usr/local/Cellar/jupyterlab/3.0.10/libexec/lib/python3.9/site-packages/scipy/stats/morestats.py:2956: RuntimeWarning: invalid value encountered in subtract\n"
     ]
    }
   ],
   "source": [
    "a = 0.05\n",
    "\n",
    "w, p = wilcoxon((data_control[\"totalA\"]/data_control[\"totalC\"] ),(data_treatment[\"totalA\"]/data_treatment[\"totalC\"]))\n",
    "print(w, p)"
   ]
  },
  {
   "cell_type": "code",
   "execution_count": 150,
   "metadata": {},
   "outputs": [
    {
     "name": "stdout",
     "output_type": "stream",
     "text": [
      "11.0 0.00335693359375\n"
     ]
    }
   ],
   "source": [
    "a = 0.05\n",
    "\n",
    "w, p = wilcoxon((data_control[\"AVAR2\"]/data_control[\"CVAR2\"] ),(data_treatment[\"AVAR2\"]/data_treatment[\"CVAR2\"]))\n",
    "print(w, p)"
   ]
  },
  {
   "cell_type": "code",
   "execution_count": 151,
   "metadata": {},
   "outputs": [
    {
     "name": "stdout",
     "output_type": "stream",
     "text": [
      "19.0 0.05535888671875\n"
     ]
    }
   ],
   "source": [
    "a = 0.05\n",
    "\n",
    "w, p = wilcoxon((data_control[\"AWT2\"]/data_control[\"CWT2\"] ),(data_treatment[\"AWT2\"]/data_treatment[\"CWT2\"]))\n",
    "print(w, p)"
   ]
  },
  {
   "cell_type": "code",
   "execution_count": 152,
   "metadata": {},
   "outputs": [
    {
     "name": "stderr",
     "output_type": "stream",
     "text": [
      "/usr/local/Cellar/jupyterlab/3.0.10/libexec/lib/python3.9/site-packages/plotnine/stats/stat_bin.py:93: PlotnineWarning: 'stat_bin()' using 'bins = 2'. Pick better value with 'binwidth'.\n"
     ]
    },
    {
     "data": {
      "image/png": "[encoded data removed]",
      "text/plain": [
       "<Figure size 640x480 with 1 Axes>"
      ]
     },
     "metadata": {},
     "output_type": "display_data"
    },
    {
     "data": {
      "text/plain": [
       "<ggplot: (336856233)>"
      ]
     },
     "execution_count": 152,
     "metadata": {},
     "output_type": "execute_result"
    }
   ],
   "source": [
    "ggplot()+geom_histogram(procData,aes(x=\"finalGroup\"))"
   ]
  },
  {
   "cell_type": "code",
   "execution_count": 153,
   "metadata": {},
   "outputs": [
    {
     "name": "stderr",
     "output_type": "stream",
     "text": [
      "/usr/local/Cellar/jupyterlab/3.0.10/libexec/lib/python3.9/site-packages/plotnine/stats/stat_bin.py:93: PlotnineWarning: 'stat_bin()' using 'bins = 3'. Pick better value with 'binwidth'.\n"
     ]
    },
    {
     "data": {
      "image/png": "[encoded data removed]",
      "text/plain": [
       "<Figure size 640x480 with 1 Axes>"
      ]
     },
     "metadata": {},
     "output_type": "display_data"
    },
    {
     "data": {
      "text/plain": [
       "<ggplot: (336691339)>"
      ]
     },
     "execution_count": 153,
     "metadata": {},
     "output_type": "execute_result"
    }
   ],
   "source": [
    "ggplot()+geom_histogram(procData,aes(x=\"mutant\"))"
   ]
  },
  {
   "cell_type": "code",
   "execution_count": 154,
   "metadata": {},
   "outputs": [
    {
     "data": {
      "image/png": "[encoded data removed]",
      "text/plain": [
       "<Figure size 640x480 with 1 Axes>"
      ]
     },
     "metadata": {},
     "output_type": "display_data"
    },
    {
     "data": {
      "text/plain": [
       "<ggplot: (336833265)>"
      ]
     },
     "execution_count": 154,
     "metadata": {},
     "output_type": "execute_result"
    }
   ],
   "source": [
    "ggplot()+geom_bar(procData,aes(x=\"sv\",fill=\"finalGroup\"))"
   ]
  },
  {
   "cell_type": "code",
   "execution_count": 155,
   "metadata": {},
   "outputs": [
    {
     "name": "stderr",
     "output_type": "stream",
     "text": [
      "/usr/local/Cellar/jupyterlab/3.0.10/libexec/lib/python3.9/site-packages/plotnine/layer.py:467: PlotnineWarning: geom_col : Removed 9 rows containing missing values.\n"
     ]
    },
    {
     "data": {
      "image/png": "[encoded data removed]",
      "text/plain": [
       "<Figure size 640x480 with 1 Axes>"
      ]
     },
     "metadata": {},
     "output_type": "display_data"
    },
    {
     "data": {
      "text/plain": [
       "<ggplot: (336614045)>"
      ]
     },
     "execution_count": 155,
     "metadata": {},
     "output_type": "execute_result"
    }
   ],
   "source": [
    "ggplot()+geom_col(procData,aes(x=\"spliceVariant\",y=\"diff_totalA/diff_totalC\",fill=\"mutant\"))"
   ]
  },
  {
   "cell_type": "code",
   "execution_count": 156,
   "metadata": {},
   "outputs": [
    {
     "name": "stderr",
     "output_type": "stream",
     "text": [
      "<ipython-input-156-7ecc4e451223>:2: UserWarning: Boolean Series key will be reindexed to match DataFrame index.\n",
      "/usr/local/Cellar/jupyterlab/3.0.10/libexec/lib/python3.9/site-packages/plotnine/stats/stat_bin.py:93: PlotnineWarning: 'stat_bin()' using 'bins = 3'. Pick better value with 'binwidth'.\n"
     ]
    },
    {
     "data": {
      "image/png": "[encoded data removed]",
      "text/plain": [
       "<Figure size 640x480 with 1 Axes>"
      ]
     },
     "metadata": {},
     "output_type": "display_data"
    },
    {
     "data": {
      "text/plain": [
       "<ggplot: (336581614)>"
      ]
     },
     "execution_count": 156,
     "metadata": {},
     "output_type": "execute_result"
    }
   ],
   "source": [
    "a = 0.05\n",
    "diff_data = procData[(data[\"totalC\"] > 0 ) & (data[\"totalA\"] > 0 )]\n",
    "ggplot()+geom_histogram(diff_data,aes(x=\"tg2\"))"
   ]
  },
  {
   "cell_type": "code",
   "execution_count": 157,
   "metadata": {},
   "outputs": [
    {
     "name": "stdout",
     "output_type": "stream",
     "text": [
      "0.0 0.0009765625\n"
     ]
    }
   ],
   "source": [
    "\n",
    "w, p = wilcoxon((diff_data[\"totalC\"] )/(diff_data[\"totalA\"]))\n",
    "print(w, p)"
   ]
  },
  {
   "cell_type": "code",
   "execution_count": 158,
   "metadata": {},
   "outputs": [
    {
     "name": "stdout",
     "output_type": "stream",
     "text": [
      "13.0 0.00537109375\n"
     ]
    }
   ],
   "source": [
    "a = 0.05\n",
    "\n",
    "w, p = wilcoxon(data_control[\"total2\"],data_treatment[\"total2\"])\n",
    "print(w, p)"
   ]
  },
  {
   "cell_type": "code",
   "execution_count": null,
   "metadata": {},
   "outputs": [],
   "source": []
  },
  {
   "cell_type": "markdown",
   "metadata": {},
   "source": [
    "2 graphs \n",
    "\n",
    "1. Do the Table\n",
    "3. Black and white\n",
    "3. Make sure its not sloppy\n",
    "4. \n",
    "\n",
    "control, LPS & Difference.\n",
    "\n",
    "correlation plot for each patient - total 2 & diff_total2\n",
    "\n",
    "Look for A/C ratios \n",
    "\n",
    "ggplot(data_plot,aes(x='total2',y='ctrl_total2') )  + geom_point(colour) + geom_smooth(method='lm')\n"
   ]
  },
  {
   "cell_type": "markdown",
   "metadata": {},
   "source": []
  },
  {
   "cell_type": "code",
   "execution_count": null,
   "metadata": {},
   "outputs": [],
   "source": []
  },
  {
   "cell_type": "code",
   "execution_count": null,
   "metadata": {},
   "outputs": [],
   "source": []
  },
  {
   "cell_type": "code",
   "execution_count": null,
   "metadata": {},
   "outputs": [],
   "source": []
  }
 ],
 "metadata": {
  "kernelspec": {
   "display_name": "Python 3",
   "language": "python",
   "name": "python3"
  },
  "language_info": {
   "codemirror_mode": {
    "name": "ipython",
    "version": 3
   },
   "file_extension": ".py",
   "mimetype": "text/x-python",
   "name": "python",
   "nbconvert_exporter": "python",
   "pygments_lexer": "ipython3",
   "version": "3.9.2"
  },
  "metadata": {
   "interpreter": {
    "hash": "aee8b7b246df8f9039afb4144a1f6fd8d2ca17a180786b69acc140d282b71a49"
   }
  }
 },
 "nbformat": 4,
 "nbformat_minor": 2
}
